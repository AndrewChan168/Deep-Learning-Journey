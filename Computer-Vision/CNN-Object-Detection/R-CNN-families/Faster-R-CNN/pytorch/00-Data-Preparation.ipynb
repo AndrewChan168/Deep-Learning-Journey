{
 "cells": [
  {
   "cell_type": "code",
   "execution_count": 1,
   "id": "06eae1d3-0707-42a1-a8eb-4fe76f9eada8",
   "metadata": {},
   "outputs": [
    {
     "name": "stdout",
     "output_type": "stream",
     "text": [
      "Collecting selectivesearch\n",
      "  Downloading selectivesearch-0.4.tar.gz (3.8 kB)\n",
      "  Preparing metadata (setup.py) ... \u001b[?25ldone\n",
      "\u001b[?25hCollecting torch_snippets\n",
      "  Downloading torch_snippets-0.552-py3-none-any.whl.metadata (16 kB)\n",
      "Requirement already satisfied: scikit-image in /usr/local/lib/python3.10/site-packages (0.25.0)\n",
      "Requirement already satisfied: numpy in /usr/local/lib/python3.10/site-packages (from selectivesearch) (2.1.3)\n",
      "Collecting fastcore (from torch_snippets)\n",
      "  Downloading fastcore-1.7.28-py3-none-any.whl.metadata (3.6 kB)\n",
      "Requirement already satisfied: matplotlib in /usr/local/lib/python3.10/site-packages (from torch_snippets) (3.9.3)\n",
      "Requirement already satisfied: Pillow in /usr/local/lib/python3.10/site-packages (from torch_snippets) (11.1.0)\n",
      "Requirement already satisfied: dill in /usr/local/lib/python3.10/site-packages (from torch_snippets) (0.3.8)\n",
      "Collecting loguru (from torch_snippets)\n",
      "  Downloading loguru-0.7.3-py3-none-any.whl.metadata (22 kB)\n",
      "Requirement already satisfied: pandas in /usr/local/lib/python3.10/site-packages (from torch_snippets) (2.2.3)\n",
      "Requirement already satisfied: tqdm in /usr/local/lib/python3.10/site-packages (from torch_snippets) (4.67.1)\n",
      "Collecting rich (from torch_snippets)\n",
      "  Downloading rich-13.9.4-py3-none-any.whl.metadata (18 kB)\n",
      "Requirement already satisfied: PyYAML in /usr/local/lib/python3.10/site-packages (from torch_snippets) (6.0.2)\n",
      "Collecting catalogue (from torch_snippets)\n",
      "  Downloading catalogue-2.0.10-py3-none-any.whl.metadata (14 kB)\n",
      "Collecting confection (from torch_snippets)\n",
      "  Downloading confection-0.1.5-py3-none-any.whl.metadata (19 kB)\n",
      "Collecting pydantic (from torch_snippets)\n",
      "  Downloading pydantic-2.10.6-py3-none-any.whl.metadata (30 kB)\n",
      "Collecting typing (from torch_snippets)\n",
      "  Downloading typing-3.7.4.3.tar.gz (78 kB)\n",
      "  Preparing metadata (setup.py) ... \u001b[?25ldone\n",
      "\u001b[?25hCollecting srsly (from torch_snippets)\n",
      "  Downloading srsly-2.5.1-cp310-cp310-manylinux_2_17_x86_64.manylinux2014_x86_64.whl.metadata (19 kB)\n",
      "Requirement already satisfied: typing-extensions in /usr/local/lib/python3.10/site-packages (from torch_snippets) (4.12.2)\n",
      "Collecting wasabi (from torch_snippets)\n",
      "  Downloading wasabi-1.1.3-py3-none-any.whl.metadata (28 kB)\n",
      "Collecting jsonlines (from torch_snippets)\n",
      "  Downloading jsonlines-4.0.0-py3-none-any.whl.metadata (1.6 kB)\n",
      "Collecting imgaug>=0.4.0 (from torch_snippets)\n",
      "  Downloading imgaug-0.4.0-py2.py3-none-any.whl.metadata (1.8 kB)\n",
      "Collecting xmltodict (from torch_snippets)\n",
      "  Downloading xmltodict-0.14.2-py2.py3-none-any.whl.metadata (8.0 kB)\n",
      "Collecting fuzzywuzzy (from torch_snippets)\n",
      "  Downloading fuzzywuzzy-0.18.0-py2.py3-none-any.whl.metadata (4.9 kB)\n",
      "Requirement already satisfied: nltk in /usr/local/lib/python3.10/site-packages (from torch_snippets) (3.9.1)\n",
      "Collecting python-Levenshtein (from torch_snippets)\n",
      "  Downloading python_Levenshtein-0.26.1-py3-none-any.whl.metadata (3.7 kB)\n",
      "Collecting pre-commit (from torch_snippets)\n",
      "  Downloading pre_commit-4.1.0-py2.py3-none-any.whl.metadata (1.3 kB)\n",
      "Collecting icecream (from torch_snippets)\n",
      "  Downloading icecream-2.1.4-py3-none-any.whl.metadata (1.3 kB)\n",
      "Collecting mergedeep (from torch_snippets)\n",
      "  Downloading mergedeep-1.3.4-py3-none-any.whl.metadata (4.3 kB)\n",
      "Collecting deepdiff (from torch_snippets)\n",
      "  Downloading deepdiff-8.1.1-py3-none-any.whl.metadata (9.5 kB)\n",
      "Collecting typer (from torch_snippets)\n",
      "  Downloading typer-0.15.1-py3-none-any.whl.metadata (15 kB)\n",
      "Requirement already satisfied: scipy>=1.11.2 in /usr/local/lib/python3.10/site-packages (from scikit-image) (1.15.1)\n",
      "Requirement already satisfied: networkx>=3.0 in /usr/local/lib/python3.10/site-packages (from scikit-image) (3.4.2)\n",
      "Requirement already satisfied: imageio!=2.35.0,>=2.33 in /usr/local/lib/python3.10/site-packages (from scikit-image) (2.37.0)\n",
      "Requirement already satisfied: tifffile>=2022.8.12 in /usr/local/lib/python3.10/site-packages (from scikit-image) (2025.1.10)\n",
      "Requirement already satisfied: packaging>=21 in /usr/local/lib/python3.10/site-packages (from scikit-image) (24.2)\n",
      "Requirement already satisfied: lazy-loader>=0.4 in /usr/local/lib/python3.10/site-packages (from scikit-image) (0.4)\n",
      "Requirement already satisfied: six in /usr/local/lib/python3.10/site-packages (from imgaug>=0.4.0->torch_snippets) (1.17.0)\n",
      "Requirement already satisfied: opencv-python in /usr/local/lib/python3.10/site-packages (from imgaug>=0.4.0->torch_snippets) (4.10.0.84)\n",
      "Collecting Shapely (from imgaug>=0.4.0->torch_snippets)\n",
      "  Downloading shapely-2.0.6-cp310-cp310-manylinux_2_17_x86_64.manylinux2014_x86_64.whl.metadata (7.0 kB)\n",
      "Collecting annotated-types>=0.6.0 (from pydantic->torch_snippets)\n",
      "  Downloading annotated_types-0.7.0-py3-none-any.whl.metadata (15 kB)\n",
      "Collecting pydantic-core==2.27.2 (from pydantic->torch_snippets)\n",
      "  Downloading pydantic_core-2.27.2-cp310-cp310-manylinux_2_17_x86_64.manylinux2014_x86_64.whl.metadata (6.6 kB)\n",
      "Collecting orderly-set<6,>=5.2.3 (from deepdiff->torch_snippets)\n",
      "  Downloading orderly_set-5.2.3-py3-none-any.whl.metadata (6.0 kB)\n",
      "Collecting colorama>=0.3.9 (from icecream->torch_snippets)\n",
      "  Downloading colorama-0.4.6-py2.py3-none-any.whl.metadata (17 kB)\n",
      "Requirement already satisfied: pygments>=2.2.0 in /usr/local/lib/python3.10/site-packages (from icecream->torch_snippets) (2.19.1)\n",
      "Requirement already satisfied: executing>=2.1.0 in /usr/local/lib/python3.10/site-packages (from icecream->torch_snippets) (2.1.0)\n",
      "Requirement already satisfied: asttokens>=2.0.1 in /usr/local/lib/python3.10/site-packages (from icecream->torch_snippets) (3.0.0)\n",
      "Requirement already satisfied: attrs>=19.2.0 in /usr/local/lib/python3.10/site-packages (from jsonlines->torch_snippets) (24.3.0)\n",
      "Requirement already satisfied: contourpy>=1.0.1 in /usr/local/lib/python3.10/site-packages (from matplotlib->torch_snippets) (1.3.1)\n",
      "Requirement already satisfied: cycler>=0.10 in /usr/local/lib/python3.10/site-packages (from matplotlib->torch_snippets) (0.12.1)\n",
      "Requirement already satisfied: fonttools>=4.22.0 in /usr/local/lib/python3.10/site-packages (from matplotlib->torch_snippets) (4.55.3)\n",
      "Requirement already satisfied: kiwisolver>=1.3.1 in /usr/local/lib/python3.10/site-packages (from matplotlib->torch_snippets) (1.4.8)\n",
      "Requirement already satisfied: pyparsing>=2.3.1 in /usr/local/lib/python3.10/site-packages (from matplotlib->torch_snippets) (3.2.1)\n",
      "Requirement already satisfied: python-dateutil>=2.7 in /usr/local/lib/python3.10/site-packages (from matplotlib->torch_snippets) (2.9.0.post0)\n",
      "Requirement already satisfied: click in /usr/local/lib/python3.10/site-packages (from nltk->torch_snippets) (8.1.8)\n",
      "Requirement already satisfied: joblib in /usr/local/lib/python3.10/site-packages (from nltk->torch_snippets) (1.4.2)\n",
      "Requirement already satisfied: regex>=2021.8.3 in /usr/local/lib/python3.10/site-packages (from nltk->torch_snippets) (2024.11.6)\n",
      "Requirement already satisfied: pytz>=2020.1 in /usr/local/lib/python3.10/site-packages (from pandas->torch_snippets) (2024.2)\n",
      "Requirement already satisfied: tzdata>=2022.7 in /usr/local/lib/python3.10/site-packages (from pandas->torch_snippets) (2024.2)\n",
      "Collecting cfgv>=2.0.0 (from pre-commit->torch_snippets)\n",
      "  Downloading cfgv-3.4.0-py2.py3-none-any.whl.metadata (8.5 kB)\n",
      "Collecting identify>=1.0.0 (from pre-commit->torch_snippets)\n",
      "  Downloading identify-2.6.6-py2.py3-none-any.whl.metadata (4.4 kB)\n",
      "Collecting nodeenv>=0.11.1 (from pre-commit->torch_snippets)\n",
      "  Downloading nodeenv-1.9.1-py2.py3-none-any.whl.metadata (21 kB)\n",
      "Collecting virtualenv>=20.10.0 (from pre-commit->torch_snippets)\n",
      "  Downloading virtualenv-20.29.1-py3-none-any.whl.metadata (4.5 kB)\n",
      "Collecting Levenshtein==0.26.1 (from python-Levenshtein->torch_snippets)\n",
      "  Downloading levenshtein-0.26.1-cp310-cp310-manylinux_2_17_x86_64.manylinux2014_x86_64.whl.metadata (3.2 kB)\n",
      "Collecting rapidfuzz<4.0.0,>=3.9.0 (from Levenshtein==0.26.1->python-Levenshtein->torch_snippets)\n",
      "  Downloading rapidfuzz-3.11.0-cp310-cp310-manylinux_2_17_x86_64.manylinux2014_x86_64.whl.metadata (11 kB)\n",
      "Collecting markdown-it-py>=2.2.0 (from rich->torch_snippets)\n",
      "  Downloading markdown_it_py-3.0.0-py3-none-any.whl.metadata (6.9 kB)\n",
      "Collecting shellingham>=1.3.0 (from typer->torch_snippets)\n",
      "  Downloading shellingham-1.5.4-py2.py3-none-any.whl.metadata (3.5 kB)\n",
      "Collecting mdurl~=0.1 (from markdown-it-py>=2.2.0->rich->torch_snippets)\n",
      "  Downloading mdurl-0.1.2-py3-none-any.whl.metadata (1.6 kB)\n",
      "Collecting distlib<1,>=0.3.7 (from virtualenv>=20.10.0->pre-commit->torch_snippets)\n",
      "  Downloading distlib-0.3.9-py2.py3-none-any.whl.metadata (5.2 kB)\n",
      "Requirement already satisfied: filelock<4,>=3.12.2 in /usr/local/lib/python3.10/site-packages (from virtualenv>=20.10.0->pre-commit->torch_snippets) (3.16.1)\n",
      "Requirement already satisfied: platformdirs<5,>=3.9.1 in /usr/local/lib/python3.10/site-packages (from virtualenv>=20.10.0->pre-commit->torch_snippets) (4.3.6)\n",
      "Downloading torch_snippets-0.552-py3-none-any.whl (107 kB)\n",
      "Downloading imgaug-0.4.0-py2.py3-none-any.whl (948 kB)\n",
      "\u001b[2K   \u001b[90m━━━━━━━━━━━━━━━━━━━━━━━━━━━━━━━━━━━━━━━━\u001b[0m \u001b[32m948.0/948.0 kB\u001b[0m \u001b[31m2.4 MB/s\u001b[0m eta \u001b[36m0:00:00\u001b[0m-:--:--\u001b[0m\n",
      "\u001b[?25hDownloading catalogue-2.0.10-py3-none-any.whl (17 kB)\n",
      "Downloading confection-0.1.5-py3-none-any.whl (35 kB)\n",
      "Downloading pydantic-2.10.6-py3-none-any.whl (431 kB)\n",
      "Downloading pydantic_core-2.27.2-cp310-cp310-manylinux_2_17_x86_64.manylinux2014_x86_64.whl (2.0 MB)\n",
      "\u001b[2K   \u001b[90m━━━━━━━━━━━━━━━━━━━━━━━━━━━━━━━━━━━━━━━━\u001b[0m \u001b[32m2.0/2.0 MB\u001b[0m \u001b[31m2.3 MB/s\u001b[0m eta \u001b[36m0:00:00\u001b[0ma \u001b[36m0:00:01\u001b[0m\n",
      "Downloading srsly-2.5.1-cp310-cp310-manylinux_2_17_x86_64.manylinux2014_x86_64.whl (1.1 MB)\n",
      "\u001b[2K   \u001b[90m━━━━━━━━━━━━━━━━━━━━━━━━━━━━━━━━━━━━━━━━\u001b[0m \u001b[32m1.1/1.1 MB\u001b[0m \u001b[31m2.4 MB/s\u001b[0m eta \u001b[36m0:00:00\u001b[0ma \u001b[36m0:00:01\u001b[0m\n",
      "\u001b[?25hDownloading deepdiff-8.1.1-py3-none-any.whl (84 kB)\n",
      "Downloading fastcore-1.7.28-py3-none-any.whl (84 kB)\n",
      "Downloading fuzzywuzzy-0.18.0-py2.py3-none-any.whl (18 kB)\n",
      "Downloading icecream-2.1.4-py3-none-any.whl (14 kB)\n",
      "Downloading jsonlines-4.0.0-py3-none-any.whl (8.7 kB)\n",
      "Downloading loguru-0.7.3-py3-none-any.whl (61 kB)\n",
      "Downloading mergedeep-1.3.4-py3-none-any.whl (6.4 kB)\n",
      "Downloading pre_commit-4.1.0-py2.py3-none-any.whl (220 kB)\n",
      "Downloading python_Levenshtein-0.26.1-py3-none-any.whl (9.4 kB)\n",
      "Downloading levenshtein-0.26.1-cp310-cp310-manylinux_2_17_x86_64.manylinux2014_x86_64.whl (162 kB)\n",
      "Downloading rich-13.9.4-py3-none-any.whl (242 kB)\n",
      "Downloading typer-0.15.1-py3-none-any.whl (44 kB)\n",
      "Downloading wasabi-1.1.3-py3-none-any.whl (27 kB)\n",
      "Downloading xmltodict-0.14.2-py2.py3-none-any.whl (10.0 kB)\n",
      "Downloading annotated_types-0.7.0-py3-none-any.whl (13 kB)\n",
      "Downloading cfgv-3.4.0-py2.py3-none-any.whl (7.2 kB)\n",
      "Downloading colorama-0.4.6-py2.py3-none-any.whl (25 kB)\n",
      "Downloading identify-2.6.6-py2.py3-none-any.whl (99 kB)\n",
      "Downloading markdown_it_py-3.0.0-py3-none-any.whl (87 kB)\n",
      "Downloading nodeenv-1.9.1-py2.py3-none-any.whl (22 kB)\n",
      "Downloading orderly_set-5.2.3-py3-none-any.whl (12 kB)\n",
      "Downloading shellingham-1.5.4-py2.py3-none-any.whl (9.8 kB)\n",
      "Downloading virtualenv-20.29.1-py3-none-any.whl (4.3 MB)\n",
      "\u001b[2K   \u001b[90m━━━━━━━━━━━━━━━━━━━━━━━━━━━━━━━━━━━━━━━━\u001b[0m \u001b[32m4.3/4.3 MB\u001b[0m \u001b[31m2.3 MB/s\u001b[0m eta \u001b[36m0:00:00\u001b[0m00:01\u001b[0m00:01\u001b[0m\n",
      "\u001b[?25hDownloading shapely-2.0.6-cp310-cp310-manylinux_2_17_x86_64.manylinux2014_x86_64.whl (2.5 MB)\n",
      "\u001b[2K   \u001b[90m━━━━━━━━━━━━━━━━━━━━━━━━━━━━━━━━━━━━━━━━\u001b[0m \u001b[32m2.5/2.5 MB\u001b[0m \u001b[31m2.4 MB/s\u001b[0m eta \u001b[36m0:00:00\u001b[0ma \u001b[36m0:00:01\u001b[0m\n",
      "\u001b[?25hDownloading distlib-0.3.9-py2.py3-none-any.whl (468 kB)\n",
      "Downloading mdurl-0.1.2-py3-none-any.whl (10.0 kB)\n",
      "Downloading rapidfuzz-3.11.0-cp310-cp310-manylinux_2_17_x86_64.manylinux2014_x86_64.whl (3.1 MB)\n",
      "\u001b[2K   \u001b[90m━━━━━━━━━━━━━━━━━━━━━━━━━━━━━━━━━━━━━━━━\u001b[0m \u001b[32m3.1/3.1 MB\u001b[0m \u001b[31m2.0 MB/s\u001b[0m eta \u001b[36m0:00:00\u001b[0ma \u001b[36m0:00:01\u001b[0m\n",
      "Building wheels for collected packages: selectivesearch, typing\n",
      "  Building wheel for selectivesearch (setup.py) ... \u001b[?2done\n",
      "\u001b[?25h  Created wheel for selectivesearch: filename=selectivesearch-0.4-py3-none-any.whl size=4335 sha256=7ba77b6ff7f8ad07192393aa38c2fb69ccf933fed67d033c79b48ea688b674b8\n",
      "  Stored in directory: /root/.cache/pip/wheels/0e/49/95/01447a4e0f48a135ac91fbdb1dd2a1c0523e40e29957b383a3\n",
      "  Building wheel for typing (setup.py) ... \u001b[?25done\n",
      "\u001b[?25h  Created wheel for typing: filename=typing-3.7.4.3-py3-none-any.whl size=26304 sha256=5249d40367a3b5f0f6135df3805bdebd87351bda5c7cc35cd1d9f6f3239b027d\n",
      "  Stored in directory: /root/.cache/pip/wheels/7c/d0/9e/1f26ebb66d9e1732e4098bc5a6c2d91f6c9a529838f0284890\n",
      "Successfully built selectivesearch typing\n",
      "Installing collected packages: fuzzywuzzy, distlib, xmltodict, wasabi, virtualenv, typing, shellingham, Shapely, rapidfuzz, pydantic-core, orderly-set, nodeenv, mergedeep, mdurl, loguru, jsonlines, identify, fastcore, colorama, cfgv, catalogue, annotated-types, srsly, pydantic, pre-commit, markdown-it-py, Levenshtein, icecream, deepdiff, selectivesearch, rich, python-Levenshtein, imgaug, confection, typer, torch_snippets\n",
      "Successfully installed Levenshtein-0.26.1 Shapely-2.0.6 annotated-types-0.7.0 catalogue-2.0.10 cfgv-3.4.0 colorama-0.4.6 confection-0.1.5 deepdiff-8.1.1 distlib-0.3.9 fastcore-1.7.28 fuzzywuzzy-0.18.0 icecream-2.1.4 identify-2.6.6 imgaug-0.4.0 jsonlines-4.0.0 loguru-0.7.3 markdown-it-py-3.0.0 mdurl-0.1.2 mergedeep-1.3.4 nodeenv-1.9.1 orderly-set-5.2.3 pre-commit-4.1.0 pydantic-2.10.6 pydantic-core-2.27.2 python-Levenshtein-0.26.1 rapidfuzz-3.11.0 rich-13.9.4 selectivesearch-0.4 shellingham-1.5.4 srsly-2.5.1 torch_snippets-0.552 typer-0.15.1 typing-3.7.4.3 virtualenv-20.29.1 wasabi-1.1.3 xmltodict-0.14.2\n",
      "\u001b[33mWARNING: Running pip as the 'root' user can result in broken permissions and conflicting behaviour with the system package manager, possibly rendering your system unusable.It is recommended to use a virtual environment instead: https://pip.pypa.io/warnings/venv. Use the --root-user-action option if you know what you are doing and want to suppress this warning.\u001b[0m\u001b[33m\n",
      "\u001b[0m"
     ]
    }
   ],
   "source": [
    "!pip install selectivesearch torch_snippets scikit-image"
   ]
  },
  {
   "cell_type": "code",
   "execution_count": 2,
   "id": "7778a360-9d61-4079-adb1-dc33c064d64d",
   "metadata": {},
   "outputs": [
    {
     "name": "stdout",
     "output_type": "stream",
     "text": [
      "selectivesearch==0.4\n"
     ]
    }
   ],
   "source": [
    "!pip freeze | grep selectivesearch"
   ]
  },
  {
   "cell_type": "code",
   "execution_count": 3,
   "id": "801cee44-481b-4ab8-8d8b-54302ee67faa",
   "metadata": {},
   "outputs": [
    {
     "name": "stdout",
     "output_type": "stream",
     "text": [
      "torch_snippets==0.552\n"
     ]
    }
   ],
   "source": [
    "!pip freeze | grep torch_snippets"
   ]
  },
  {
   "cell_type": "code",
   "execution_count": 4,
   "id": "35ebd588-52f1-4206-98f2-63f2da948f35",
   "metadata": {},
   "outputs": [
    {
     "name": "stdout",
     "output_type": "stream",
     "text": [
      "scikit-image==0.25.0\n"
     ]
    }
   ],
   "source": [
    "!pip freeze | grep scikit-image"
   ]
  },
  {
   "cell_type": "markdown",
   "id": "7fe07642-47cc-4b7d-b55b-fe6c7693e88f",
   "metadata": {},
   "source": [
    "## Download data from kaggle\n",
    "We are going to use subset of Google Open Images V6 dataset. We are using truck or bus dataset. The dataset is available in kaggle.\n",
    "The link to dataset: https://www.kaggle.com/datasets/sixhky/open-images-bus-trucks.<br>\n",
    "<br>\n",
    "First we install the kaggle command by `pip`. "
   ]
  },
  {
   "cell_type": "code",
   "execution_count": 1,
   "id": "7249fb85-b516-4436-9126-d43f9c214401",
   "metadata": {},
   "outputs": [
    {
     "name": "stdout",
     "output_type": "stream",
     "text": [
      "Collecting kagglehub\n",
      "  Downloading kagglehub-0.3.6-py3-none-any.whl.metadata (30 kB)\n",
      "Requirement already satisfied: packaging in /usr/local/lib/python3.10/site-packages (from kagglehub) (24.2)\n",
      "Requirement already satisfied: requests in /usr/local/lib/python3.10/site-packages (from kagglehub) (2.32.3)\n",
      "Requirement already satisfied: tqdm in /usr/local/lib/python3.10/site-packages (from kagglehub) (4.67.1)\n",
      "Requirement already satisfied: charset-normalizer<4,>=2 in /usr/local/lib/python3.10/site-packages (from requests->kagglehub) (3.4.1)\n",
      "Requirement already satisfied: idna<4,>=2.5 in /usr/local/lib/python3.10/site-packages (from requests->kagglehub) (3.10)\n",
      "Requirement already satisfied: urllib3<3,>=1.21.1 in /usr/local/lib/python3.10/site-packages (from requests->kagglehub) (2.3.0)\n",
      "Requirement already satisfied: certifi>=2017.4.17 in /usr/local/lib/python3.10/site-packages (from requests->kagglehub) (2024.12.14)\n",
      "Downloading kagglehub-0.3.6-py3-none-any.whl (51 kB)\n",
      "Installing collected packages: kagglehub\n",
      "Successfully installed kagglehub-0.3.6\n",
      "\u001b[33mWARNING: Running pip as the 'root' user can result in broken permissions and conflicting behaviour with the system package manager, possibly rendering your system unusable.It is recommended to use a virtual environment instead: https://pip.pypa.io/warnings/venv. Use the --root-user-action option if you know what you are doing and want to suppress this warning.\u001b[0m\u001b[33m\n",
      "\u001b[0m"
     ]
    }
   ],
   "source": [
    "!pip install kagglehub"
   ]
  },
  {
   "cell_type": "code",
   "execution_count": null,
   "id": "427a4b99-1ff1-4b47-9586-53a13a989e53",
   "metadata": {},
   "outputs": [
    {
     "name": "stderr",
     "output_type": "stream",
     "text": [
      "/usr/local/lib/python3.10/site-packages/tqdm/auto.py:21: TqdmWarning: IProgress not found. Please update jupyter and ipywidgets. See https://ipywidgets.readthedocs.io/en/stable/user_install.html\n",
      "  from .autonotebook import tqdm as notebook_tqdm\n"
     ]
    }
   ],
   "source": [
    "import os\n",
    "import kagglehub\n",
    "\n",
    "source_path = kagglehub.dataset_download(\"sixhky/open-images-bus-trucks\")\n",
    "\n",
    "if not os.path.exists('data'):\n",
    "    os.makedirs('data')"
   ]
  },
  {
   "cell_type": "code",
   "execution_count": null,
   "id": "08c973ea-ce75-4ab5-89fe-648a171558c5",
   "metadata": {},
   "outputs": [],
   "source": [
    "print(source_path)"
   ]
  },
  {
   "cell_type": "code",
   "execution_count": null,
   "id": "f181b8db-7d26-4d8e-90c6-b2d65d102dfd",
   "metadata": {},
   "outputs": [],
   "source": [
    "import shutil\n",
    "\n",
    "df_source_path = os.path.join(source_path, 'df.csv')\n",
    "shutil.move(os.path.join(source_path, 'df.csv'), os.path.join('data', 'df.csv'))"
   ]
  },
  {
   "cell_type": "code",
   "execution_count": null,
   "id": "8b45cd45-d448-4c37-b5d3-7a7d9542f397",
   "metadata": {},
   "outputs": [],
   "source": [
    "images_source_path = os.path.join(source_path, 'images')\n",
    "images_destination_path = os.path.join('data', 'images')\n",
    "\n",
    "if not os.path.exists(images_destination_path):\n",
    "    os.makedirs(images_destination_path)\n",
    "\n",
    "for img_nme in os.listdir(images_source_path):\n",
    "    shutil.move(os.path.join(images_source_path, img_nme), os.path.join(images_destination_path, img_nme))"
   ]
  }
 ],
 "metadata": {
  "kernelspec": {
   "display_name": "Python 3 (ipykernel)",
   "language": "python",
   "name": "python3"
  },
  "language_info": {
   "codemirror_mode": {
    "name": "ipython",
    "version": 3
   },
   "file_extension": ".py",
   "mimetype": "text/x-python",
   "name": "python",
   "nbconvert_exporter": "python",
   "pygments_lexer": "ipython3",
   "version": "3.10.16"
  }
 },
 "nbformat": 4,
 "nbformat_minor": 5
}
