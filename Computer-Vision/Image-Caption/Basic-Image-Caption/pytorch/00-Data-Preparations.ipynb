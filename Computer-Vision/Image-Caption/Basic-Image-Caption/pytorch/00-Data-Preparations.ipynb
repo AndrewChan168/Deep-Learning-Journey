{
 "cells": [
  {
   "cell_type": "markdown",
   "id": "380c6365-2bae-4ea4-a2df-26a7b76fcd26",
   "metadata": {},
   "source": [
    "## Download Data"
   ]
  },
  {
   "cell_type": "code",
   "execution_count": 1,
   "id": "095984c0-178c-469b-ae86-bbcbe6441820",
   "metadata": {},
   "outputs": [
    {
     "name": "stdout",
     "output_type": "stream",
     "text": [
      "Reading package lists... Done\n",
      "Building dependency tree... Done\n",
      "Reading state information... Done\n",
      "wget is already the newest version (1.21.3-1+b2).\n",
      "0 upgraded, 0 newly installed, 0 to remove and 11 not upgraded.\n"
     ]
    }
   ],
   "source": [
    "!apt-get install wget -y"
   ]
  },
  {
   "cell_type": "code",
   "execution_count": 1,
   "id": "6e5645f6-5731-47c0-bcd1-4bd68f55b695",
   "metadata": {},
   "outputs": [
    {
     "name": "stdout",
     "output_type": "stream",
     "text": [
      "mkdir: cannot create directory ‘data’: File exists\n",
      "--2025-01-21 06:36:11--  http://images.cocodataset.org/annotations/annotations_trainval2014.zip\n",
      "Resolving images.cocodataset.org (images.cocodataset.org)... 3.5.25.199, 52.217.84.148, 3.5.27.69, ...\n",
      "connected. to images.cocodataset.org (images.cocodataset.org)|3.5.25.199|:80... \n",
      "200 OKequest sent, awaiting response... \n",
      "Length: 252872794 (241M) [application/zip]\n",
      "Saving to: ‘./data/annotations_trainval2014.zip.2’\n",
      "\n",
      "annotations_trainva 100%[===================>] 241.16M  2.14MB/s    in 2m 14s  \n",
      "\n",
      "2025-01-21 06:38:26 (1.79 MB/s) - ‘./data/annotations_trainval2014.zip.2’ saved [252872794/252872794]\n",
      "\n",
      "--2025-01-21 06:38:26--  http://images.cocodataset.org/zips/train2014.zip\n",
      "Resolving images.cocodataset.org (images.cocodataset.org)... 52.217.98.76, 3.5.16.100, 52.217.80.228, ...\n",
      "connected. to images.cocodataset.org (images.cocodataset.org)|52.217.98.76|:80... \n",
      "200 OKequest sent, awaiting response... \n",
      "Length: 13510573713 (13G) [application/zip]\n",
      "Saving to: ‘./data/train2014.zip.2’\n",
      "\n",
      "train2014.zip.2     100%[===================>]  12.58G  2.23MB/s    in 1h 52m  \n",
      "\n",
      "2025-01-21 08:30:58 (1.91 MB/s) - ‘./data/train2014.zip.2’ saved [13510573713/13510573713]\n",
      "\n",
      "--2025-01-21 08:30:58--  http://images.cocodataset.org/zips/val2014.zip\n",
      "52.216.51.193, 16.15.200.191, 3.5.9.180, ...odataset.org)... \n",
      "connected. to images.cocodataset.org (images.cocodataset.org)|52.216.51.193|:80... \n",
      "200 OKequest sent, awaiting response... \n",
      "Length: 6645013297 (6.2G) [application/zip]\n",
      "Saving to: ‘./data/val2014.zip.2’\n",
      "\n",
      "val2014.zip.2        88%[================>   ]   5.47G  2.16MB/s    eta 6m 31s "
     ]
    },
    {
     "name": "stderr",
     "output_type": "stream",
     "text": [
      "IOPub message rate exceeded.\n",
      "The Jupyter server will temporarily stop sending output\n",
      "to the client in order to avoid crashing it.\n",
      "To change this limit, set the config variable\n",
      "`--ServerApp.iopub_msg_rate_limit`.\n",
      "\n",
      "Current values:\n",
      "ServerApp.iopub_msg_rate_limit=1000.0 (msgs/sec)\n",
      "ServerApp.rate_limit_window=3.0 (secs)\n",
      "\n"
     ]
    }
   ],
   "source": [
    "!mkdir data\n",
    "\n",
    "!wget http://images.cocodataset.org/annotations/annotations_trainval2014.zip -P ./data/\n",
    "!wget http://images.cocodataset.org/zips/train2014.zip -P ./data/\n",
    "!wget http://images.cocodataset.org/zips/val2014.zip -P ./data/"
   ]
  },
  {
   "cell_type": "code",
   "execution_count": null,
   "id": "46f4aacf-4f00-4ee1-8e23-1301477136b1",
   "metadata": {},
   "outputs": [],
   "source": [
    "# extract zipped images and annotations and remove the zip files\n",
    "\n",
    "!apt-get install zip unzip -y\n",
    "\n",
    "!unzip ./data/annotations_trainval2014.zip -d ./data/\n",
    "!rm ./data/annotations_trainval2014.zip\n",
    "!unzip ./data/train2014.zip -d ./data/\n",
    "!rm ./data/train2014.zip \n",
    "!unzip ./data/val2014.zip -d ./data/ \n",
    "!rm ./data/val2014.zip"
   ]
  },
  {
   "cell_type": "code",
   "execution_count": 3,
   "id": "df4e8667-da45-496b-b83f-59a7fe6d89d7",
   "metadata": {},
   "outputs": [
    {
     "name": "stdout",
     "output_type": "stream",
     "text": [
      "total 6924\n",
      "drwxr-xr-x 2 root root    4096 Jan 21 10:08 annotations\n",
      "drwxrwxr-x 2 root root 4706304 Aug 16  2014 train2014\n",
      "drwxrwxr-x 2 root root 2379776 Aug 16  2014 val2014\n"
     ]
    }
   ],
   "source": [
    "!ls -ll data"
   ]
  },
  {
   "cell_type": "markdown",
   "id": "0a24e477-782d-4580-a5ca-6067159ab90f",
   "metadata": {},
   "source": [
    "#### What is inside the annotations"
   ]
  },
  {
   "cell_type": "code",
   "execution_count": 4,
   "id": "487a5069-3bae-46d6-badf-234c52abdeef",
   "metadata": {},
   "outputs": [
    {
     "name": "stdout",
     "output_type": "stream",
     "text": [
      "total 825040\n",
      "-rw-rw-r-- 1 root root  66782097 Sep  1  2017 captions_train2014.json\n",
      "-rw-rw-r-- 1 root root  32421077 Sep  1  2017 captions_val2014.json\n",
      "-rw-rw-r-- 1 root root 332556225 Sep  1  2017 instances_train2014.json\n",
      "-rw-rw-r-- 1 root root 160682675 Sep  1  2017 instances_val2014.json\n",
      "-rw-r--r-- 1 root root 170733465 Sep  1  2017 person_keypoints_train2014.json\n",
      "-rw-r--r-- 1 root root  81637509 Sep  1  2017 person_keypoints_val2014.json\n"
     ]
    }
   ],
   "source": [
    "!ls -ll data/annotations"
   ]
  },
  {
   "cell_type": "code",
   "execution_count": 5,
   "id": "391a3e28-6286-4ddb-abb9-e99684d49871",
   "metadata": {},
   "outputs": [],
   "source": [
    "import json"
   ]
  },
  {
   "cell_type": "markdown",
   "id": "13af4d06-bbe8-4533-9216-f056304663ec",
   "metadata": {},
   "source": [
    "#### take a look on captions json"
   ]
  },
  {
   "cell_type": "code",
   "execution_count": 6,
   "id": "93aa1c5c-5114-4e9b-aec8-8f79d0d173ec",
   "metadata": {},
   "outputs": [
    {
     "data": {
      "text/plain": [
       "dict_keys(['info', 'images', 'licenses', 'annotations'])"
      ]
     },
     "execution_count": 6,
     "metadata": {},
     "output_type": "execute_result"
    }
   ],
   "source": [
    "with open('data/annotations/captions_train2014.json', 'r') as file:\n",
    "    captions = json.load(file)\n",
    "captions.keys()"
   ]
  },
  {
   "cell_type": "code",
   "execution_count": 13,
   "id": "af2693a6-75e9-4bf7-a55c-40f1964527c5",
   "metadata": {},
   "outputs": [
    {
     "name": "stdout",
     "output_type": "stream",
     "text": [
      "Type of 'images' is <class 'list'>\n"
     ]
    }
   ],
   "source": [
    "print(f\"Type of 'images' is {type(captions['images'])}\")"
   ]
  },
  {
   "cell_type": "code",
   "execution_count": 14,
   "id": "66696f9f-d62c-49e0-a02b-5a055d6fc1e6",
   "metadata": {},
   "outputs": [
    {
     "name": "stdout",
     "output_type": "stream",
     "text": [
      "One sample from captions['images']:\n",
      "\n",
      "{'license': 5, 'file_name': 'COCO_train2014_000000057870.jpg', 'coco_url': 'http://images.cocodataset.org/train2014/COCO_train2014_000000057870.jpg', 'height': 480, 'width': 640, 'date_captured': '2013-11-14 16:28:13', 'flickr_url': 'http://farm4.staticflickr.com/3153/2970773875_164f0c0b83_z.jpg', 'id': 57870}\n"
     ]
    }
   ],
   "source": [
    "print(\"One sample from captions['images']:\\n\")\n",
    "print(captions['images'][0])"
   ]
  },
  {
   "cell_type": "code",
   "execution_count": 12,
   "id": "63997a1b-4dce-4e52-b3e3-9f5217f7db0c",
   "metadata": {},
   "outputs": [
    {
     "name": "stdout",
     "output_type": "stream",
     "text": [
      "Type of 'annotations' is <class 'list'>\n"
     ]
    }
   ],
   "source": [
    "print(f\"Type of 'annotations' is {type(captions['annotations'])}\")"
   ]
  },
  {
   "cell_type": "code",
   "execution_count": 15,
   "id": "cce7ac1a-309a-48d3-9cee-26a5577556be",
   "metadata": {},
   "outputs": [
    {
     "name": "stdout",
     "output_type": "stream",
     "text": [
      "One sample from captions['annotations']:\n",
      "\n",
      "{'image_id': 318556, 'id': 48, 'caption': 'A very clean and well decorated empty bathroom'}\n"
     ]
    }
   ],
   "source": [
    "print(\"One sample from captions['annotations']:\\n\")\n",
    "print(captions['annotations'][0])"
   ]
  },
  {
   "cell_type": "markdown",
   "id": "cc24b8d3-ac1b-4ae7-b01b-6374add13b8c",
   "metadata": {},
   "source": [
    "***\n"
   ]
  },
  {
   "cell_type": "markdown",
   "id": "278eaefa-971a-4a8f-98a7-738b1f971b93",
   "metadata": {},
   "source": [
    "#### take a look on instances json"
   ]
  },
  {
   "cell_type": "code",
   "execution_count": 16,
   "id": "493e2ef2-1b68-4a69-9a1c-85baa61438a4",
   "metadata": {},
   "outputs": [
    {
     "data": {
      "text/plain": [
       "dict_keys(['info', 'images', 'licenses', 'annotations', 'categories'])"
      ]
     },
     "execution_count": 16,
     "metadata": {},
     "output_type": "execute_result"
    }
   ],
   "source": [
    "with open('data/annotations/instances_train2014.json', 'r') as file:\n",
    "    instances = json.load(file)\n",
    "instances.keys()"
   ]
  },
  {
   "cell_type": "code",
   "execution_count": 18,
   "id": "78c4c516-02d5-4c28-81d1-c3e594a90f6b",
   "metadata": {},
   "outputs": [
    {
     "name": "stdout",
     "output_type": "stream",
     "text": [
      "Type of 'annotations' is <class 'list'>\n"
     ]
    }
   ],
   "source": [
    "print(f\"Type of 'annotations' is {type(instances['annotations'])}\")"
   ]
  },
  {
   "cell_type": "code",
   "execution_count": 25,
   "id": "bd5d843c-1988-42dc-960b-6a789fc53110",
   "metadata": {},
   "outputs": [
    {
     "name": "stdout",
     "output_type": "stream",
     "text": [
      "One sample from instances['annotations']:\n",
      "\n",
      "{'segmentation': [[312.29, 562.89, 402.25, 511.49, 400.96, 425.38, 398.39, 372.69, 388.11, 332.85, 318.71, 325.14, 295.58, 305.86, 269.88, 314.86, 258.31, 337.99, 217.19, 321.29, 182.49, 343.13, 141.37, 348.27, 132.37, 358.55, 159.36, 377.83, 116.95, 421.53, 167.07, 499.92, 232.61, 560.32, 300.72, 571.89]], 'area': 54652.9556, 'iscrowd': 0, 'image_id': 480023, 'bbox': [116.95, 305.86, 285.3, 266.03], 'category_id': 58, 'id': 86}\n"
     ]
    }
   ],
   "source": [
    "print(\"One sample from instances['annotations']:\\n\")\n",
    "print(instances['annotations'][0])"
   ]
  },
  {
   "cell_type": "code",
   "execution_count": 20,
   "id": "3f04a466-1f30-43a8-989f-ae2a336c9fad",
   "metadata": {},
   "outputs": [
    {
     "name": "stdout",
     "output_type": "stream",
     "text": [
      "Type of 'categories' is <class 'list'>\n"
     ]
    }
   ],
   "source": [
    "print(f\"Type of 'categories' is {type(instances['categories'])}\")"
   ]
  },
  {
   "cell_type": "code",
   "execution_count": 21,
   "id": "8fb6550a-02fd-43a0-8efc-0c0beb97945c",
   "metadata": {},
   "outputs": [
    {
     "name": "stdout",
     "output_type": "stream",
     "text": [
      "One sample from instances['categories']:\n",
      "\n",
      "{'supercategory': 'person', 'id': 1, 'name': 'person'}\n"
     ]
    }
   ],
   "source": [
    "print(\"One sample from instances['categories']:\\n\")\n",
    "print(instances['categories'][0])"
   ]
  },
  {
   "cell_type": "markdown",
   "id": "fb6a6553-b8ab-4745-acad-e3601c107ad9",
   "metadata": {},
   "source": [
    "***"
   ]
  },
  {
   "cell_type": "markdown",
   "id": "68ce16f3-3603-4f52-8ae4-2ca8f799b287",
   "metadata": {},
   "source": [
    "#### take a look on person_keypoints jsons"
   ]
  },
  {
   "cell_type": "code",
   "execution_count": 23,
   "id": "946687a0-5b1c-4b9f-af68-0e9c8b55d9af",
   "metadata": {},
   "outputs": [
    {
     "data": {
      "text/plain": [
       "dict_keys(['info', 'images', 'licenses', 'annotations', 'categories'])"
      ]
     },
     "execution_count": 23,
     "metadata": {},
     "output_type": "execute_result"
    }
   ],
   "source": [
    "with open('data/annotations/person_keypoints_train2014.json', 'r') as file:\n",
    "    keypoints = json.load(file)\n",
    "keypoints.keys()"
   ]
  },
  {
   "cell_type": "code",
   "execution_count": 24,
   "id": "344f316e-c36f-402d-a34d-daf69eb79f39",
   "metadata": {},
   "outputs": [
    {
     "name": "stdout",
     "output_type": "stream",
     "text": [
      "Type of 'annotations' is <class 'list'>\n"
     ]
    }
   ],
   "source": [
    "print(f\"Type of 'annotations' is {type(keypoints['annotations'])}\")"
   ]
  },
  {
   "cell_type": "code",
   "execution_count": 26,
   "id": "3e959ea0-4d7d-46eb-a501-e066568f81fe",
   "metadata": {},
   "outputs": [
    {
     "name": "stdout",
     "output_type": "stream",
     "text": [
      "One sample from keypoints['annotations']:\n",
      "\n",
      "{'segmentation': [[329.88, 211.23, 337.63, 211.93, 341.51, 210.17, 341.86, 206.65, 340.1, 202.77, 335.52, 199.6, 335.52, 197.13, 335.52, 190.44, 339.04, 186.21, 342.57, 170.35, 345.74, 159.43, 342.57, 154.14, 340.1, 148.86, 336.93, 143.92, 337.28, 138.28, 344.68, 138.28, 340.45, 122.43, 339.75, 116.79, 334.46, 107.63, 320.37, 104.1, 325.65, 97.06, 326, 91.06, 321.77, 82.25, 316.49, 89.66, 305.21, 87.19, 304.51, 92.47, 304.16, 97.06, 305.21, 100.58, 304.16, 103.4, 292.53, 105.51, 284.42, 123.84, 278.43, 140.05, 273.14, 146.74, 273.85, 152.73, 279.49, 156.26, 281.6, 154.14, 284.07, 144.63, 289, 133, 293.23, 133.7, 294.99, 125.95, 295.35, 157.67, 312.26, 157.31, 318.96, 150.27, 335.17, 150.27, 333.76, 157.31, 324.95, 158.02, 315.43, 164.01, 309.44, 170, 306.27, 176.34, 305.56, 185.51, 310.85, 184.8, 313.67, 178.81, 312.97, 170.7, 316.14, 165.42, 320.01, 162.25, 323.18, 167.89, 327.06, 172.11, 333.4, 171.06, 330.23, 178.46, 330.58, 190.09, 329.18, 197.13, 329.18, 208.76], [307.1, 171.37, 309.57, 164.78, 295.02, 166.7, 296.11, 173.02, 299.68, 170.54, 306, 172.19]], 'num_keypoints': 16, 'area': 3817.67415, 'iscrowd': 0, 'keypoints': [311, 101, 2, 315, 98, 2, 308, 97, 2, 324, 97, 2, 304, 96, 1, 329, 110, 2, 299, 109, 2, 336, 134, 2, 288, 126, 2, 0, 0, 0, 279, 141, 2, 323, 151, 1, 302, 152, 2, 339, 160, 2, 300, 191, 1, 332, 197, 2, 299, 221, 1], 'image_id': 196842, 'bbox': [273.14, 82.25, 72.6, 129.68], 'category_id': 1, 'id': 183022}\n"
     ]
    }
   ],
   "source": [
    "print(\"One sample from keypoints['annotations']:\\n\")\n",
    "print(keypoints['annotations'][0])"
   ]
  },
  {
   "cell_type": "code",
   "execution_count": 27,
   "id": "11f284d5-2430-4106-8f46-7dac133efab7",
   "metadata": {},
   "outputs": [
    {
     "name": "stdout",
     "output_type": "stream",
     "text": [
      "One sample from keypoints['categories']:\n",
      "\n",
      "{'supercategory': 'person', 'name': 'person', 'skeleton': [[16, 14], [14, 12], [17, 15], [15, 13], [12, 13], [6, 12], [7, 13], [6, 7], [6, 8], [7, 9], [8, 10], [9, 11], [2, 3], [1, 2], [1, 3], [2, 4], [3, 5], [4, 6], [5, 7]], 'keypoints': ['nose', 'left_eye', 'right_eye', 'left_ear', 'right_ear', 'left_shoulder', 'right_shoulder', 'left_elbow', 'right_elbow', 'left_wrist', 'right_wrist', 'left_hip', 'right_hip', 'left_knee', 'right_knee', 'left_ankle', 'right_ankle'], 'id': 1}\n"
     ]
    }
   ],
   "source": [
    "print(\"One sample from keypoints['categories']:\\n\")\n",
    "print(keypoints['categories'][0])"
   ]
  },
  {
   "cell_type": "markdown",
   "id": "e2dc8248-5634-44e9-9458-407d6fcc85e3",
   "metadata": {},
   "source": [
    "***"
   ]
  },
  {
   "cell_type": "markdown",
   "id": "3db75d8c-3005-4663-b813-c045fd3d37d3",
   "metadata": {},
   "source": [
    "## COCO package\n",
    "COCO dataset provide an special python package to work with COCO dataset, i.e `pycocotools`"
   ]
  },
  {
   "cell_type": "code",
   "execution_count": 28,
   "id": "80b9ead2-dcba-4888-b82a-26d8b1332694",
   "metadata": {},
   "outputs": [
    {
     "name": "stdout",
     "output_type": "stream",
     "text": [
      "Collecting pycocotools\n",
      "  Downloading pycocotools-2.0.8-cp310-cp310-manylinux_2_17_x86_64.manylinux2014_x86_64.whl.metadata (1.1 kB)\n",
      "Requirement already satisfied: matplotlib>=2.1.0 in /usr/local/lib/python3.10/site-packages (from pycocotools) (3.9.3)\n",
      "Requirement already satisfied: numpy in /usr/local/lib/python3.10/site-packages (from pycocotools) (2.1.3)\n",
      "Requirement already satisfied: contourpy>=1.0.1 in /usr/local/lib/python3.10/site-packages (from matplotlib>=2.1.0->pycocotools) (1.3.1)\n",
      "Requirement already satisfied: cycler>=0.10 in /usr/local/lib/python3.10/site-packages (from matplotlib>=2.1.0->pycocotools) (0.12.1)\n",
      "Requirement already satisfied: fonttools>=4.22.0 in /usr/local/lib/python3.10/site-packages (from matplotlib>=2.1.0->pycocotools) (4.55.3)\n",
      "Requirement already satisfied: kiwisolver>=1.3.1 in /usr/local/lib/python3.10/site-packages (from matplotlib>=2.1.0->pycocotools) (1.4.8)\n",
      "Requirement already satisfied: packaging>=20.0 in /usr/local/lib/python3.10/site-packages (from matplotlib>=2.1.0->pycocotools) (24.2)\n",
      "Requirement already satisfied: pillow>=8 in /usr/local/lib/python3.10/site-packages (from matplotlib>=2.1.0->pycocotools) (11.1.0)\n",
      "Requirement already satisfied: pyparsing>=2.3.1 in /usr/local/lib/python3.10/site-packages (from matplotlib>=2.1.0->pycocotools) (3.2.1)\n",
      "Requirement already satisfied: python-dateutil>=2.7 in /usr/local/lib/python3.10/site-packages (from matplotlib>=2.1.0->pycocotools) (2.9.0.post0)\n",
      "Requirement already satisfied: six>=1.5 in /usr/local/lib/python3.10/site-packages (from python-dateutil>=2.7->matplotlib>=2.1.0->pycocotools) (1.17.0)\n",
      "Downloading pycocotools-2.0.8-cp310-cp310-manylinux_2_17_x86_64.manylinux2014_x86_64.whl (427 kB)\n",
      "Installing collected packages: pycocotools\n",
      "Successfully installed pycocotools-2.0.8\n",
      "\u001b[33mWARNING: Running pip as the 'root' user can result in broken permissions and conflicting behaviour with the system package manager, possibly rendering your system unusable.It is recommended to use a virtual environment instead: https://pip.pypa.io/warnings/venv. Use the --root-user-action option if you know what you are doing and want to suppress this warning.\u001b[0m\u001b[33m\n",
      "\u001b[0m"
     ]
    }
   ],
   "source": [
    "!pip install pycocotools"
   ]
  },
  {
   "cell_type": "code",
   "execution_count": 29,
   "id": "91a2037a-9c95-4940-8081-a527d2266dc9",
   "metadata": {},
   "outputs": [
    {
     "name": "stdout",
     "output_type": "stream",
     "text": [
      "pycocotools==2.0.8\n"
     ]
    }
   ],
   "source": [
    "!pip freeze | grep pycocotools"
   ]
  },
  {
   "cell_type": "code",
   "execution_count": null,
   "id": "6bd7d4d7-91ac-4441-84d5-979da5972e69",
   "metadata": {},
   "outputs": [],
   "source": []
  }
 ],
 "metadata": {
  "kernelspec": {
   "display_name": "Python 3 (ipykernel)",
   "language": "python",
   "name": "python3"
  },
  "language_info": {
   "codemirror_mode": {
    "name": "ipython",
    "version": 3
   },
   "file_extension": ".py",
   "mimetype": "text/x-python",
   "name": "python",
   "nbconvert_exporter": "python",
   "pygments_lexer": "ipython3",
   "version": "3.10.16"
  }
 },
 "nbformat": 4,
 "nbformat_minor": 5
}
