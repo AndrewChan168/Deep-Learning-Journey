{
 "cells": [
  {
   "cell_type": "code",
   "execution_count": 1,
   "id": "8e5088b9-23e4-4f04-9678-ff78c4bb1725",
   "metadata": {},
   "outputs": [],
   "source": [
    "from rich import print as pprint"
   ]
  },
  {
   "cell_type": "code",
   "execution_count": 2,
   "id": "70cb9778-0efd-459c-b117-1404f43481a7",
   "metadata": {},
   "outputs": [],
   "source": [
    "from langchain_google_vertexai import VertexAI\n",
    "llm = VertexAI()"
   ]
  },
  {
   "cell_type": "code",
   "execution_count": 3,
   "id": "5ba79218-6b6c-4a5e-8963-2d6d5fa0b7f6",
   "metadata": {},
   "outputs": [],
   "source": [
    "from langchain_google_vertexai import ChatVertexAI\n",
    "chat_model = ChatVertexAI(model_name=\"gemini-2.0-flash-001\")"
   ]
  },
  {
   "cell_type": "markdown",
   "id": "95bb2a0f-57a3-47d6-a13d-bdaa480b2280",
   "metadata": {},
   "source": [
    "# 1. Sequential Chains"
   ]
  },
  {
   "cell_type": "markdown",
   "id": "a58af91d-d35e-4559-904f-4d0c74a5fbbb",
   "metadata": {},
   "source": [
    "## 1.1 LLM Chain"
   ]
  },
  {
   "cell_type": "code",
   "execution_count": 4,
   "id": "dca5d8ea-a608-4538-9436-57225c1bb745",
   "metadata": {},
   "outputs": [],
   "source": [
    "from langchain.chains import LLMChain\n",
    "from langchain.prompts import PromptTemplate"
   ]
  },
  {
   "cell_type": "markdown",
   "id": "361f2476-9641-4b7a-bd6a-bc67444c9c61",
   "metadata": {},
   "source": [
    "## 1.2 Simple Sequential Chain\n",
    "We could combine several `LLMChains` into one chain by `SimpleSequentialChain`"
   ]
  },
  {
   "cell_type": "code",
   "execution_count": 5,
   "id": "57796d06-7332-445c-97ea-aed95b11be73",
   "metadata": {},
   "outputs": [],
   "source": [
    "from langchain.chains import SimpleSequentialChain"
   ]
  },
  {
   "cell_type": "markdown",
   "id": "8e2732bd-778d-48ad-a1b1-472d9c3cb9d6",
   "metadata": {},
   "source": [
    "1st chain"
   ]
  },
  {
   "cell_type": "code",
   "execution_count": 6,
   "id": "4c483ef4-7acb-47c3-a46a-6e54930607de",
   "metadata": {},
   "outputs": [
    {
     "name": "stderr",
     "output_type": "stream",
     "text": [
      "C:\\Users\\andrewchan\\AppData\\Local\\Temp\\ipykernel_3308\\3450736400.py:10: LangChainDeprecationWarning: The class `LLMChain` was deprecated in LangChain 0.1.17 and will be removed in 1.0. Use :meth:`~RunnableSequence, e.g., `prompt | llm`` instead.\n",
      "  script_chain = LLMChain(llm=script_llm, prompt=script_prompt_template)\n"
     ]
    }
   ],
   "source": [
    "script_prompt_template = PromptTemplate.from_template(\n",
    "    \"\"\"\n",
    "    你是一个优秀的编剧。请使用你丰富的想象力根据我定的标题编写一个故事概要。\n",
    "    标题:{title}\n",
    "    \"\"\"\n",
    ")\n",
    "\n",
    "script_llm = VertexAI()\n",
    "\n",
    "script_chain = LLMChain(llm=script_llm, prompt=script_prompt_template)"
   ]
  },
  {
   "cell_type": "markdown",
   "id": "ea4570c9-97d6-4ede-9ea7-8ada6069774a",
   "metadata": {},
   "source": [
    "2nd chain"
   ]
  },
  {
   "cell_type": "code",
   "execution_count": 7,
   "id": "85b58a5f-794c-4e28-9dee-0dfe427579b3",
   "metadata": {},
   "outputs": [],
   "source": [
    "adv_prompt_template = PromptTemplate.from_template(\n",
    "    \"\"\"\n",
    "    你是一个优秀的广告写手。请根据我定的故事概要，\n",
    "    为我的故事写一段尽可能简短但要让人有观看欲望的广告词。\n",
    "    故事概要:{story}\n",
    "    \"\"\"\n",
    ")\n",
    "\n",
    "adv_llm = VertexAI()\n",
    "\n",
    "adv_chain = LLMChain(llm=adv_llm, prompt=adv_prompt_template)"
   ]
  },
  {
   "cell_type": "code",
   "execution_count": 8,
   "id": "e540bc17-cf9d-4c83-a42d-4d3776036471",
   "metadata": {},
   "outputs": [],
   "source": [
    "full_chain = SimpleSequentialChain(\n",
    "    chains=[script_chain, adv_chain],\n",
    "    verbose=True\n",
    ")"
   ]
  },
  {
   "cell_type": "code",
   "execution_count": 9,
   "id": "deae8afa-8446-4dd3-b664-be72b4159ced",
   "metadata": {},
   "outputs": [
    {
     "name": "stdout",
     "output_type": "stream",
     "text": [
      "\n",
      "\n",
      "\u001b[1m> Entering new SimpleSequentialChain chain...\u001b[0m\n",
      "\u001b[36;1m\u001b[1;3m好的，没问题！让我来为你打造一个充满想象力的故事概要：\n",
      "\n",
      "**故事概要：孙悟空大战变形金刚**\n",
      "\n",
      "**核心概念：** 当东方神话的齐天大圣遇上西方科幻的机械巨擘，一场跨越文化、打破次元的史诗级对决即将上演！\n",
      "\n",
      "**故事背景：**\n",
      "\n",
      "由于时空能量异常波动，位于花果山的孙悟空，意外被传送到了22世纪的地球。这里的地球已被先进的科技和高度智能的机械生命体所主宰——变形金刚。\n",
      "\n",
      "**主要角色：**\n",
      "\n",
      "*   **孙悟空：** 依然是那个桀骜不驯、神通广大的齐天大圣。初到异界，对科技文明充满好奇，但也对其潜在的威胁保持警惕。\n",
      "*   **擎天柱（Optimus Prime）：** 汽车人领袖，拥有崇高的理想和坚定的信念，致力于保护地球和人类。起初对孙悟空的力量感到震惊，但逐渐认识到他的正义和善良。\n",
      "*   **威震天（Megatron）：** 霸天虎首领，野心勃勃，渴望统治宇宙。他将孙悟空视为潜在的威胁，试图利用或消灭他。\n",
      "*   **小芳（Fang）：** 一位年轻的地球科学家，对中国文化和神话传说充满兴趣。她是最早接触孙悟空的人之一，并试图帮助他适应新的世界。\n",
      "*   **红孩儿：** 因为时空波动，也跟随孙悟空来到了22世纪。他被威震天蛊惑，成为了霸天虎的盟友，与孙悟空反目。\n",
      "\n",
      "**故事梗概：**\n",
      "\n",
      "1.  **初临异界：** 孙悟空降临在繁华的都市中，对高楼大厦、飞行汽车和变形金刚感到既新奇又困惑。他误打误撞地与擎天柱率领的汽车人相遇。由于语言不通和文化差异，双方产生误会，爆发了一场小规模的冲突。\n",
      "\n",
      "2.  **了解真相：** 在小芳的帮助下，孙悟空逐渐了解了变形金刚的由来和汽车人与霸天虎之间的战争。他意识到威震天对地球的威胁，决定帮助汽车人对抗霸天虎。\n",
      "\n",
      "3.  **结盟与冲突：** 孙悟空与汽车人结盟，利用金箍棒和七十二变等神通，多次挫败威震天的阴谋。然而，威震天也发现了孙悟空的力量来源——仙气，并试图窃取。\n",
      "\n",
      "4.  **红孩儿的反叛：** 威震天利用花言巧语蛊惑了红孩儿，承诺给他强大的力量和统治世界的机会。红孩儿被欲望蒙蔽双眼，背叛了孙悟空，加入了霸天虎阵营。\n",
      "\n",
      "5.  **大战爆发：** 威震天集结霸天虎大军，向汽车人基地发起总攻。孙悟空带领汽车人奋力抵抗，与威震天展开激烈的决战。红孩儿也与孙悟空兵戎相见，师徒反目成仇。\n",
      "\n",
      "6.  **力量的觉醒：** 在战斗中，孙悟空逐渐领悟了新的力量。他将仙气与科技融合，创造出更强大的战斗技能。同时，他也试图唤醒红孩儿的良知。\n",
      "\n",
      "7.  **最终决战：** 孙悟空与威震天展开最终决战。他凭借强大的力量和智慧，最终击败了威震天，拯救了地球。红孩儿也在关键时刻幡然醒悟，帮助孙悟空对抗威震天。\n",
      "\n",
      "8.  **回归与传承：** 战争结束后，时空能量逐渐稳定。孙悟空和红孩儿在汽车人的帮助下，找到了返回花果山的通道。临行前，孙悟空将自己的战斗经验和对正义的追求传授给汽车人，希望他们继续守护地球。\n",
      "\n",
      "**故事主题：**\n",
      "\n",
      "*   **文化融合与理解：** 讲述了不同文化背景下的英雄如何克服差异，相互理解，共同对抗邪恶的故事。\n",
      "*   **正义与责任：** 强调了英雄的责任感和对正义的追求，以及保护弱小、维护和平的重要性。\n",
      "*   **科技与自然：** 探讨了科技发展与环境保护之间的关系，以及如何平衡两者之间的关系。\n",
      "\n",
      "**潜在看点：**\n",
      "\n",
      "*   **东西方文化的碰撞：** 孙悟空的东方神话元素与变形金刚的西方科幻元素的结合，将带来独特的视觉和文化冲击。\n",
      "*   **精彩的打斗场面：** 孙悟空与变形金刚之间的战斗，将充满想象力和创意，带来震撼的视觉效果。\n",
      "*   **深刻的故事内涵：** 故事将探讨文化融合、正义责任、科技与自然等深刻的主题，引发观众的思考。\n",
      "\n",
      "希望这个故事概要能给你带来启发！ 如果你对某些方面有特别的侧重，例如想让故事更偏向喜剧、科幻或者更着重于角色之间的情感纠葛，请告诉我，我会根据你的喜好进行调整。\n",
      "\u001b[0m\n",
      "\u001b[33;1m\u001b[1;3m可以，以下是一个简短但充满吸引力的广告词：\n",
      "\n",
      "**当齐天大圣的金箍棒，遇上变形金刚的钢铁身躯！ 东方神话VS西方科幻，一场跨越时空的史诗级乱斗即将引爆！谁将主宰未来？**\n",
      "\u001b[0m\n",
      "\n",
      "\u001b[1m> Finished chain.\u001b[0m\n"
     ]
    },
    {
     "data": {
      "text/html": [
       "<pre style=\"white-space:pre;overflow-x:auto;line-height:normal;font-family:Menlo,'DejaVu Sans Mono',consolas,'Courier New',monospace\"><span style=\"font-weight: bold\">{</span>\n",
       "    <span style=\"color: #008000; text-decoration-color: #008000\">'input'</span>: <span style=\"color: #008000; text-decoration-color: #008000\">'孙悟空大战变型金刚'</span>,\n",
       "    <span style=\"color: #008000; text-decoration-color: #008000\">'output'</span>: <span style=\"color: #008000; text-decoration-color: #008000\">'可以，以下是一个简短但充满吸引力的广告词：\\n\\n**当齐天大圣的金箍棒，遇上变形金刚的钢铁身躯！ </span>\n",
       "<span style=\"color: #008000; text-decoration-color: #008000\">东方神话VS西方科幻，一场跨越时空的史诗级乱斗即将引爆！谁将主宰未来？**\\n'</span>\n",
       "<span style=\"font-weight: bold\">}</span>\n",
       "</pre>\n"
      ],
      "text/plain": [
       "\u001b[1m{\u001b[0m\n",
       "    \u001b[32m'input'\u001b[0m: \u001b[32m'孙悟空大战变型金刚'\u001b[0m,\n",
       "    \u001b[32m'output'\u001b[0m: \u001b[32m'可以，以下是一个简短但充满吸引力的广告词：\\n\\n**当齐天大圣的金箍棒，遇上变形金刚的钢铁身躯！ \u001b[0m\n",
       "\u001b[32m东方神话VS西方科幻，一场跨越时空的史诗级乱斗即将引爆！谁将主宰未来？**\\n'\u001b[0m\n",
       "\u001b[1m}\u001b[0m\n"
      ]
     },
     "metadata": {},
     "output_type": "display_data"
    }
   ],
   "source": [
    "response = full_chain.invoke('孙悟空大战变型金刚')\n",
    "\n",
    "pprint(response)"
   ]
  },
  {
   "cell_type": "markdown",
   "id": "965540dc-1882-49fc-826f-85fc24d56258",
   "metadata": {},
   "source": [
    "## 1.3 Sequential Chain"
   ]
  },
  {
   "cell_type": "code",
   "execution_count": 14,
   "id": "6078cca7-d92c-4ef0-8580-57a27eebc206",
   "metadata": {},
   "outputs": [],
   "source": [
    "from langchain.chains import SequentialChain"
   ]
  },
  {
   "cell_type": "code",
   "execution_count": 15,
   "id": "382af4e7-80be-4d8c-93c1-9ef1cd4ac285",
   "metadata": {},
   "outputs": [],
   "source": [
    "script_prompt_template = PromptTemplate.from_template(\n",
    "    \"\"\"\n",
    "    你是一个优秀的编剧。请使用你丰富的想象力根据我定的标题编写一个故事概要。\n",
    "    标题:{title}\n",
    "    故事类型:{story_type}\n",
    "    主角名:{name}\n",
    "    \"\"\"\n",
    ")\n",
    "\n",
    "script_llm = VertexAI()\n",
    "\n",
    "script_chain = LLMChain(llm=script_llm, prompt=script_prompt_template, output_key='story')"
   ]
  },
  {
   "cell_type": "code",
   "execution_count": 16,
   "id": "5b26864f-57ae-4f5c-9b53-9f623320c045",
   "metadata": {},
   "outputs": [],
   "source": [
    "adv_prompt_template = PromptTemplate.from_template(\n",
    "    \"\"\"\n",
    "    你是一个优秀的广告写手。请根据我定的故事概要，\n",
    "    为我的故事写一段尽可能简短但要让人有观看欲望的广告词。\n",
    "    故事标题:{title}\n",
    "    故事概要:{story}\n",
    "    广告词:\n",
    "    \"\"\"\n",
    ")\n",
    "\n",
    "adv_llm = VertexAI()\n",
    "\n",
    "adv_chain = LLMChain(llm=adv_llm, prompt=adv_prompt_template, output_key='adv')"
   ]
  },
  {
   "cell_type": "code",
   "execution_count": 17,
   "id": "c9a696a0-8e02-44e0-a051-fd1416b0e261",
   "metadata": {},
   "outputs": [],
   "source": [
    "full_chain = SequentialChain(\n",
    "    chains=[script_chain, adv_chain],\n",
    "    input_variables=['title', 'story_type', 'name'],\n",
    "    output_variables=['adv'] # only output result of adv_chain\n",
    "    # output_variables=['story', 'adv'] # could out results of script_chain & adv_chain\n",
    ")\n",
    "\n",
    "response = full_chain.invoke({'title': '上海滩的秘密', 'story_type': '玄幻修真', 'name': '叶豪'})"
   ]
  },
  {
   "cell_type": "code",
   "execution_count": 18,
   "id": "3ca034e6-da1c-4efd-84c4-a4fd37503bc1",
   "metadata": {},
   "outputs": [
    {
     "data": {
      "text/html": [
       "<pre style=\"white-space:pre;overflow-x:auto;line-height:normal;font-family:Menlo,'DejaVu Sans Mono',consolas,'Courier New',monospace\"><span style=\"font-weight: bold\">{</span>\n",
       "    <span style=\"color: #008000; text-decoration-color: #008000\">'title'</span>: <span style=\"color: #008000; text-decoration-color: #008000\">'上海滩的秘密'</span>,\n",
       "    <span style=\"color: #008000; text-decoration-color: #008000\">'story_type'</span>: <span style=\"color: #008000; text-decoration-color: #008000\">'玄幻修真'</span>,\n",
       "    <span style=\"color: #008000; text-decoration-color: #008000\">'name'</span>: <span style=\"color: #008000; text-decoration-color: #008000\">'叶豪'</span>,\n",
       "    <span style=\"color: #008000; text-decoration-color: #008000\">'adv'</span>: <span style=\"color: #008000; text-decoration-color: #008000\">'十里洋场，暗藏玄机！当上海滩的枪火，遇上修真界的秘术，小人物叶豪，身负血脉秘密，守护最后的灵墟！ </span>\n",
       "<span style=\"color: #008000; text-decoration-color: #008000\">1930，魔都风云，等你来揭秘！ #上海滩的秘密 #玄幻修真\\n'</span>\n",
       "<span style=\"font-weight: bold\">}</span>\n",
       "</pre>\n"
      ],
      "text/plain": [
       "\u001b[1m{\u001b[0m\n",
       "    \u001b[32m'title'\u001b[0m: \u001b[32m'上海滩的秘密'\u001b[0m,\n",
       "    \u001b[32m'story_type'\u001b[0m: \u001b[32m'玄幻修真'\u001b[0m,\n",
       "    \u001b[32m'name'\u001b[0m: \u001b[32m'叶豪'\u001b[0m,\n",
       "    \u001b[32m'adv'\u001b[0m: \u001b[32m'十里洋场，暗藏玄机！当上海滩的枪火，遇上修真界的秘术，小人物叶豪，身负血脉秘密，守护最后的灵墟！ \u001b[0m\n",
       "\u001b[32m1930，魔都风云，等你来揭秘！ #上海滩的秘密 #玄幻修真\\n'\u001b[0m\n",
       "\u001b[1m}\u001b[0m\n"
      ]
     },
     "metadata": {},
     "output_type": "display_data"
    }
   ],
   "source": [
    "pprint(response)"
   ]
  },
  {
   "cell_type": "code",
   "execution_count": 19,
   "id": "f1b57227-ab13-4e32-9339-38c242eb6201",
   "metadata": {},
   "outputs": [
    {
     "data": {
      "text/html": [
       "<pre style=\"white-space:pre;overflow-x:auto;line-height:normal;font-family:Menlo,'DejaVu Sans Mono',consolas,'Courier New',monospace\"><span style=\"font-weight: bold\">{</span>\n",
       "    <span style=\"color: #008000; text-decoration-color: #008000\">'title'</span>: <span style=\"color: #008000; text-decoration-color: #008000\">'上海滩的秘密'</span>,\n",
       "    <span style=\"color: #008000; text-decoration-color: #008000\">'story_type'</span>: <span style=\"color: #008000; text-decoration-color: #008000\">'玄幻修真'</span>,\n",
       "    <span style=\"color: #008000; text-decoration-color: #008000\">'name'</span>: <span style=\"color: #008000; text-decoration-color: #008000\">'叶豪'</span>,\n",
       "    <span style=\"color: #008000; text-decoration-color: #008000\">'story'</span>: <span style=\"color: #008000; text-decoration-color: #008000\">'好的，没问题！根据您提供的标题和类型，我来为您编写一个故事概要：\\n\\n**故事标题：** </span>\n",
       "<span style=\"color: #008000; text-decoration-color: #008000\">上海滩的秘密\\n\\n**故事类型：** 玄幻修真\\n\\n**主角名：** </span>\n",
       "<span style=\"color: #008000; text-decoration-color: #008000\">叶豪\\n\\n**故事概要：**\\n\\n1930年代的上海，表面上是歌舞升平、纸醉金迷的“东方巴黎”，实则暗流涌动，各方势力盘根错节。</span>\n",
       "<span style=\"color: #008000; text-decoration-color: #008000\">除了明面上的帮派林立、军阀割据，在常人无法触及的阴影中，还隐藏着一个修真者的世界。\\n\\n主角叶豪，表面上是上海滩一家</span>\n",
       "<span style=\"color: #008000; text-decoration-color: #008000\">老字号药铺的学徒，实际上却是隐世修真门派的后裔。他的家族世代守护着一个秘密——上海滩的地脉之中，蕴藏着一股强大的灵气</span>\n",
       "<span style=\"color: #008000; text-decoration-color: #008000\">源泉，名为“龙脉之眼”，是修真界争夺的至宝。\\n\\n叶豪从小就被长辈严令禁止修炼，只允许他学习医术，过着普通人的生活。然</span>\n",
       "<span style=\"color: #008000; text-decoration-color: #008000\">而，平静的生活被打破了。\\n\\n*   **突发事件：** </span>\n",
       "<span style=\"color: #008000; text-decoration-color: #008000\">一夜之间，叶豪的家族惨遭灭门，只留下他一人幸存。临死前，他的爷爷将家族的秘密和一枚古朴的玉佩托付给了他，并告诉他，</span>\n",
       "<span style=\"color: #008000; text-decoration-color: #008000\">他是唯一能阻止“龙脉之眼”被邪修利用的人。\\n*   **踏上征程：** </span>\n",
       "<span style=\"color: #008000; text-decoration-color: #008000\">为了复仇，也为了守护上海滩的安宁，叶豪不得不踏上修真之路。他凭借着家族传承的医术和对灵气的感知，开始摸索着修炼。\\n*</span>\n",
       "<span style=\"color: #008000; text-decoration-color: #008000\">**结识伙伴：** 在寻找真相的过程中，叶豪结识了形形色色的伙伴：\\n    *   **白玫瑰：** </span>\n",
       "<span style=\"color: #008000; text-decoration-color: #008000\">一位身手不凡、神秘莫测的女特工，她也对上海滩的秘密有所了解，与叶豪亦敌亦友。\\n    *   **张三爷：** </span>\n",
       "<span style=\"color: #008000; text-decoration-color: #008000\">一位隐居在弄堂深处的老道士，他看出了叶豪的潜力，指点他修炼，并传授他一些古老的秘术。\\n    *   **小蝶：** </span>\n",
       "<span style=\"color: #008000; text-decoration-color: #008000\">一位善良美丽的歌女，她对叶豪心生爱慕，在关键时刻给予他帮助和支持。\\n*   **危机四伏：** </span>\n",
       "<span style=\"color: #008000; text-decoration-color: #008000\">叶豪的行动引起了各方势力的注意：\\n    *   **青帮大佬：** </span>\n",
       "<span style=\"color: #008000; text-decoration-color: #008000\">他们渴望得到“龙脉之眼”的力量，称霸上海滩，甚至染指整个修真界。\\n    *   **日本阴阳师：** </span>\n",
       "<span style=\"color: #008000; text-decoration-color: #008000\">他们觊觎“龙脉之眼”的灵力，企图利用它来增强自身的实力，颠覆中国的气运。\\n    *   **邪修组织：** </span>\n",
       "<span style=\"color: #008000; text-decoration-color: #008000\">他们是一群疯狂的修真者，为了达到目的不择手段，甚至不惜牺牲整个上海滩的生灵。\\n*   **最终决战：** </span>\n",
       "<span style=\"color: #008000; text-decoration-color: #008000\">叶豪在伙伴们的帮助下，不断成长，逐渐掌握了强大的力量。最终，他发现了“龙脉之眼”的真正秘密——它并非仅仅是一股灵气源泉</span>\n",
       "<span style=\"color: #008000; text-decoration-color: #008000\">，而是连接着一个古老的封印，一旦被开启，将会释放出可怕的妖魔。叶豪必须阻止邪修的阴谋，守护上海滩，守护整个修真界。\\</span>\n",
       "<span style=\"color: #008000; text-decoration-color: #008000\">n\\n**故事亮点：**\\n\\n*   **时代背景：** 故事将玄幻修真的元素融入到充满历史感的上海滩背景中，营造出独特的氛围。\\n*  </span>\n",
       "<span style=\"color: #008000; text-decoration-color: #008000\">**人物设定：** </span>\n",
       "<span style=\"color: #008000; text-decoration-color: #008000\">主角叶豪从一个普通的药铺学徒成长为拯救世界的英雄，角色的成长和转变引人入胜。其他角色也各具特色，充满魅力。\\n*   </span>\n",
       "<span style=\"color: #008000; text-decoration-color: #008000\">**情节冲突：** 故事围绕着“龙脉之眼”的争夺展开，各方势力明争暗斗，情节紧张刺激。\\n*   **玄幻元素：** </span>\n",
       "<span style=\"color: #008000; text-decoration-color: #008000\">故事融入了丰富的玄幻元素，如修真功法、法宝、符咒、妖魔等，满足读者的想象力。\\n\\n希望这个故事概要能够激发您的创作灵</span>\n",
       "<span style=\"color: #008000; text-decoration-color: #008000\">感！您可以根据这个框架，进一步丰富故事的情节和细节，塑造更加鲜明的人物形象，打造一个精彩的玄幻修真故事。\\n'</span>,\n",
       "    <span style=\"color: #008000; text-decoration-color: #008000\">'adv'</span>: \n",
       "<span style=\"color: #008000; text-decoration-color: #008000\">'十里洋场，暗藏玄机！药铺学徒身负血海深仇，觉醒神秘力量。上海滩，不只是冒险家的乐园，更是修真者的战场！龙脉之眼现世</span>\n",
       "<span style=\"color: #008000; text-decoration-color: #008000\">，谁主沉浮？《上海滩的秘密》，带你揭开尘封百年的惊天秘密！\\n'</span>\n",
       "<span style=\"font-weight: bold\">}</span>\n",
       "</pre>\n"
      ],
      "text/plain": [
       "\u001b[1m{\u001b[0m\n",
       "    \u001b[32m'title'\u001b[0m: \u001b[32m'上海滩的秘密'\u001b[0m,\n",
       "    \u001b[32m'story_type'\u001b[0m: \u001b[32m'玄幻修真'\u001b[0m,\n",
       "    \u001b[32m'name'\u001b[0m: \u001b[32m'叶豪'\u001b[0m,\n",
       "    \u001b[32m'story'\u001b[0m: \u001b[32m'好的，没问题！根据您提供的标题和类型，我来为您编写一个故事概要：\\n\\n**故事标题：** \u001b[0m\n",
       "\u001b[32m上海滩的秘密\\n\\n**故事类型：** 玄幻修真\\n\\n**主角名：** \u001b[0m\n",
       "\u001b[32m叶豪\\n\\n**故事概要：**\\n\\n1930年代的上海，表面上是歌舞升平、纸醉金迷的“东方巴黎”，实则暗流涌动，各方势力盘根错节。\u001b[0m\n",
       "\u001b[32m除了明面上的帮派林立、军阀割据，在常人无法触及的阴影中，还隐藏着一个修真者的世界。\\n\\n主角叶豪，表面上是上海滩一家\u001b[0m\n",
       "\u001b[32m老字号药铺的学徒，实际上却是隐世修真门派的后裔。他的家族世代守护着一个秘密——上海滩的地脉之中，蕴藏着一股强大的灵气\u001b[0m\n",
       "\u001b[32m源泉，名为“龙脉之眼”，是修真界争夺的至宝。\\n\\n叶豪从小就被长辈严令禁止修炼，只允许他学习医术，过着普通人的生活。然\u001b[0m\n",
       "\u001b[32m而，平静的生活被打破了。\\n\\n*   **突发事件：** \u001b[0m\n",
       "\u001b[32m一夜之间，叶豪的家族惨遭灭门，只留下他一人幸存。临死前，他的爷爷将家族的秘密和一枚古朴的玉佩托付给了他，并告诉他，\u001b[0m\n",
       "\u001b[32m他是唯一能阻止“龙脉之眼”被邪修利用的人。\\n*   **踏上征程：** \u001b[0m\n",
       "\u001b[32m为了复仇，也为了守护上海滩的安宁，叶豪不得不踏上修真之路。他凭借着家族传承的医术和对灵气的感知，开始摸索着修炼。\\n*\u001b[0m\n",
       "\u001b[32m**结识伙伴：** 在寻找真相的过程中，叶豪结识了形形色色的伙伴：\\n    *   **白玫瑰：** \u001b[0m\n",
       "\u001b[32m一位身手不凡、神秘莫测的女特工，她也对上海滩的秘密有所了解，与叶豪亦敌亦友。\\n    *   **张三爷：** \u001b[0m\n",
       "\u001b[32m一位隐居在弄堂深处的老道士，他看出了叶豪的潜力，指点他修炼，并传授他一些古老的秘术。\\n    *   **小蝶：** \u001b[0m\n",
       "\u001b[32m一位善良美丽的歌女，她对叶豪心生爱慕，在关键时刻给予他帮助和支持。\\n*   **危机四伏：** \u001b[0m\n",
       "\u001b[32m叶豪的行动引起了各方势力的注意：\\n    *   **青帮大佬：** \u001b[0m\n",
       "\u001b[32m他们渴望得到“龙脉之眼”的力量，称霸上海滩，甚至染指整个修真界。\\n    *   **日本阴阳师：** \u001b[0m\n",
       "\u001b[32m他们觊觎“龙脉之眼”的灵力，企图利用它来增强自身的实力，颠覆中国的气运。\\n    *   **邪修组织：** \u001b[0m\n",
       "\u001b[32m他们是一群疯狂的修真者，为了达到目的不择手段，甚至不惜牺牲整个上海滩的生灵。\\n*   **最终决战：** \u001b[0m\n",
       "\u001b[32m叶豪在伙伴们的帮助下，不断成长，逐渐掌握了强大的力量。最终，他发现了“龙脉之眼”的真正秘密——它并非仅仅是一股灵气源泉\u001b[0m\n",
       "\u001b[32m，而是连接着一个古老的封印，一旦被开启，将会释放出可怕的妖魔。叶豪必须阻止邪修的阴谋，守护上海滩，守护整个修真界。\\\u001b[0m\n",
       "\u001b[32mn\\n**故事亮点：**\\n\\n*   **时代背景：** 故事将玄幻修真的元素融入到充满历史感的上海滩背景中，营造出独特的氛围。\\n*  \u001b[0m\n",
       "\u001b[32m**人物设定：** \u001b[0m\n",
       "\u001b[32m主角叶豪从一个普通的药铺学徒成长为拯救世界的英雄，角色的成长和转变引人入胜。其他角色也各具特色，充满魅力。\\n*   \u001b[0m\n",
       "\u001b[32m**情节冲突：** 故事围绕着“龙脉之眼”的争夺展开，各方势力明争暗斗，情节紧张刺激。\\n*   **玄幻元素：** \u001b[0m\n",
       "\u001b[32m故事融入了丰富的玄幻元素，如修真功法、法宝、符咒、妖魔等，满足读者的想象力。\\n\\n希望这个故事概要能够激发您的创作灵\u001b[0m\n",
       "\u001b[32m感！您可以根据这个框架，进一步丰富故事的情节和细节，塑造更加鲜明的人物形象，打造一个精彩的玄幻修真故事。\\n'\u001b[0m,\n",
       "    \u001b[32m'adv'\u001b[0m: \n",
       "\u001b[32m'十里洋场，暗藏玄机！药铺学徒身负血海深仇，觉醒神秘力量。上海滩，不只是冒险家的乐园，更是修真者的战场！龙脉之眼现世\u001b[0m\n",
       "\u001b[32m，谁主沉浮？《上海滩的秘密》，带你揭开尘封百年的惊天秘密！\\n'\u001b[0m\n",
       "\u001b[1m}\u001b[0m\n"
      ]
     },
     "metadata": {},
     "output_type": "display_data"
    }
   ],
   "source": [
    "full_chain = SequentialChain(\n",
    "    chains=[script_chain, adv_chain],\n",
    "    input_variables=['title', 'story_type', 'name'],\n",
    "    output_variables=['story', 'adv'] # only output result of adv_chain\n",
    "    # output_variables=['story', 'adv'] # could out results of script_chain & adv_chain\n",
    ")\n",
    "\n",
    "response = full_chain.invoke({'title': '上海滩的秘密', 'story_type': '玄幻修真', 'name': '叶豪'})\n",
    "pprint(response)"
   ]
  },
  {
   "cell_type": "markdown",
   "id": "fdf996e6-1911-43e6-a2e6-7d1dba085b03",
   "metadata": {},
   "source": [
    "***\n",
    "# 2. Langchain Expression Language (LCEL)\n",
    "\n",
    "### 2.1 Basic Usage of LCEL "
   ]
  },
  {
   "cell_type": "code",
   "execution_count": 20,
   "id": "a8a1e961-b5b2-4e40-9fb3-721932498d13",
   "metadata": {},
   "outputs": [],
   "source": [
    "prompt_template = PromptTemplate.from_template('Please tell me one joke about {item}')"
   ]
  },
  {
   "cell_type": "code",
   "execution_count": 21,
   "id": "10e5ac79-65bf-4787-8a6d-0ea950b72f95",
   "metadata": {},
   "outputs": [],
   "source": [
    "chain = prompt_template | llm\n",
    "\n",
    "response = chain.invoke({'item':'Officer'})"
   ]
  },
  {
   "cell_type": "code",
   "execution_count": 22,
   "id": "7b7528ca-47aa-40ca-9ec1-a7c230460178",
   "metadata": {},
   "outputs": [
    {
     "data": {
      "text/html": [
       "<pre style=\"white-space:pre;overflow-x:auto;line-height:normal;font-family:Menlo,'DejaVu Sans Mono',consolas,'Courier New',monospace\">Why did the police officer bring a ladder to the bar? \n",
       "\n",
       "Because he heard the drinks were on the house!\n",
       "\n",
       "</pre>\n"
      ],
      "text/plain": [
       "Why did the police officer bring a ladder to the bar? \n",
       "\n",
       "Because he heard the drinks were on the house!\n",
       "\n"
      ]
     },
     "metadata": {},
     "output_type": "display_data"
    }
   ],
   "source": [
    "pprint(response)"
   ]
  },
  {
   "cell_type": "markdown",
   "id": "3b0a0f82-b61c-4532-837c-fdcde3f7db35",
   "metadata": {},
   "source": [
    "**LCEL** could be also applicable to Chat Model"
   ]
  },
  {
   "cell_type": "code",
   "execution_count": 27,
   "id": "f14d9607-9ccd-4ca2-9f0b-0ecc71553f65",
   "metadata": {},
   "outputs": [],
   "source": [
    "from langchain.prompts import ChatPromptTemplate\n",
    "\n",
    "prompt_template = ChatPromptTemplate.from_template('Please tell me one joke about {item}')"
   ]
  },
  {
   "cell_type": "code",
   "execution_count": 28,
   "id": "aafe8aae-5a39-414d-b8d8-e151e0239338",
   "metadata": {},
   "outputs": [],
   "source": [
    "chain = prompt_template | chat_model\n",
    "\n",
    "response = chain.invoke({'item':'Officer'})"
   ]
  },
  {
   "cell_type": "code",
   "execution_count": 29,
   "id": "d0f4d621-ff4e-4035-bb44-84aa0b7ed00a",
   "metadata": {},
   "outputs": [
    {
     "data": {
      "text/html": [
       "<pre style=\"white-space:pre;overflow-x:auto;line-height:normal;font-family:Menlo,'DejaVu Sans Mono',consolas,'Courier New',monospace\"><span style=\"color: #800080; text-decoration-color: #800080; font-weight: bold\">AIMessage</span><span style=\"font-weight: bold\">(</span>\n",
       "    <span style=\"color: #808000; text-decoration-color: #808000\">content</span>=<span style=\"color: #008000; text-decoration-color: #008000\">'Why did the police officer bring a ladder to the art gallery?\\n\\nBecause he heard the paintings were </span>\n",
       "<span style=\"color: #008000; text-decoration-color: #008000\">high-profile!\\n'</span>,\n",
       "    <span style=\"color: #808000; text-decoration-color: #808000\">additional_kwargs</span>=<span style=\"font-weight: bold\">{}</span>,\n",
       "    <span style=\"color: #808000; text-decoration-color: #808000\">response_metadata</span>=<span style=\"font-weight: bold\">{</span>\n",
       "        <span style=\"color: #008000; text-decoration-color: #008000\">'is_blocked'</span>: <span style=\"color: #ff0000; text-decoration-color: #ff0000; font-style: italic\">False</span>,\n",
       "        <span style=\"color: #008000; text-decoration-color: #008000\">'safety_ratings'</span>: <span style=\"font-weight: bold\">[]</span>,\n",
       "        <span style=\"color: #008000; text-decoration-color: #008000\">'usage_metadata'</span>: <span style=\"font-weight: bold\">{</span>\n",
       "            <span style=\"color: #008000; text-decoration-color: #008000\">'prompt_token_count'</span>: <span style=\"color: #008080; text-decoration-color: #008080; font-weight: bold\">7</span>,\n",
       "            <span style=\"color: #008000; text-decoration-color: #008000\">'candidates_token_count'</span>: <span style=\"color: #008080; text-decoration-color: #008080; font-weight: bold\">25</span>,\n",
       "            <span style=\"color: #008000; text-decoration-color: #008000\">'total_token_count'</span>: <span style=\"color: #008080; text-decoration-color: #008080; font-weight: bold\">32</span>,\n",
       "            <span style=\"color: #008000; text-decoration-color: #008000\">'prompt_tokens_details'</span>: <span style=\"font-weight: bold\">[{</span><span style=\"color: #008000; text-decoration-color: #008000\">'modality'</span>: <span style=\"color: #008080; text-decoration-color: #008080; font-weight: bold\">1</span>, <span style=\"color: #008000; text-decoration-color: #008000\">'token_count'</span>: <span style=\"color: #008080; text-decoration-color: #008080; font-weight: bold\">7</span><span style=\"font-weight: bold\">}]</span>,\n",
       "            <span style=\"color: #008000; text-decoration-color: #008000\">'candidates_tokens_details'</span>: <span style=\"font-weight: bold\">[{</span><span style=\"color: #008000; text-decoration-color: #008000\">'modality'</span>: <span style=\"color: #008080; text-decoration-color: #008080; font-weight: bold\">1</span>, <span style=\"color: #008000; text-decoration-color: #008000\">'token_count'</span>: <span style=\"color: #008080; text-decoration-color: #008080; font-weight: bold\">25</span><span style=\"font-weight: bold\">}]</span>,\n",
       "            <span style=\"color: #008000; text-decoration-color: #008000\">'thoughts_token_count'</span>: <span style=\"color: #008080; text-decoration-color: #008080; font-weight: bold\">0</span>,\n",
       "            <span style=\"color: #008000; text-decoration-color: #008000\">'cached_content_token_count'</span>: <span style=\"color: #008080; text-decoration-color: #008080; font-weight: bold\">0</span>,\n",
       "            <span style=\"color: #008000; text-decoration-color: #008000\">'cache_tokens_details'</span>: <span style=\"font-weight: bold\">[]</span>\n",
       "        <span style=\"font-weight: bold\">}</span>,\n",
       "        <span style=\"color: #008000; text-decoration-color: #008000\">'finish_reason'</span>: <span style=\"color: #008000; text-decoration-color: #008000\">'STOP'</span>,\n",
       "        <span style=\"color: #008000; text-decoration-color: #008000\">'avg_logprobs'</span>: <span style=\"color: #008080; text-decoration-color: #008080; font-weight: bold\">-0.274185905456543</span>,\n",
       "        <span style=\"color: #008000; text-decoration-color: #008000\">'model_name'</span>: <span style=\"color: #008000; text-decoration-color: #008000\">'gemini-2.0-flash-001'</span>\n",
       "    <span style=\"font-weight: bold\">}</span>,\n",
       "    <span style=\"color: #808000; text-decoration-color: #808000\">id</span>=<span style=\"color: #008000; text-decoration-color: #008000\">'run--8f7e33b2-d4a2-43f1-9db1-59f837546be4-0'</span>,\n",
       "    <span style=\"color: #808000; text-decoration-color: #808000\">usage_metadata</span>=<span style=\"font-weight: bold\">{</span><span style=\"color: #008000; text-decoration-color: #008000\">'input_tokens'</span>: <span style=\"color: #008080; text-decoration-color: #008080; font-weight: bold\">7</span>, <span style=\"color: #008000; text-decoration-color: #008000\">'output_tokens'</span>: <span style=\"color: #008080; text-decoration-color: #008080; font-weight: bold\">25</span>, <span style=\"color: #008000; text-decoration-color: #008000\">'total_tokens'</span>: <span style=\"color: #008080; text-decoration-color: #008080; font-weight: bold\">32</span><span style=\"font-weight: bold\">}</span>\n",
       "<span style=\"font-weight: bold\">)</span>\n",
       "</pre>\n"
      ],
      "text/plain": [
       "\u001b[1;35mAIMessage\u001b[0m\u001b[1m(\u001b[0m\n",
       "    \u001b[33mcontent\u001b[0m=\u001b[32m'Why did the police officer bring a ladder to the art gallery?\\n\\nBecause he heard the paintings were \u001b[0m\n",
       "\u001b[32mhigh-profile!\\n'\u001b[0m,\n",
       "    \u001b[33madditional_kwargs\u001b[0m=\u001b[1m{\u001b[0m\u001b[1m}\u001b[0m,\n",
       "    \u001b[33mresponse_metadata\u001b[0m=\u001b[1m{\u001b[0m\n",
       "        \u001b[32m'is_blocked'\u001b[0m: \u001b[3;91mFalse\u001b[0m,\n",
       "        \u001b[32m'safety_ratings'\u001b[0m: \u001b[1m[\u001b[0m\u001b[1m]\u001b[0m,\n",
       "        \u001b[32m'usage_metadata'\u001b[0m: \u001b[1m{\u001b[0m\n",
       "            \u001b[32m'prompt_token_count'\u001b[0m: \u001b[1;36m7\u001b[0m,\n",
       "            \u001b[32m'candidates_token_count'\u001b[0m: \u001b[1;36m25\u001b[0m,\n",
       "            \u001b[32m'total_token_count'\u001b[0m: \u001b[1;36m32\u001b[0m,\n",
       "            \u001b[32m'prompt_tokens_details'\u001b[0m: \u001b[1m[\u001b[0m\u001b[1m{\u001b[0m\u001b[32m'modality'\u001b[0m: \u001b[1;36m1\u001b[0m, \u001b[32m'token_count'\u001b[0m: \u001b[1;36m7\u001b[0m\u001b[1m}\u001b[0m\u001b[1m]\u001b[0m,\n",
       "            \u001b[32m'candidates_tokens_details'\u001b[0m: \u001b[1m[\u001b[0m\u001b[1m{\u001b[0m\u001b[32m'modality'\u001b[0m: \u001b[1;36m1\u001b[0m, \u001b[32m'token_count'\u001b[0m: \u001b[1;36m25\u001b[0m\u001b[1m}\u001b[0m\u001b[1m]\u001b[0m,\n",
       "            \u001b[32m'thoughts_token_count'\u001b[0m: \u001b[1;36m0\u001b[0m,\n",
       "            \u001b[32m'cached_content_token_count'\u001b[0m: \u001b[1;36m0\u001b[0m,\n",
       "            \u001b[32m'cache_tokens_details'\u001b[0m: \u001b[1m[\u001b[0m\u001b[1m]\u001b[0m\n",
       "        \u001b[1m}\u001b[0m,\n",
       "        \u001b[32m'finish_reason'\u001b[0m: \u001b[32m'STOP'\u001b[0m,\n",
       "        \u001b[32m'avg_logprobs'\u001b[0m: \u001b[1;36m-0.274185905456543\u001b[0m,\n",
       "        \u001b[32m'model_name'\u001b[0m: \u001b[32m'gemini-2.0-flash-001'\u001b[0m\n",
       "    \u001b[1m}\u001b[0m,\n",
       "    \u001b[33mid\u001b[0m=\u001b[32m'run--8f7e33b2-d4a2-43f1-9db1-59f837546be4-0'\u001b[0m,\n",
       "    \u001b[33musage_metadata\u001b[0m=\u001b[1m{\u001b[0m\u001b[32m'input_tokens'\u001b[0m: \u001b[1;36m7\u001b[0m, \u001b[32m'output_tokens'\u001b[0m: \u001b[1;36m25\u001b[0m, \u001b[32m'total_tokens'\u001b[0m: \u001b[1;36m32\u001b[0m\u001b[1m}\u001b[0m\n",
       "\u001b[1m)\u001b[0m\n"
      ]
     },
     "metadata": {},
     "output_type": "display_data"
    }
   ],
   "source": [
    "pprint(response)"
   ]
  },
  {
   "cell_type": "markdown",
   "id": "896af8f5-d18a-451c-b3cf-b220023a6dfd",
   "metadata": {},
   "source": [
    "### 2.2 Usage of RunnablePassthrough\n",
    "`invoke()` function require use to provide `dict` as input. We could only input string by using **RunnablePassthrough**."
   ]
  },
  {
   "cell_type": "code",
   "execution_count": 30,
   "id": "eda90009-3441-4335-b8bf-75d4aa849ce2",
   "metadata": {},
   "outputs": [],
   "source": [
    "from langchain.schema.runnable import RunnablePassthrough"
   ]
  },
  {
   "cell_type": "code",
   "execution_count": 33,
   "id": "55ea28b4-9ae0-4c5e-b12b-3c0e30647360",
   "metadata": {},
   "outputs": [],
   "source": [
    "prompt_template = PromptTemplate.from_template('Please tell me one joke about {item}')\n",
    "\n",
    "chain = (\n",
    "    {'item':RunnablePassthrough()} | prompt_template | llm\n",
    ")"
   ]
  },
  {
   "cell_type": "code",
   "execution_count": 34,
   "id": "446c7538-6468-4613-a6cf-23b818dfd255",
   "metadata": {},
   "outputs": [
    {
     "data": {
      "text/html": [
       "<pre style=\"white-space:pre;overflow-x:auto;line-height:normal;font-family:Menlo,'DejaVu Sans Mono',consolas,'Courier New',monospace\">Why did the donut go to the police academy?\n",
       "\n",
       "Because it wanted to learn how to glaze and confuse!\n",
       "\n",
       "</pre>\n"
      ],
      "text/plain": [
       "Why did the donut go to the police academy?\n",
       "\n",
       "Because it wanted to learn how to glaze and confuse!\n",
       "\n"
      ]
     },
     "metadata": {},
     "output_type": "display_data"
    }
   ],
   "source": [
    "response = chain.invoke('Officer')\n",
    "\n",
    "pprint(response)"
   ]
  },
  {
   "cell_type": "markdown",
   "id": "04a9b4ec-e335-42c8-879b-4809487d8c11",
   "metadata": {},
   "source": [
    "### 2.3 with itemgetter\n",
    "Sometimes there is a dict input with unnecessary key-value pair. We could use **itemgetter** to select required key-value."
   ]
  },
  {
   "cell_type": "code",
   "execution_count": 35,
   "id": "0d4616f0-b7d9-476e-9d7a-3a4f6588ff2c",
   "metadata": {},
   "outputs": [],
   "source": [
    "from operator import itemgetter"
   ]
  },
  {
   "cell_type": "code",
   "execution_count": 37,
   "id": "e978c570-f442-4818-aeef-d6aa58e02c5d",
   "metadata": {},
   "outputs": [],
   "source": [
    "prompt_template = PromptTemplate.from_template('Please tell me one joke about {item}')\n",
    "\n",
    "chain = (\n",
    "    {'item':itemgetter('item')} | prompt_template | llm\n",
    ")"
   ]
  },
  {
   "cell_type": "code",
   "execution_count": 39,
   "id": "8fdbe626-29dd-4b68-992b-63105034a718",
   "metadata": {},
   "outputs": [
    {
     "data": {
      "text/html": [
       "<pre style=\"white-space:pre;overflow-x:auto;line-height:normal;font-family:Menlo,'DejaVu Sans Mono',consolas,'Courier New',monospace\">Why did the police officer bring a ladder to the bar? \n",
       "\n",
       "Because he heard the drinks were on the house!\n",
       "\n",
       "</pre>\n"
      ],
      "text/plain": [
       "Why did the police officer bring a ladder to the bar? \n",
       "\n",
       "Because he heard the drinks were on the house!\n",
       "\n"
      ]
     },
     "metadata": {},
     "output_type": "display_data"
    }
   ],
   "source": [
    "response = chain.invoke({'item':'Officer', 'other-key':'value'})\n",
    "\n",
    "pprint(response)"
   ]
  },
  {
   "cell_type": "markdown",
   "id": "7f8075b2-3249-4a31-9c8e-e94def15ae5b",
   "metadata": {},
   "source": [
    "## 2.4 Usage of RouterRunnable\n",
    "We could use **RouterRunnable** to constructure a routing chain but we need selection model which is langhchain `BaseModel` & tagger created by langchain `create_tagging_chain_pydantic`"
   ]
  },
  {
   "cell_type": "code",
   "execution_count": 42,
   "id": "67103fa6-9c84-4eb9-a110-74c6a5ffa7a6",
   "metadata": {},
   "outputs": [],
   "source": [
    "physics_prompt_template = PromptTemplate.from_template(\n",
    "    '你是个优秀的物理学家，你很擅长用简明易懂的方式回答有关物理学的问题。'\n",
    "    '请使用英文帮我解答下列问题：\\n{input}'\n",
    ")\n",
    "math_prompt_template = PromptTemplate.from_template(\n",
    "    '你是个很好的数学家。你很擅长回答数学问题。'\n",
    "    '请使用英文帮我解答下列问题：\\n{input}'\n",
    ")"
   ]
  },
  {
   "cell_type": "code",
   "execution_count": 43,
   "id": "0240967a-b58a-4a22-b5a0-d1569bd51dfa",
   "metadata": {},
   "outputs": [],
   "source": [
    "from langchain.chains.llm import LLMChain"
   ]
  },
  {
   "cell_type": "code",
   "execution_count": 74,
   "id": "12948800-c202-42f0-bf44-8e4c75ac037d",
   "metadata": {},
   "outputs": [],
   "source": [
    "prompt_infos = [\n",
    "    {\n",
    "        'name': 'physics',\n",
    "        'description': '用于解答物理相关问题',\n",
    "        'prompt_template': physics_prompt_template,\n",
    "    },\n",
    "    {\n",
    "        'name': 'maths',\n",
    "        'description': '用于解答数学相关问题',\n",
    "        'prompt_template': math_prompt_template,\n",
    "    },\n",
    "]\n",
    "\n",
    "destination_chain = {}\n",
    "for p_info in prompt_infos:\n",
    "    name = p_info['name']\n",
    "    prompt = p_info['prompt_template']\n",
    "    chain = LLMChain(llm=llm, prompt=prompt)\n",
    "    destination_chain[name] = chain"
   ]
  },
  {
   "cell_type": "code",
   "execution_count": 75,
   "id": "27655129-e49a-4436-90a9-5a14432cf4ab",
   "metadata": {},
   "outputs": [
    {
     "data": {
      "text/plain": [
       "'physics: 用于解答物理相关问题\\nmaths: 用于解答数学相关问题'"
      ]
     },
     "execution_count": 75,
     "metadata": {},
     "output_type": "execute_result"
    }
   ],
   "source": [
    "destination_prompt = \"\\n\".join([f'{p_info[\"name\"]}: {p_info[\"description\"]}' for p_info in prompt_infos])\n",
    "destination_prompt"
   ]
  },
  {
   "cell_type": "code",
   "execution_count": 76,
   "id": "95bcf6d7-bb3e-4a99-a198-ddb1ec810577",
   "metadata": {},
   "outputs": [],
   "source": [
    "from langchain.chains.router.multi_prompt_prompt import MULTI_PROMPT_ROUTER_TEMPLATE\n",
    "from langchain.chains.router.llm_router import  RouterOutputParser, LLMRouterChain\n",
    "\n",
    "router_prompt_template = MULTI_PROMPT_ROUTER_TEMPLATE.format(destinations=destination_prompt)\n",
    "\n",
    "router_prompt = PromptTemplate(\n",
    "    template=router_prompt_template,\n",
    "    input_variable=['input'],\n",
    "    output_parser=RouterOutputParser()\n",
    ")\n",
    "\n",
    "router_chain = LLMRouterChain.from_llm(llm, router_prompt)"
   ]
  },
  {
   "cell_type": "code",
   "execution_count": 77,
   "id": "bb4d60b1-9fca-490b-ab79-cc9afe8c21b3",
   "metadata": {},
   "outputs": [],
   "source": [
    "# fallback chain\n",
    "from langchain.chains import ConversationChain\n",
    "fallback_chain = ConversationChain(llm=llm, output_key='text')"
   ]
  },
  {
   "cell_type": "code",
   "execution_count": 78,
   "id": "2221cffa-232f-4136-954f-e7018213d7a3",
   "metadata": {},
   "outputs": [],
   "source": [
    "from langchain.chains.router import MultiPromptChain\n",
    "\n",
    "multi_prompt_chain = MultiPromptChain(\n",
    "    router_chain=router_chain,\n",
    "    destination_chains=destination_chain,\n",
    "    default_chain=fallback_chain,\n",
    "    verbose=True\n",
    ")"
   ]
  },
  {
   "cell_type": "code",
   "execution_count": 79,
   "id": "e8b671c0-1351-4230-b6da-5587fd89c8c3",
   "metadata": {},
   "outputs": [
    {
     "name": "stdout",
     "output_type": "stream",
     "text": [
      "\n",
      "\n",
      "\u001b[1m> Entering new MultiPromptChain chain...\u001b[0m\n",
      "physics: {'input': \"What is Newton's First Law of Motion?\"}\n",
      "\u001b[1m> Finished chain.\u001b[0m\n"
     ]
    },
    {
     "data": {
      "text/html": [
       "<pre style=\"white-space:pre;overflow-x:auto;line-height:normal;font-family:Menlo,'DejaVu Sans Mono',consolas,'Courier New',monospace\"><span style=\"font-weight: bold\">{</span>\n",
       "    <span style=\"color: #008000; text-decoration-color: #008000\">'input'</span>: <span style=\"color: #008000; text-decoration-color: #008000\">\"What is Newton's First Law of Motion?\"</span>,\n",
       "    <span style=\"color: #008000; text-decoration-color: #008000\">'text'</span>: <span style=\"color: #008000; text-decoration-color: #008000\">'Okay, here\\'s a simple explanation of Newton\\'s First Law of Motion:\\n\\n**Newton\\'s First Law of </span>\n",
       "<span style=\"color: #008000; text-decoration-color: #008000\">Motion, also known as the Law of Inertia, states:**\\n\\n*   **An object at rest stays at rest, and an object in </span>\n",
       "<span style=\"color: #008000; text-decoration-color: #008000\">motion stays in motion with the same speed and in the same direction unless acted upon by a force.**\\n\\n**In </span>\n",
       "<span style=\"color: #008000; text-decoration-color: #008000\">simpler terms:**\\n\\n*   **Things like to keep doing what they\\'re already doing.** If something is sitting still, </span>\n",
       "<span style=\"color: #008000; text-decoration-color: #008000\">it will stay still unless you push or pull it. If something is moving, it will keep moving at the same speed and in</span>\n",
       "<span style=\"color: #008000; text-decoration-color: #008000\">the same direction unless something slows it down, speeds it up, or changes its direction.\\n\\n**Key points to </span>\n",
       "<span style=\"color: #008000; text-decoration-color: #008000\">understand:**\\n\\n*   **Inertia:** This is the tendency of an object to resist changes in its state of motion. The </span>\n",
       "<span style=\"color: #008000; text-decoration-color: #008000\">more massive an object is, the more inertia it has. A heavy truck has more inertia than a bicycle, so it\\'s harder </span>\n",
       "<span style=\"color: #008000; text-decoration-color: #008000\">to start it moving and harder to stop it once it\\'s moving.\\n*   **Force:** A force is a push or a pull. Forces are</span>\n",
       "<span style=\"color: #008000; text-decoration-color: #008000\">what cause changes in motion.\\n*   **Constant Velocity:** \"Motion with the same speed and in the same direction\" </span>\n",
       "<span style=\"color: #008000; text-decoration-color: #008000\">means constant velocity. Constant velocity includes being at rest (zero velocity).\\n\\n**Examples:**\\n\\n*   A soccer</span>\n",
       "<span style=\"color: #008000; text-decoration-color: #008000\">ball will sit still on the field until someone kicks it (applies a force).\\n*   A hockey puck will slide across the</span>\n",
       "<span style=\"color: #008000; text-decoration-color: #008000\">ice at a constant speed until friction (a force) slows it down.\\n*   When a car suddenly brakes, the passengers </span>\n",
       "<span style=\"color: #008000; text-decoration-color: #008000\">tend to continue moving forward until their seatbelts exert a force to stop them. This is inertia in </span>\n",
       "<span style=\"color: #008000; text-decoration-color: #008000\">action!\\n\\nHopefully, this helps you understand Newton\\'s First Law! Let me know if you have any more questions.\\n'</span>\n",
       "<span style=\"font-weight: bold\">}</span>\n",
       "</pre>\n"
      ],
      "text/plain": [
       "\u001b[1m{\u001b[0m\n",
       "    \u001b[32m'input'\u001b[0m: \u001b[32m\"What is Newton's First Law of Motion?\"\u001b[0m,\n",
       "    \u001b[32m'text'\u001b[0m: \u001b[32m'Okay, here\\'s a simple explanation of Newton\\'s First Law of Motion:\\n\\n**Newton\\'s First Law of \u001b[0m\n",
       "\u001b[32mMotion, also known as the Law of Inertia, states:**\\n\\n*   **An object at rest stays at rest, and an object in \u001b[0m\n",
       "\u001b[32mmotion stays in motion with the same speed and in the same direction unless acted upon by a force.**\\n\\n**In \u001b[0m\n",
       "\u001b[32msimpler terms:**\\n\\n*   **Things like to keep doing what they\\'re already doing.** If something is sitting still, \u001b[0m\n",
       "\u001b[32mit will stay still unless you push or pull it. If something is moving, it will keep moving at the same speed and in\u001b[0m\n",
       "\u001b[32mthe same direction unless something slows it down, speeds it up, or changes its direction.\\n\\n**Key points to \u001b[0m\n",
       "\u001b[32munderstand:**\\n\\n*   **Inertia:** This is the tendency of an object to resist changes in its state of motion. The \u001b[0m\n",
       "\u001b[32mmore massive an object is, the more inertia it has. A heavy truck has more inertia than a bicycle, so it\\'s harder \u001b[0m\n",
       "\u001b[32mto start it moving and harder to stop it once it\\'s moving.\\n*   **Force:** A force is a push or a pull. Forces are\u001b[0m\n",
       "\u001b[32mwhat cause changes in motion.\\n*   **Constant Velocity:** \"Motion with the same speed and in the same direction\" \u001b[0m\n",
       "\u001b[32mmeans constant velocity. Constant velocity includes being at rest \u001b[0m\u001b[32m(\u001b[0m\u001b[32mzero velocity\u001b[0m\u001b[32m)\u001b[0m\u001b[32m.\\n\\n**Examples:**\\n\\n*   A soccer\u001b[0m\n",
       "\u001b[32mball will sit still on the field until someone kicks it \u001b[0m\u001b[32m(\u001b[0m\u001b[32mapplies a force\u001b[0m\u001b[32m)\u001b[0m\u001b[32m.\\n*   A hockey puck will slide across the\u001b[0m\n",
       "\u001b[32mice at a constant speed until friction \u001b[0m\u001b[32m(\u001b[0m\u001b[32ma force\u001b[0m\u001b[32m)\u001b[0m\u001b[32m slows it down.\\n*   When a car suddenly brakes, the passengers \u001b[0m\n",
       "\u001b[32mtend to continue moving forward until their seatbelts exert a force to stop them. This is inertia in \u001b[0m\n",
       "\u001b[32maction!\\n\\nHopefully, this helps you understand Newton\\'s First Law! Let me know if you have any more questions.\\n'\u001b[0m\n",
       "\u001b[1m}\u001b[0m\n"
      ]
     },
     "metadata": {},
     "output_type": "display_data"
    }
   ],
   "source": [
    "response = multi_prompt_chain.invoke(\"What is Newton's First Law?\")\n",
    "\n",
    "pprint(response)"
   ]
  },
  {
   "cell_type": "code",
   "execution_count": null,
   "id": "6efd8321-22d3-4ee6-8014-e2ea767b5709",
   "metadata": {},
   "outputs": [],
   "source": []
  },
  {
   "cell_type": "code",
   "execution_count": null,
   "id": "487c410c-0366-45f0-9135-7df29ae6bdea",
   "metadata": {},
   "outputs": [],
   "source": []
  }
 ],
 "metadata": {
  "kernelspec": {
   "display_name": "Python 3 (ipykernel)",
   "language": "python",
   "name": "python3"
  },
  "language_info": {
   "codemirror_mode": {
    "name": "ipython",
    "version": 3
   },
   "file_extension": ".py",
   "mimetype": "text/x-python",
   "name": "python",
   "nbconvert_exporter": "python",
   "pygments_lexer": "ipython3",
   "version": "3.9.21"
  }
 },
 "nbformat": 4,
 "nbformat_minor": 5
}
