{
 "cells": [
  {
   "cell_type": "markdown",
   "id": "7be4a0b1-099d-4648-bb17-7693a64df831",
   "metadata": {},
   "source": [
    "Prepare for examples"
   ]
  },
  {
   "cell_type": "code",
   "execution_count": 1,
   "id": "c611dc44-e5d6-4efd-89ff-04054cc8dbe3",
   "metadata": {},
   "outputs": [],
   "source": [
    "from rich import print as pprint"
   ]
  },
  {
   "cell_type": "code",
   "execution_count": 2,
   "id": "c98d68ca-ebe7-4c46-b433-da182905daaf",
   "metadata": {},
   "outputs": [],
   "source": [
    "from langchain_google_vertexai import VertexAI\n",
    "\n",
    "llm = VertexAI()"
   ]
  },
  {
   "cell_type": "code",
   "execution_count": 3,
   "id": "7caa4c68-e213-47a7-acdc-e028e160e1fe",
   "metadata": {},
   "outputs": [],
   "source": [
    "from langchain_google_vertexai import ChatVertexAI\n",
    "\n",
    "chat_model = ChatVertexAI(model_name=\"gemini-2.0-flash-001\")"
   ]
  },
  {
   "cell_type": "code",
   "execution_count": 6,
   "id": "4029fd83-c7c1-4cbe-97ab-8d677d449e5e",
   "metadata": {},
   "outputs": [],
   "source": [
    "from langchain.prompts import PromptTemplate"
   ]
  },
  {
   "cell_type": "markdown",
   "id": "46d53bbd-3cc8-4521-80c9-c3cc1323bcb7",
   "metadata": {},
   "source": [
    "# Output parser"
   ]
  },
  {
   "cell_type": "markdown",
   "id": "47f86dbd-8b99-4566-904e-f83bee2f273d",
   "metadata": {},
   "source": [
    "The return from LLM is string, but during programming development we hope that we could receive structured information."
   ]
  },
  {
   "cell_type": "markdown",
   "id": "2bd62eb5-dd4c-4b36-b174-9131cbf27e6f",
   "metadata": {},
   "source": [
    "## 1. CommaSeparatedListOutputParser"
   ]
  },
  {
   "cell_type": "code",
   "execution_count": 10,
   "id": "077177ae-2405-4766-bd02-357d5fb3893f",
   "metadata": {},
   "outputs": [],
   "source": [
    "from langchain.output_parsers import CommaSeparatedListOutputParser"
   ]
  },
  {
   "cell_type": "code",
   "execution_count": 13,
   "id": "b6ef1343-8140-477e-9e6f-558724b60801",
   "metadata": {},
   "outputs": [
    {
     "data": {
      "text/html": [
       "<pre style=\"white-space:pre;overflow-x:auto;line-height:normal;font-family:Menlo,'DejaVu Sans Mono',consolas,'Courier New',monospace\">Your response should be a list of comma separated values, eg: `foo, bar, baz` or `foo,bar,baz`\n",
       "</pre>\n"
      ],
      "text/plain": [
       "Your response should be a list of comma separated values, eg: `foo, bar, baz` or `foo,bar,baz`\n"
      ]
     },
     "metadata": {},
     "output_type": "display_data"
    }
   ],
   "source": [
    "output_parser = CommaSeparatedListOutputParser()\n",
    "instructions = output_parser.get_format_instructions()\n",
    "pprint(instructions)"
   ]
  },
  {
   "cell_type": "code",
   "execution_count": 16,
   "id": "41d9df01-bb2f-4a65-8fc4-84b55b003877",
   "metadata": {},
   "outputs": [
    {
     "data": {
      "text/html": [
       "<pre style=\"white-space:pre;overflow-x:auto;line-height:normal;font-family:Menlo,'DejaVu Sans Mono',consolas,'Courier New',monospace\">Please return <span style=\"color: #008080; text-decoration-color: #008080; font-weight: bold\">3</span> representative Programming Languages.\n",
       "Your response should be a list of comma separated values, eg: `foo, bar, baz` or `foo,bar,baz`\n",
       "</pre>\n"
      ],
      "text/plain": [
       "Please return \u001b[1;36m3\u001b[0m representative Programming Languages.\n",
       "Your response should be a list of comma separated values, eg: `foo, bar, baz` or `foo,bar,baz`\n"
      ]
     },
     "metadata": {},
     "output_type": "display_data"
    }
   ],
   "source": [
    "prompt_template = PromptTemplate.from_template(\n",
    "    template='Please return 3 representative {input}.\\n{instructions}',\n",
    "    partial_variables={'instructions':instructions}\n",
    ")\n",
    "\n",
    "prompt = prompt_template.format(input='Programming Languages')\n",
    "\n",
    "pprint(prompt)"
   ]
  },
  {
   "cell_type": "code",
   "execution_count": 17,
   "id": "3c3dc4af-4a86-4802-8623-ebb97b8b1c8f",
   "metadata": {},
   "outputs": [
    {
     "data": {
      "text/html": [
       "<pre style=\"white-space:pre;overflow-x:auto;line-height:normal;font-family:Menlo,'DejaVu Sans Mono',consolas,'Courier New',monospace\">Python, Java, C++\n",
       "\n",
       "</pre>\n"
      ],
      "text/plain": [
       "Python, Java, C++\n",
       "\n"
      ]
     },
     "metadata": {},
     "output_type": "display_data"
    }
   ],
   "source": [
    "response = llm.invoke(prompt)\n",
    "pprint(response)"
   ]
  },
  {
   "cell_type": "code",
   "execution_count": 18,
   "id": "0f7d013a-7be2-4a95-ac5e-6d66166978e5",
   "metadata": {},
   "outputs": [
    {
     "data": {
      "text/plain": [
       "str"
      ]
     },
     "execution_count": 18,
     "metadata": {},
     "output_type": "execute_result"
    }
   ],
   "source": [
    "type(response)"
   ]
  },
  {
   "cell_type": "code",
   "execution_count": 21,
   "id": "d11975e7-c976-4be1-a59d-71964c97088f",
   "metadata": {},
   "outputs": [
    {
     "data": {
      "text/plain": [
       "['Python', 'Java', 'C++']"
      ]
     },
     "execution_count": 21,
     "metadata": {},
     "output_type": "execute_result"
    }
   ],
   "source": [
    "result = output_parser.parse(response)\n",
    "\n",
    "result"
   ]
  },
  {
   "cell_type": "code",
   "execution_count": 20,
   "id": "007ac117-dd15-4c28-bab1-e03a8d09aee4",
   "metadata": {},
   "outputs": [
    {
     "data": {
      "text/plain": [
       "list"
      ]
     },
     "execution_count": 20,
     "metadata": {},
     "output_type": "execute_result"
    }
   ],
   "source": [
    "type(result)"
   ]
  },
  {
   "cell_type": "markdown",
   "id": "c9e9ffe5-a725-42ca-b770-d6813d94ac2e",
   "metadata": {},
   "source": [
    "## 2. StructuredOutputParser\n",
    "We could use `StructuredOutputParser` to transform LLM response to Python Dictionary"
   ]
  },
  {
   "cell_type": "code",
   "execution_count": 39,
   "id": "de379923-d9ee-49f8-b773-d8f5a2163474",
   "metadata": {},
   "outputs": [],
   "source": [
    "from langchain.output_parsers import StructuredOutputParser, ResponseSchema"
   ]
  },
  {
   "cell_type": "markdown",
   "id": "4904104d-46fd-4f4e-8698-d320bd8bebd3",
   "metadata": {},
   "source": [
    "define the Parser for Dictionary"
   ]
  },
  {
   "cell_type": "code",
   "execution_count": 40,
   "id": "e0562710-c41f-4fd6-8203-70cbc2448651",
   "metadata": {},
   "outputs": [],
   "source": [
    "schemas =[\n",
    "    ResponseSchema(name='answer', description='Content of response'),\n",
    "    ResponseSchema(name='source', description='the source of content of response')\n",
    "]\n",
    "\n",
    "output_parser = StructuredOutputParser.from_response_schemas(schemas)\n",
    "\n",
    "instruction = output_parser.get_format_instructions()\n"
   ]
  },
  {
   "cell_type": "code",
   "execution_count": 41,
   "id": "0832e101-ed5b-4d6c-b612-71bac21cfe00",
   "metadata": {},
   "outputs": [
    {
     "data": {
      "text/html": [
       "<pre style=\"white-space:pre;overflow-x:auto;line-height:normal;font-family:Menlo,'DejaVu Sans Mono',consolas,'Courier New',monospace\">The output should be a markdown code snippet formatted in the following schema, including the leading and trailing \n",
       "<span style=\"color: #008000; text-decoration-color: #008000\">\"```json\"</span> and <span style=\"color: #008000; text-decoration-color: #008000\">\"```\"</span>:\n",
       "\n",
       "```json\n",
       "<span style=\"font-weight: bold\">{</span>\n",
       "        <span style=\"color: #008000; text-decoration-color: #008000\">\"answer\"</span>: string  <span style=\"color: #800080; text-decoration-color: #800080\">//</span> Content of response\n",
       "        <span style=\"color: #008000; text-decoration-color: #008000\">\"source\"</span>: string  <span style=\"color: #800080; text-decoration-color: #800080\">//</span> the source of content of response\n",
       "<span style=\"font-weight: bold\">}</span>\n",
       "```\n",
       "</pre>\n"
      ],
      "text/plain": [
       "The output should be a markdown code snippet formatted in the following schema, including the leading and trailing \n",
       "\u001b[32m\"```json\"\u001b[0m and \u001b[32m\"```\"\u001b[0m:\n",
       "\n",
       "```json\n",
       "\u001b[1m{\u001b[0m\n",
       "        \u001b[32m\"answer\"\u001b[0m: string  \u001b[35m/\u001b[0m\u001b[35m/\u001b[0m Content of response\n",
       "        \u001b[32m\"source\"\u001b[0m: string  \u001b[35m/\u001b[0m\u001b[35m/\u001b[0m the source of content of response\n",
       "\u001b[1m}\u001b[0m\n",
       "```\n"
      ]
     },
     "metadata": {},
     "output_type": "display_data"
    }
   ],
   "source": [
    "pprint(instruction)"
   ]
  },
  {
   "cell_type": "code",
   "execution_count": 42,
   "id": "5fda3dc4-1ebf-4001-bf39-b7957f5c72fb",
   "metadata": {},
   "outputs": [],
   "source": [
    "prompt_template = PromptTemplate.from_template(\n",
    "    template=\"Please reply user's question. \\n{question}\\n{instruction}\",\n",
    "    partial_variables={'instruction':instruction}\n",
    ")\n",
    "\n",
    "prompt = prompt_template.format(question='There are how many nationalities in China?')"
   ]
  },
  {
   "cell_type": "code",
   "execution_count": 43,
   "id": "6e723052-5645-4f79-a0be-3a9bc88c3aed",
   "metadata": {},
   "outputs": [
    {
     "data": {
      "text/html": [
       "<pre style=\"white-space:pre;overflow-x:auto;line-height:normal;font-family:Menlo,'DejaVu Sans Mono',consolas,'Courier New',monospace\">```json\n",
       "<span style=\"font-weight: bold\">{</span>\n",
       "        <span style=\"color: #008000; text-decoration-color: #008000\">\"answer\"</span>: <span style=\"color: #008000; text-decoration-color: #008000\">\"There are 56 officially recognized nationalities (or ethnic groups) in China. The Han Chinese </span>\n",
       "<span style=\"color: #008000; text-decoration-color: #008000\">are the majority, and the other 55 are officially recognized as minority groups.\"</span>,\n",
       "        <span style=\"color: #008000; text-decoration-color: #008000\">\"source\"</span>: <span style=\"color: #008000; text-decoration-color: #008000\">\"Various sources including official government websites and academic studies on ethnicity in </span>\n",
       "<span style=\"color: #008000; text-decoration-color: #008000\">China.\"</span>\n",
       "<span style=\"font-weight: bold\">}</span>\n",
       "```\n",
       "</pre>\n"
      ],
      "text/plain": [
       "```json\n",
       "\u001b[1m{\u001b[0m\n",
       "        \u001b[32m\"answer\"\u001b[0m: \u001b[32m\"There are 56 officially recognized nationalities \u001b[0m\u001b[32m(\u001b[0m\u001b[32mor ethnic groups\u001b[0m\u001b[32m)\u001b[0m\u001b[32m in China. The Han Chinese \u001b[0m\n",
       "\u001b[32mare the majority, and the other 55 are officially recognized as minority groups.\"\u001b[0m,\n",
       "        \u001b[32m\"source\"\u001b[0m: \u001b[32m\"Various sources including official government websites and academic studies on ethnicity in \u001b[0m\n",
       "\u001b[32mChina.\"\u001b[0m\n",
       "\u001b[1m}\u001b[0m\n",
       "```\n"
      ]
     },
     "metadata": {},
     "output_type": "display_data"
    }
   ],
   "source": [
    "response = llm.invoke(prompt)\n",
    "\n",
    "pprint(response)"
   ]
  },
  {
   "cell_type": "code",
   "execution_count": 44,
   "id": "557ec0fd-aaf4-4d20-bd18-f1aa54cfbcd3",
   "metadata": {},
   "outputs": [
    {
     "data": {
      "text/plain": [
       "{'answer': 'There are 56 officially recognized nationalities (or ethnic groups) in China. The Han Chinese are the majority, and the other 55 are officially recognized as minority groups.',\n",
       " 'source': 'Various sources including official government websites and academic studies on ethnicity in China.'}"
      ]
     },
     "execution_count": 44,
     "metadata": {},
     "output_type": "execute_result"
    }
   ],
   "source": [
    "output = output_parser.parse(response)\n",
    "output"
   ]
  },
  {
   "cell_type": "code",
   "execution_count": 45,
   "id": "cfa84192-5699-4df1-bffb-0b7480fc71d0",
   "metadata": {},
   "outputs": [
    {
     "data": {
      "text/plain": [
       "dict"
      ]
     },
     "execution_count": 45,
     "metadata": {},
     "output_type": "execute_result"
    }
   ],
   "source": [
    "type(output)"
   ]
  },
  {
   "cell_type": "markdown",
   "id": "0c3fc172-5559-4b7b-b21d-04211d99cf38",
   "metadata": {},
   "source": [
    "## 3. XMLOutputParser"
   ]
  },
  {
   "cell_type": "code",
   "execution_count": 46,
   "id": "738f3efe-9b37-4b12-9050-9368666a21a5",
   "metadata": {},
   "outputs": [],
   "source": [
    "from langchain.output_parsers import XMLOutputParser"
   ]
  },
  {
   "cell_type": "code",
   "execution_count": 47,
   "id": "7f17581a-cb7d-4ba8-9ada-9a8af8f56a64",
   "metadata": {},
   "outputs": [
    {
     "data": {
      "text/html": [
       "<pre style=\"white-space:pre;overflow-x:auto;line-height:normal;font-family:Menlo,'DejaVu Sans Mono',consolas,'Courier New',monospace\">The output should be formatted as a XML file.\n",
       "<span style=\"color: #008080; text-decoration-color: #008080; font-weight: bold\">1</span>. Output should conform to the tags below.\n",
       "<span style=\"color: #008080; text-decoration-color: #008080; font-weight: bold\">2</span>. If tags are not given, make them on your own.\n",
       "<span style=\"color: #008080; text-decoration-color: #008080; font-weight: bold\">3</span>. Remember to always open and close all the tags.\n",
       "\n",
       "As an example, for the tags <span style=\"font-weight: bold\">[</span><span style=\"color: #008000; text-decoration-color: #008000\">\"foo\"</span>, <span style=\"color: #008000; text-decoration-color: #008000\">\"bar\"</span>, <span style=\"color: #008000; text-decoration-color: #008000\">\"baz\"</span><span style=\"font-weight: bold\">]</span>:\n",
       "<span style=\"color: #008080; text-decoration-color: #008080; font-weight: bold\">1</span>. String \"<span style=\"font-weight: bold\">&lt;</span><span style=\"color: #ff00ff; text-decoration-color: #ff00ff; font-weight: bold\">foo</span><span style=\"color: #000000; text-decoration-color: #000000\">&gt;</span>\n",
       "<span style=\"color: #000000; text-decoration-color: #000000\">   &lt;bar&gt;</span>\n",
       "<span style=\"color: #000000; text-decoration-color: #000000\">      &lt;baz&gt;&lt;</span><span style=\"color: #800080; text-decoration-color: #800080\">/</span><span style=\"color: #ff00ff; text-decoration-color: #ff00ff\">baz</span><span style=\"color: #000000; text-decoration-color: #000000\">&gt;</span>\n",
       "<span style=\"color: #000000; text-decoration-color: #000000\">   &lt;</span><span style=\"color: #800080; text-decoration-color: #800080\">/</span><span style=\"color: #ff00ff; text-decoration-color: #ff00ff\">bar</span><span style=\"color: #000000; text-decoration-color: #000000\">&gt;</span>\n",
       "<span style=\"color: #000000; text-decoration-color: #000000\">&lt;</span><span style=\"color: #800080; text-decoration-color: #800080\">/</span><span style=\"color: #ff00ff; text-decoration-color: #ff00ff\">foo</span><span style=\"color: #000000; text-decoration-color: #000000\">&gt;\" is a well-formatted instance of the schema.</span>\n",
       "<span style=\"color: #008080; text-decoration-color: #008080; font-weight: bold\">2</span><span style=\"color: #000000; text-decoration-color: #000000\">. String \"&lt;foo&gt;</span>\n",
       "<span style=\"color: #000000; text-decoration-color: #000000\">   &lt;bar&gt;</span>\n",
       "<span style=\"color: #000000; text-decoration-color: #000000\">   &lt;</span><span style=\"color: #800080; text-decoration-color: #800080\">/</span><span style=\"color: #ff00ff; text-decoration-color: #ff00ff\">foo</span><span style=\"color: #000000; text-decoration-color: #000000\">&gt;\" is a badly-formatted instance.</span>\n",
       "<span style=\"color: #008080; text-decoration-color: #008080; font-weight: bold\">3</span><span style=\"color: #000000; text-decoration-color: #000000\">. String \"&lt;foo&gt;</span>\n",
       "<span style=\"color: #000000; text-decoration-color: #000000\">   &lt;tag&gt;</span>\n",
       "<span style=\"color: #000000; text-decoration-color: #000000\">   &lt;</span><span style=\"color: #800080; text-decoration-color: #800080\">/</span><span style=\"color: #ff00ff; text-decoration-color: #ff00ff\">tag</span><span style=\"color: #000000; text-decoration-color: #000000\">&gt;</span>\n",
       "<span style=\"color: #000000; text-decoration-color: #000000\">&lt;</span><span style=\"color: #800080; text-decoration-color: #800080\">/</span><span style=\"color: #ff00ff; text-decoration-color: #ff00ff\">foo</span><span style=\"font-weight: bold\">&gt;</span>\" is a badly-formatted instance.\n",
       "\n",
       "Here are the output tags:\n",
       "```\n",
       "<span style=\"font-weight: bold\">[</span><span style=\"color: #008000; text-decoration-color: #008000\">'movies'</span>, <span style=\"color: #008000; text-decoration-color: #008000\">'movie'</span>, <span style=\"color: #008000; text-decoration-color: #008000\">'name'</span>, <span style=\"color: #008000; text-decoration-color: #008000\">'director'</span>, <span style=\"color: #008000; text-decoration-color: #008000\">'year'</span><span style=\"font-weight: bold\">]</span>\n",
       "```\n",
       "</pre>\n"
      ],
      "text/plain": [
       "The output should be formatted as a XML file.\n",
       "\u001b[1;36m1\u001b[0m. Output should conform to the tags below.\n",
       "\u001b[1;36m2\u001b[0m. If tags are not given, make them on your own.\n",
       "\u001b[1;36m3\u001b[0m. Remember to always open and close all the tags.\n",
       "\n",
       "As an example, for the tags \u001b[1m[\u001b[0m\u001b[32m\"foo\"\u001b[0m, \u001b[32m\"bar\"\u001b[0m, \u001b[32m\"baz\"\u001b[0m\u001b[1m]\u001b[0m:\n",
       "\u001b[1;36m1\u001b[0m. String \"\u001b[1m<\u001b[0m\u001b[1;95mfoo\u001b[0m\u001b[39m>\u001b[0m\n",
       "\u001b[39m   <bar>\u001b[0m\n",
       "\u001b[39m      <baz><\u001b[0m\u001b[35m/\u001b[0m\u001b[95mbaz\u001b[0m\u001b[39m>\u001b[0m\n",
       "\u001b[39m   <\u001b[0m\u001b[35m/\u001b[0m\u001b[95mbar\u001b[0m\u001b[39m>\u001b[0m\n",
       "\u001b[39m<\u001b[0m\u001b[35m/\u001b[0m\u001b[95mfoo\u001b[0m\u001b[39m>\" is a well-formatted instance of the schema.\u001b[0m\n",
       "\u001b[1;36m2\u001b[0m\u001b[39m. String \"<foo>\u001b[0m\n",
       "\u001b[39m   <bar>\u001b[0m\n",
       "\u001b[39m   <\u001b[0m\u001b[35m/\u001b[0m\u001b[95mfoo\u001b[0m\u001b[39m>\" is a badly-formatted instance.\u001b[0m\n",
       "\u001b[1;36m3\u001b[0m\u001b[39m. String \"<foo>\u001b[0m\n",
       "\u001b[39m   <tag>\u001b[0m\n",
       "\u001b[39m   <\u001b[0m\u001b[35m/\u001b[0m\u001b[95mtag\u001b[0m\u001b[39m>\u001b[0m\n",
       "\u001b[39m<\u001b[0m\u001b[35m/\u001b[0m\u001b[95mfoo\u001b[0m\u001b[1m>\u001b[0m\" is a badly-formatted instance.\n",
       "\n",
       "Here are the output tags:\n",
       "```\n",
       "\u001b[1m[\u001b[0m\u001b[32m'movies'\u001b[0m, \u001b[32m'movie'\u001b[0m, \u001b[32m'name'\u001b[0m, \u001b[32m'director'\u001b[0m, \u001b[32m'year'\u001b[0m\u001b[1m]\u001b[0m\n",
       "```\n"
      ]
     },
     "metadata": {},
     "output_type": "display_data"
    }
   ],
   "source": [
    "output_parser = XMLOutputParser(\n",
    "    tags=['movies', 'movie', 'name', 'director', 'year']\n",
    ")\n",
    "\n",
    "instruction = output_parser.get_format_instructions()\n",
    "\n",
    "pprint(instruction)"
   ]
  },
  {
   "cell_type": "code",
   "execution_count": 49,
   "id": "8a311c97-89b3-47b6-97dd-be7b8e9953bc",
   "metadata": {},
   "outputs": [
    {
     "data": {
      "text/html": [
       "<pre style=\"white-space:pre;overflow-x:auto;line-height:normal;font-family:Menlo,'DejaVu Sans Mono',consolas,'Courier New',monospace\">Tell me two representative Japanese movies\n",
       "The output should be formatted as a XML file.\n",
       "<span style=\"color: #008080; text-decoration-color: #008080; font-weight: bold\">1</span>. Output should conform to the tags below.\n",
       "<span style=\"color: #008080; text-decoration-color: #008080; font-weight: bold\">2</span>. If tags are not given, make them on your own.\n",
       "<span style=\"color: #008080; text-decoration-color: #008080; font-weight: bold\">3</span>. Remember to always open and close all the tags.\n",
       "\n",
       "As an example, for the tags <span style=\"font-weight: bold\">[</span><span style=\"color: #008000; text-decoration-color: #008000\">\"foo\"</span>, <span style=\"color: #008000; text-decoration-color: #008000\">\"bar\"</span>, <span style=\"color: #008000; text-decoration-color: #008000\">\"baz\"</span><span style=\"font-weight: bold\">]</span>:\n",
       "<span style=\"color: #008080; text-decoration-color: #008080; font-weight: bold\">1</span>. String \"<span style=\"font-weight: bold\">&lt;</span><span style=\"color: #ff00ff; text-decoration-color: #ff00ff; font-weight: bold\">foo</span><span style=\"color: #000000; text-decoration-color: #000000\">&gt;</span>\n",
       "<span style=\"color: #000000; text-decoration-color: #000000\">   &lt;bar&gt;</span>\n",
       "<span style=\"color: #000000; text-decoration-color: #000000\">      &lt;baz&gt;&lt;</span><span style=\"color: #800080; text-decoration-color: #800080\">/</span><span style=\"color: #ff00ff; text-decoration-color: #ff00ff\">baz</span><span style=\"color: #000000; text-decoration-color: #000000\">&gt;</span>\n",
       "<span style=\"color: #000000; text-decoration-color: #000000\">   &lt;</span><span style=\"color: #800080; text-decoration-color: #800080\">/</span><span style=\"color: #ff00ff; text-decoration-color: #ff00ff\">bar</span><span style=\"color: #000000; text-decoration-color: #000000\">&gt;</span>\n",
       "<span style=\"color: #000000; text-decoration-color: #000000\">&lt;</span><span style=\"color: #800080; text-decoration-color: #800080\">/</span><span style=\"color: #ff00ff; text-decoration-color: #ff00ff\">foo</span><span style=\"color: #000000; text-decoration-color: #000000\">&gt;\" is a well-formatted instance of the schema.</span>\n",
       "<span style=\"color: #008080; text-decoration-color: #008080; font-weight: bold\">2</span><span style=\"color: #000000; text-decoration-color: #000000\">. String \"&lt;foo&gt;</span>\n",
       "<span style=\"color: #000000; text-decoration-color: #000000\">   &lt;bar&gt;</span>\n",
       "<span style=\"color: #000000; text-decoration-color: #000000\">   &lt;</span><span style=\"color: #800080; text-decoration-color: #800080\">/</span><span style=\"color: #ff00ff; text-decoration-color: #ff00ff\">foo</span><span style=\"color: #000000; text-decoration-color: #000000\">&gt;\" is a badly-formatted instance.</span>\n",
       "<span style=\"color: #008080; text-decoration-color: #008080; font-weight: bold\">3</span><span style=\"color: #000000; text-decoration-color: #000000\">. String \"&lt;foo&gt;</span>\n",
       "<span style=\"color: #000000; text-decoration-color: #000000\">   &lt;tag&gt;</span>\n",
       "<span style=\"color: #000000; text-decoration-color: #000000\">   &lt;</span><span style=\"color: #800080; text-decoration-color: #800080\">/</span><span style=\"color: #ff00ff; text-decoration-color: #ff00ff\">tag</span><span style=\"color: #000000; text-decoration-color: #000000\">&gt;</span>\n",
       "<span style=\"color: #000000; text-decoration-color: #000000\">&lt;</span><span style=\"color: #800080; text-decoration-color: #800080\">/</span><span style=\"color: #ff00ff; text-decoration-color: #ff00ff\">foo</span><span style=\"font-weight: bold\">&gt;</span>\" is a badly-formatted instance.\n",
       "\n",
       "Here are the output tags:\n",
       "```\n",
       "<span style=\"font-weight: bold\">[</span><span style=\"color: #008000; text-decoration-color: #008000\">'movies'</span>, <span style=\"color: #008000; text-decoration-color: #008000\">'movie'</span>, <span style=\"color: #008000; text-decoration-color: #008000\">'name'</span>, <span style=\"color: #008000; text-decoration-color: #008000\">'director'</span>, <span style=\"color: #008000; text-decoration-color: #008000\">'year'</span><span style=\"font-weight: bold\">]</span>\n",
       "```\n",
       "</pre>\n"
      ],
      "text/plain": [
       "Tell me two representative Japanese movies\n",
       "The output should be formatted as a XML file.\n",
       "\u001b[1;36m1\u001b[0m. Output should conform to the tags below.\n",
       "\u001b[1;36m2\u001b[0m. If tags are not given, make them on your own.\n",
       "\u001b[1;36m3\u001b[0m. Remember to always open and close all the tags.\n",
       "\n",
       "As an example, for the tags \u001b[1m[\u001b[0m\u001b[32m\"foo\"\u001b[0m, \u001b[32m\"bar\"\u001b[0m, \u001b[32m\"baz\"\u001b[0m\u001b[1m]\u001b[0m:\n",
       "\u001b[1;36m1\u001b[0m. String \"\u001b[1m<\u001b[0m\u001b[1;95mfoo\u001b[0m\u001b[39m>\u001b[0m\n",
       "\u001b[39m   <bar>\u001b[0m\n",
       "\u001b[39m      <baz><\u001b[0m\u001b[35m/\u001b[0m\u001b[95mbaz\u001b[0m\u001b[39m>\u001b[0m\n",
       "\u001b[39m   <\u001b[0m\u001b[35m/\u001b[0m\u001b[95mbar\u001b[0m\u001b[39m>\u001b[0m\n",
       "\u001b[39m<\u001b[0m\u001b[35m/\u001b[0m\u001b[95mfoo\u001b[0m\u001b[39m>\" is a well-formatted instance of the schema.\u001b[0m\n",
       "\u001b[1;36m2\u001b[0m\u001b[39m. String \"<foo>\u001b[0m\n",
       "\u001b[39m   <bar>\u001b[0m\n",
       "\u001b[39m   <\u001b[0m\u001b[35m/\u001b[0m\u001b[95mfoo\u001b[0m\u001b[39m>\" is a badly-formatted instance.\u001b[0m\n",
       "\u001b[1;36m3\u001b[0m\u001b[39m. String \"<foo>\u001b[0m\n",
       "\u001b[39m   <tag>\u001b[0m\n",
       "\u001b[39m   <\u001b[0m\u001b[35m/\u001b[0m\u001b[95mtag\u001b[0m\u001b[39m>\u001b[0m\n",
       "\u001b[39m<\u001b[0m\u001b[35m/\u001b[0m\u001b[95mfoo\u001b[0m\u001b[1m>\u001b[0m\" is a badly-formatted instance.\n",
       "\n",
       "Here are the output tags:\n",
       "```\n",
       "\u001b[1m[\u001b[0m\u001b[32m'movies'\u001b[0m, \u001b[32m'movie'\u001b[0m, \u001b[32m'name'\u001b[0m, \u001b[32m'director'\u001b[0m, \u001b[32m'year'\u001b[0m\u001b[1m]\u001b[0m\n",
       "```\n"
      ]
     },
     "metadata": {},
     "output_type": "display_data"
    }
   ],
   "source": [
    "prompt_template = PromptTemplate.from_template(\n",
    "    template=\"Tell me two representative Japanese movies\\n{instruction}\",\n",
    "    partial_variables={'instruction':instruction}\n",
    ")\n",
    "\n",
    "prompt = prompt_template.format()\n",
    "\n",
    "pprint(prompt)"
   ]
  },
  {
   "cell_type": "code",
   "execution_count": 54,
   "id": "2899f158-906d-4d37-8258-09daf5326820",
   "metadata": {},
   "outputs": [
    {
     "data": {
      "text/html": [
       "<pre style=\"white-space:pre;overflow-x:auto;line-height:normal;font-family:Menlo,'DejaVu Sans Mono',consolas,'Courier New',monospace\">```xml\n",
       "<span style=\"font-weight: bold\">&lt;</span><span style=\"color: #ff00ff; text-decoration-color: #ff00ff; font-weight: bold\">movies</span><span style=\"color: #000000; text-decoration-color: #000000\">&gt;</span>\n",
       "<span style=\"color: #000000; text-decoration-color: #000000\">  &lt;movie&gt;</span>\n",
       "<span style=\"color: #000000; text-decoration-color: #000000\">    &lt;name&gt;Seven Samurai&lt;</span><span style=\"color: #800080; text-decoration-color: #800080\">/</span><span style=\"color: #ff00ff; text-decoration-color: #ff00ff\">name</span><span style=\"color: #000000; text-decoration-color: #000000\">&gt;</span>\n",
       "<span style=\"color: #000000; text-decoration-color: #000000\">    &lt;director&gt;Akira Kurosawa&lt;</span><span style=\"color: #800080; text-decoration-color: #800080\">/</span><span style=\"color: #ff00ff; text-decoration-color: #ff00ff\">director</span><span style=\"color: #000000; text-decoration-color: #000000\">&gt;</span>\n",
       "<span style=\"color: #000000; text-decoration-color: #000000\">    &lt;year&gt;</span><span style=\"color: #008080; text-decoration-color: #008080; font-weight: bold\">1954</span><span style=\"color: #000000; text-decoration-color: #000000\">&lt;</span><span style=\"color: #800080; text-decoration-color: #800080\">/</span><span style=\"color: #ff00ff; text-decoration-color: #ff00ff\">year</span><span style=\"color: #000000; text-decoration-color: #000000\">&gt;</span>\n",
       "<span style=\"color: #000000; text-decoration-color: #000000\">  &lt;</span><span style=\"color: #800080; text-decoration-color: #800080\">/</span><span style=\"color: #ff00ff; text-decoration-color: #ff00ff\">movie</span><span style=\"color: #000000; text-decoration-color: #000000\">&gt;</span>\n",
       "<span style=\"color: #000000; text-decoration-color: #000000\">  &lt;movie&gt;</span>\n",
       "<span style=\"color: #000000; text-decoration-color: #000000\">    &lt;name&gt;Spirited Away&lt;</span><span style=\"color: #800080; text-decoration-color: #800080\">/</span><span style=\"color: #ff00ff; text-decoration-color: #ff00ff\">name</span><span style=\"color: #000000; text-decoration-color: #000000\">&gt;</span>\n",
       "<span style=\"color: #000000; text-decoration-color: #000000\">    &lt;director&gt;Hayao Miyazaki&lt;</span><span style=\"color: #800080; text-decoration-color: #800080\">/</span><span style=\"color: #ff00ff; text-decoration-color: #ff00ff\">director</span><span style=\"color: #000000; text-decoration-color: #000000\">&gt;</span>\n",
       "<span style=\"color: #000000; text-decoration-color: #000000\">    &lt;year&gt;</span><span style=\"color: #008080; text-decoration-color: #008080; font-weight: bold\">2001</span><span style=\"color: #000000; text-decoration-color: #000000\">&lt;</span><span style=\"color: #800080; text-decoration-color: #800080\">/</span><span style=\"color: #ff00ff; text-decoration-color: #ff00ff\">year</span><span style=\"color: #000000; text-decoration-color: #000000\">&gt;</span>\n",
       "<span style=\"color: #000000; text-decoration-color: #000000\">  &lt;</span><span style=\"color: #800080; text-decoration-color: #800080\">/</span><span style=\"color: #ff00ff; text-decoration-color: #ff00ff\">movie</span><span style=\"color: #000000; text-decoration-color: #000000\">&gt;</span>\n",
       "<span style=\"color: #000000; text-decoration-color: #000000\">&lt;</span><span style=\"color: #800080; text-decoration-color: #800080\">/</span><span style=\"color: #ff00ff; text-decoration-color: #ff00ff\">movies</span><span style=\"font-weight: bold\">&gt;</span>\n",
       "```\n",
       "</pre>\n"
      ],
      "text/plain": [
       "```xml\n",
       "\u001b[1m<\u001b[0m\u001b[1;95mmovies\u001b[0m\u001b[39m>\u001b[0m\n",
       "\u001b[39m  <movie>\u001b[0m\n",
       "\u001b[39m    <name>Seven Samurai<\u001b[0m\u001b[35m/\u001b[0m\u001b[95mname\u001b[0m\u001b[39m>\u001b[0m\n",
       "\u001b[39m    <director>Akira Kurosawa<\u001b[0m\u001b[35m/\u001b[0m\u001b[95mdirector\u001b[0m\u001b[39m>\u001b[0m\n",
       "\u001b[39m    <year>\u001b[0m\u001b[1;36m1954\u001b[0m\u001b[39m<\u001b[0m\u001b[35m/\u001b[0m\u001b[95myear\u001b[0m\u001b[39m>\u001b[0m\n",
       "\u001b[39m  <\u001b[0m\u001b[35m/\u001b[0m\u001b[95mmovie\u001b[0m\u001b[39m>\u001b[0m\n",
       "\u001b[39m  <movie>\u001b[0m\n",
       "\u001b[39m    <name>Spirited Away<\u001b[0m\u001b[35m/\u001b[0m\u001b[95mname\u001b[0m\u001b[39m>\u001b[0m\n",
       "\u001b[39m    <director>Hayao Miyazaki<\u001b[0m\u001b[35m/\u001b[0m\u001b[95mdirector\u001b[0m\u001b[39m>\u001b[0m\n",
       "\u001b[39m    <year>\u001b[0m\u001b[1;36m2001\u001b[0m\u001b[39m<\u001b[0m\u001b[35m/\u001b[0m\u001b[95myear\u001b[0m\u001b[39m>\u001b[0m\n",
       "\u001b[39m  <\u001b[0m\u001b[35m/\u001b[0m\u001b[95mmovie\u001b[0m\u001b[39m>\u001b[0m\n",
       "\u001b[39m<\u001b[0m\u001b[35m/\u001b[0m\u001b[95mmovies\u001b[0m\u001b[1m>\u001b[0m\n",
       "```\n"
      ]
     },
     "metadata": {},
     "output_type": "display_data"
    }
   ],
   "source": [
    "response = llm.invoke(prompt)\n",
    "\n",
    "pprint(response)"
   ]
  },
  {
   "cell_type": "code",
   "execution_count": 55,
   "id": "4c6146cd-319d-48bb-bd55-512b1c4a2202",
   "metadata": {},
   "outputs": [],
   "source": [
    "output = output_parser.parse(response)"
   ]
  },
  {
   "cell_type": "code",
   "execution_count": 56,
   "id": "e08cf140-61da-4fe1-a7d9-b001a877dd99",
   "metadata": {},
   "outputs": [
    {
     "data": {
      "text/plain": [
       "dict"
      ]
     },
     "execution_count": 56,
     "metadata": {},
     "output_type": "execute_result"
    }
   ],
   "source": [
    "type(output)"
   ]
  },
  {
   "cell_type": "code",
   "execution_count": 57,
   "id": "73b190cb-ef5e-4f21-924a-91bf7f05b069",
   "metadata": {},
   "outputs": [
    {
     "data": {
      "text/plain": [
       "{'movies': [{'movie': [{'name': 'Seven Samurai'},\n",
       "    {'director': 'Akira Kurosawa'},\n",
       "    {'year': '1954'}]},\n",
       "  {'movie': [{'name': 'Spirited Away'},\n",
       "    {'director': 'Hayao Miyazaki'},\n",
       "    {'year': '2001'}]}]}"
      ]
     },
     "execution_count": 57,
     "metadata": {},
     "output_type": "execute_result"
    }
   ],
   "source": [
    "output"
   ]
  },
  {
   "cell_type": "code",
   "execution_count": null,
   "id": "db5aed55-ec66-4dff-9fbf-4d4eefec47a3",
   "metadata": {},
   "outputs": [],
   "source": []
  }
 ],
 "metadata": {
  "kernelspec": {
   "display_name": "Python 3 (ipykernel)",
   "language": "python",
   "name": "python3"
  },
  "language_info": {
   "codemirror_mode": {
    "name": "ipython",
    "version": 3
   },
   "file_extension": ".py",
   "mimetype": "text/x-python",
   "name": "python",
   "nbconvert_exporter": "python",
   "pygments_lexer": "ipython3",
   "version": "3.9.21"
  }
 },
 "nbformat": 4,
 "nbformat_minor": 5
}
