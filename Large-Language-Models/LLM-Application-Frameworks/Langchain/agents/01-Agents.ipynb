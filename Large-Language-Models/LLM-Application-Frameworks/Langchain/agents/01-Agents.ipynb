{
 "cells": [
  {
   "cell_type": "markdown",
   "id": "ed030a5a-ff88-4660-a99e-840cbab0041c",
   "metadata": {},
   "source": [
    "# 1. Basic QA agent by Langchain\n",
    "The essential steps for setting a base agent include\n",
    "- setup LLM\n",
    "- setup tools\n",
    "- setup agent"
   ]
  },
  {
   "cell_type": "markdown",
   "id": "adc83890-5f9f-4981-a81d-e0690771754d",
   "metadata": {},
   "source": [
    "### setup LLM"
   ]
  },
  {
   "cell_type": "code",
   "execution_count": 53,
   "id": "6aeab388-ba4a-41c0-824d-d8eb14c3f2eb",
   "metadata": {},
   "outputs": [],
   "source": [
    "from langchain_google_vertexai import VertexAI\n",
    "\n",
    "llm = VertexAI()"
   ]
  },
  {
   "cell_type": "markdown",
   "id": "fdc3a59a-f3cb-4647-b04f-c229fac584a1",
   "metadata": {},
   "source": [
    "### Setup tools\n",
    "**Langchain** provides tools for LLM to interact with to complete tasks. The tools should be a list of **Langchain** `Tool` objects."
   ]
  },
  {
   "cell_type": "code",
   "execution_count": 54,
   "id": "d0301f1f-345b-415b-bcc7-55fddfa2cf6c",
   "metadata": {},
   "outputs": [],
   "source": [
    "from langchain.agents import load_tools"
   ]
  },
  {
   "cell_type": "code",
   "execution_count": 55,
   "id": "f03728b5-06e4-43a6-91c9-c83530af9e25",
   "metadata": {},
   "outputs": [],
   "source": [
    "tools = load_tools(['ddg-search', 'llm-math'], llm=llm)"
   ]
  },
  {
   "cell_type": "markdown",
   "id": "07348f47-5e14-401f-a587-3699551738c3",
   "metadata": {},
   "source": [
    "### Setup Agent"
   ]
  },
  {
   "cell_type": "code",
   "execution_count": 56,
   "id": "3fe71e1a-71c2-4e29-9165-316016bfefd7",
   "metadata": {},
   "outputs": [],
   "source": [
    "from langchain.agents import initialize_agent\n",
    "from langchain.agents import AgentType"
   ]
  },
  {
   "cell_type": "code",
   "execution_count": 57,
   "id": "ae4d5de6-858a-4320-9a19-53853b33b90d",
   "metadata": {},
   "outputs": [],
   "source": [
    "agent = initialize_agent(tools, llm, agent=AgentType.ZERO_SHOT_REACT_DESCRIPTION, verbose=True)"
   ]
  },
  {
   "cell_type": "markdown",
   "id": "e0841a44-bada-45bc-bfd4-c370c5864890",
   "metadata": {},
   "source": [
    "we could display the architecture of the agent by below code piece."
   ]
  },
  {
   "cell_type": "code",
   "execution_count": 58,
   "id": "1f0dc5b8-82a0-4fa8-8455-9407a2d0015a",
   "metadata": {},
   "outputs": [
    {
     "data": {
      "image/png": "[encoded data removed]",
      "text/plain": [
       "<IPython.core.display.Image object>"
      ]
     },
     "metadata": {},
     "output_type": "display_data"
    }
   ],
   "source": [
    "from IPython.display import Image, display\n",
    "\n",
    "display(Image(agent.get_graph().draw_mermaid_png()))"
   ]
  },
  {
   "cell_type": "code",
   "execution_count": 59,
   "id": "7b5dfad6-9deb-4b18-bcef-9b1f33d16daa",
   "metadata": {},
   "outputs": [
    {
     "name": "stdout",
     "output_type": "stream",
     "text": [
      "\n",
      "\n",
      "\u001b[1m> Entering new AgentExecutor chain...\u001b[0m\n",
      "\u001b[32;1m\u001b[1;3mThought: First I need to find out who Leonardo DiCaprio's girlfriend is. Then I need to determine her current age, and finally raise that age to the power of 0.43.\n",
      "Action: duckduckgo_search\n",
      "Action Input: \"Leonardo DiCaprio girlfriend\"\u001b[0m\n",
      "Observation: \u001b[36;1m\u001b[1;3mLeonardo DiCaprio, 50, reunites with bachelor party pals while supermodel love, 27, is in Italy Miley Cyrus' mom Tish reveals how she feels about her relationship with boyfriend Maxx Morando Leonardo DiCaprio's girlfriend Vittoria Ceretti, who was first linked to the Titanic actor in 2023, shared rare insight into their romance—including what she thinks about his most iconic film role. A source said DiCaprio calls Ceretti his \"girlfriend.\" \"Vittoria is a beautiful girl, but Leonardo is of course surrounded by many beautiful girls most of the time,\" an insider told The ... Leonardo DiCaprio and girlfriend Vittoria Ceretti have been romantically linked since August 2023. By. Emily Weaver. Emily Weaver. Emily Weaver is a contributing writer at PEOPLE. She has been ... Leonardo DiCaprio Attends the 2025 Met Gala—His First With Girlfriend Vittoria Ceretti Emma Specter is the Culture Writer at Vogue , where she covers film, TV, books, politics, news and (almost ...\u001b[0m\n",
      "Thought:\u001b[32;1m\u001b[1;3mLeonardo DiCaprio's girlfriend is Vittoria Ceretti. Now I need to find out her age.\n",
      "Action: duckduckgo_search\n",
      "Action Input: \"Vittoria Ceretti age\"\u001b[0m\n",
      "Observation: \u001b[36;1m\u001b[1;3mVittoria Ceretti is a name that resonates deeply within the global fashion industry. Born on June 7, 1998, in Brescia, Italy, she has risen to become one of the most celebrated supermodels of her generation. Her journey from a small-town girl to an international fashion icon is nothing short of inspiring. With her striking green eyes, flowing brown hair, and statuesque height of 5'10 ... Leonardo DiCaprio's girlfriend Vittoria Ceretti, 26, is under fire after social media users point out their age gap. (Photo by Tibrina Hobson/WireImage) The 50-year-old \"Titanic\" star has ... Leonardo DiCaprio and Italian model Vittoria Ceretti have been romantically linked since August 2023. Here's everything to know about Leonardo DiCaprio's girlfriend. Vittoria Ceretti is an Italian model born on June 7, 1998. She is 26 years old and dating Leonardo DiCaprio. She has worked with top fashion houses and brands and has a net worth of $5 million. Leonardo DiCaprio has been seen with Italian model Vittoria Ceretti after meeting at Cannes Film Festival in May and going yachting with her.\u001b[0m\n",
      "Thought:\u001b[32;1m\u001b[1;3mVittoria Ceretti is 26 years old. Now I need to raise 26 to the power of 0.43.\n",
      "Action: Calculator\n",
      "Action Input: 26**0.43\u001b[0m\n",
      "Observation: \u001b[33;1m\u001b[1;3mAnswer: 4.059182145592686\u001b[0m\n",
      "Thought:\u001b[32;1m\u001b[1;3mFinal Answer: Leonardo DiCaprio's girlfriend is Vittoria Ceretti. Her current age (26) raised to the 0.43 power is approximately 4.059.\n",
      "\u001b[0m\n",
      "\n",
      "\u001b[1m> Finished chain.\u001b[0m\n"
     ]
    }
   ],
   "source": [
    "response = agent.invoke(\"Who is Leo DiCaprio’s girlfriend? What is her current age raised to the 0.43 power? \")"
   ]
  },
  {
   "cell_type": "markdown",
   "id": "5aedc582-e13f-4ef6-b0fe-0380afaf8cf1",
   "metadata": {},
   "source": [
    "Print response in pretty way"
   ]
  },
  {
   "cell_type": "code",
   "execution_count": 60,
   "id": "c420f16d-b2f4-4d00-aefa-f443b208ad36",
   "metadata": {},
   "outputs": [],
   "source": [
    "from rich import print as pprint"
   ]
  },
  {
   "cell_type": "code",
   "execution_count": 61,
   "id": "a22793a9-e83c-4b7e-8123-7ea202076bec",
   "metadata": {},
   "outputs": [
    {
     "data": {
      "text/html": [
       "<pre style=\"white-space:pre;overflow-x:auto;line-height:normal;font-family:Menlo,'DejaVu Sans Mono',consolas,'Courier New',monospace\"><span style=\"font-weight: bold\">{</span>\n",
       "    <span style=\"color: #008000; text-decoration-color: #008000\">'input'</span>: <span style=\"color: #008000; text-decoration-color: #008000\">'Who is Leo DiCaprio’s girlfriend? What is her current age raised to the 0.43 power? '</span>,\n",
       "    <span style=\"color: #008000; text-decoration-color: #008000\">'output'</span>: <span style=\"color: #008000; text-decoration-color: #008000\">\"Leonardo DiCaprio's girlfriend is Vittoria Ceretti. Her current age (26) raised to the 0.43 power is</span>\n",
       "<span style=\"color: #008000; text-decoration-color: #008000\">approximately 4.059.\"</span>\n",
       "<span style=\"font-weight: bold\">}</span>\n",
       "</pre>\n"
      ],
      "text/plain": [
       "\u001b[1m{\u001b[0m\n",
       "    \u001b[32m'input'\u001b[0m: \u001b[32m'Who is Leo DiCaprio’s girlfriend? What is her current age raised to the 0.43 power? '\u001b[0m,\n",
       "    \u001b[32m'output'\u001b[0m: \u001b[32m\"Leonardo DiCaprio's girlfriend is Vittoria Ceretti. Her current age \u001b[0m\u001b[32m(\u001b[0m\u001b[32m26\u001b[0m\u001b[32m)\u001b[0m\u001b[32m raised to the 0.43 power is\u001b[0m\n",
       "\u001b[32mapproximately 4.059.\"\u001b[0m\n",
       "\u001b[1m}\u001b[0m\n"
      ]
     },
     "metadata": {},
     "output_type": "display_data"
    }
   ],
   "source": [
    "pprint(response)"
   ]
  },
  {
   "cell_type": "markdown",
   "id": "aa69bce1-63e2-4fa3-a6fa-c01b32592d13",
   "metadata": {},
   "source": [
    "when calling `initialize_agent()` function, we initialized an `Agent` object with default Prompt. We could read the prompt by below way"
   ]
  },
  {
   "cell_type": "code",
   "execution_count": 62,
   "id": "382d1cf5-17d1-4bfa-8363-259be6416b14",
   "metadata": {},
   "outputs": [
    {
     "data": {
      "text/html": [
       "<pre style=\"white-space:pre;overflow-x:auto;line-height:normal;font-family:Menlo,'DejaVu Sans Mono',consolas,'Courier New',monospace\">Answer the following questions as best you can. You have access to the following tools:\n",
       "\n",
       "duckduckgo_search - A wrapper around DuckDuckGo Search. Useful for when you need to answer questions about current \n",
       "events. Input should be a search query.\n",
       "<span style=\"color: #800080; text-decoration-color: #800080; font-weight: bold\">Calculator</span><span style=\"font-weight: bold\">(</span>*args: Any, callbacks: Union<span style=\"font-weight: bold\">[</span>list, langchain_core.callbacks.base.BaseCallbackManager, NoneType<span style=\"font-weight: bold\">]</span> = <span style=\"color: #800080; text-decoration-color: #800080; font-style: italic\">None</span>, \n",
       "tags: Optional<span style=\"font-weight: bold\">[</span>list<span style=\"font-weight: bold\">]</span> = <span style=\"color: #800080; text-decoration-color: #800080; font-style: italic\">None</span>, metadata: Optional<span style=\"font-weight: bold\">[</span>dict<span style=\"font-weight: bold\">]</span> = <span style=\"color: #800080; text-decoration-color: #800080; font-style: italic\">None</span>, **kwargs: Any<span style=\"font-weight: bold\">)</span> -&gt; Any - Useful for when you need to \n",
       "answer questions about math.\n",
       "\n",
       "Use the following format:\n",
       "\n",
       "Question: the input question you must answer\n",
       "Thought: you should always think about what to do\n",
       "Action: the action to take, should be one of \n",
       "Action Input: the input to the action\n",
       "Observation: the result of the action\n",
       "<span style=\"color: #808000; text-decoration-color: #808000\">...</span> <span style=\"font-weight: bold\">(</span>this Thought/Action/Action Input/Observation can repeat N times<span style=\"font-weight: bold\">)</span>\n",
       "Thought: I now know the final answer\n",
       "Final Answer: the final answer to the original input question\n",
       "\n",
       "Begin!\n",
       "\n",
       "Question: <span style=\"font-weight: bold\">{</span>input<span style=\"font-weight: bold\">}</span>\n",
       "Thought:<span style=\"font-weight: bold\">{</span>agent_scratchpad<span style=\"font-weight: bold\">}</span>\n",
       "</pre>\n"
      ],
      "text/plain": [
       "Answer the following questions as best you can. You have access to the following tools:\n",
       "\n",
       "duckduckgo_search - A wrapper around DuckDuckGo Search. Useful for when you need to answer questions about current \n",
       "events. Input should be a search query.\n",
       "\u001b[1;35mCalculator\u001b[0m\u001b[1m(\u001b[0m*args: Any, callbacks: Union\u001b[1m[\u001b[0mlist, langchain_core.callbacks.base.BaseCallbackManager, NoneType\u001b[1m]\u001b[0m = \u001b[3;35mNone\u001b[0m, \n",
       "tags: Optional\u001b[1m[\u001b[0mlist\u001b[1m]\u001b[0m = \u001b[3;35mNone\u001b[0m, metadata: Optional\u001b[1m[\u001b[0mdict\u001b[1m]\u001b[0m = \u001b[3;35mNone\u001b[0m, **kwargs: Any\u001b[1m)\u001b[0m -> Any - Useful for when you need to \n",
       "answer questions about math.\n",
       "\n",
       "Use the following format:\n",
       "\n",
       "Question: the input question you must answer\n",
       "Thought: you should always think about what to do\n",
       "Action: the action to take, should be one of \n",
       "Action Input: the input to the action\n",
       "Observation: the result of the action\n",
       "\u001b[33m...\u001b[0m \u001b[1m(\u001b[0mthis Thought/Action/Action Input/Observation can repeat N times\u001b[1m)\u001b[0m\n",
       "Thought: I now know the final answer\n",
       "Final Answer: the final answer to the original input question\n",
       "\n",
       "Begin!\n",
       "\n",
       "Question: \u001b[1m{\u001b[0minput\u001b[1m}\u001b[0m\n",
       "Thought:\u001b[1m{\u001b[0magent_scratchpad\u001b[1m}\u001b[0m\n"
      ]
     },
     "metadata": {},
     "output_type": "display_data"
    }
   ],
   "source": [
    "pprint(agent.agent.llm_chain.prompt.template)"
   ]
  },
  {
   "cell_type": "markdown",
   "id": "61e01ac1-e7cd-4757-a2df-e9dc42513a32",
   "metadata": {},
   "source": [
    "***\n",
    "# 2. Explore more on Agent Types\n",
    "In section 1, we build an agent with `AgentType.ZERO_SHOT_REACT_DESCRIPTION`. In **Langchain**, there are more predefined agent types."
   ]
  },
  {
   "cell_type": "markdown",
   "id": "36ec2c81-86f5-4fe7-89d3-5bfda2844003",
   "metadata": {},
   "source": [
    "## 2.1 ReAct "
   ]
  },
  {
   "cell_type": "markdown",
   "id": "ef444a82-6184-4e9c-a702-dd95c19567b6",
   "metadata": {},
   "source": [
    "## 2.2 ReAct Document Store\n",
    "......"
   ]
  },
  {
   "cell_type": "markdown",
   "id": "7bed6823-c820-476a-9e14-1d29ff5258f0",
   "metadata": {},
   "source": [
    "### 2.2.1 Set up tools"
   ]
  },
  {
   "cell_type": "code",
   "execution_count": 63,
   "id": "45730d10-27e7-4338-9ce2-a0146b093541",
   "metadata": {},
   "outputs": [],
   "source": [
    "from langchain.agents import Tool\n",
    "from langchain.agents.react.base import DocstoreExplorer\n",
    "from langchain_community.docstore.wikipedia import Wikipedia"
   ]
  },
  {
   "cell_type": "code",
   "execution_count": 64,
   "id": "b82842ed-43dc-4d2a-a38f-2eaf7ef149a0",
   "metadata": {},
   "outputs": [],
   "source": [
    "wiki_docstore = DocstoreExplorer(Wikipedia())"
   ]
  },
  {
   "cell_type": "code",
   "execution_count": 65,
   "id": "1760ea41-6921-46db-8243-6f46629a6970",
   "metadata": {},
   "outputs": [],
   "source": [
    "tools = [\n",
    "    Tool(\n",
    "        name='Search', func=wiki_docstore.search,\n",
    "        description='useful for when you need to ask with search',\n",
    "    ),\n",
    "    Tool(\n",
    "        name='Lookup', func=wiki_docstore.lookup,\n",
    "        description='useful for when you need to ask with lookup',\n",
    "    )\n",
    "]"
   ]
  },
  {
   "cell_type": "markdown",
   "id": "d9593dce-8410-4f75-8add-baacb67fb081",
   "metadata": {},
   "source": [
    "### 2.2.3 Set up Agent"
   ]
  },
  {
   "cell_type": "code",
   "execution_count": 66,
   "id": "8a281e69-a31c-4479-ba58-9df67332db3f",
   "metadata": {},
   "outputs": [],
   "source": [
    "agent = initialize_agent(\n",
    "    tools, llm, \n",
    "    agent=AgentType.REACT_DOCSTORE,\n",
    "    max_iteration=5,\n",
    "    verbose=True,\n",
    "    return_intermediate_steps=True\n",
    ")"
   ]
  },
  {
   "cell_type": "code",
   "execution_count": 67,
   "id": "d52c0ac4-fffa-45d9-ab11-5e6e63a4458d",
   "metadata": {},
   "outputs": [
    {
     "data": {
      "image/png": "[encoded data removed]",
      "text/plain": [
       "<IPython.core.display.Image object>"
      ]
     },
     "metadata": {},
     "output_type": "display_data"
    }
   ],
   "source": [
    "from IPython.display import Image, display\n",
    "\n",
    "display(Image(agent.get_graph().draw_mermaid_png()))"
   ]
  },
  {
   "cell_type": "code",
   "execution_count": 68,
   "id": "23fbca1b-d502-490b-b72f-7e8bc0e0309c",
   "metadata": {},
   "outputs": [
    {
     "data": {
      "text/html": [
       "<pre style=\"white-space:pre;overflow-x:auto;line-height:normal;font-family:Menlo,'DejaVu Sans Mono',consolas,'Courier New',monospace\">\n",
       "\n",
       "Question: What is the elevation range for the area that the eastern sector of the Colorado orogeny extends into?\n",
       "Thought: I need to search Colorado orogeny, find the area that the eastern sector of the Colorado orogeny extends \n",
       "into, then find the elevation range of the area.\n",
       "Action: Search<span style=\"font-weight: bold\">[</span>Colorado orogeny<span style=\"font-weight: bold\">]</span>\n",
       "Observation: The Colorado orogeny was an episode of mountain building <span style=\"font-weight: bold\">(</span>an orogeny<span style=\"font-weight: bold\">)</span> in Colorado and surrounding \n",
       "areas.\n",
       "Thought: It does not mention the eastern sector. So I need to look up eastern sector.\n",
       "Action: Lookup\n",
       "Observation: <span style=\"font-weight: bold\">(</span>Result <span style=\"color: #008080; text-decoration-color: #008080; font-weight: bold\">1</span> <span style=\"color: #800080; text-decoration-color: #800080\">/</span> <span style=\"color: #008080; text-decoration-color: #008080; font-weight: bold\">1</span><span style=\"font-weight: bold\">)</span> The eastern sector extends into the High Plains and is called the Central Plains \n",
       "orogeny.\n",
       "Thought: The eastern sector of Colorado orogeny extends into the High Plains. So I need to search High Plains and \n",
       "find its elevation range.\n",
       "Action: Search<span style=\"font-weight: bold\">[</span>High Plains<span style=\"font-weight: bold\">]</span>\n",
       "Observation: High Plains refers to one of two distinct land regions\n",
       "Thought: I need to instead search High Plains <span style=\"font-weight: bold\">(</span>United States<span style=\"font-weight: bold\">)</span>.\n",
       "Action: Search<span style=\"font-weight: bold\">[</span>High Plains <span style=\"font-weight: bold\">(</span>United States<span style=\"font-weight: bold\">)]</span>\n",
       "Observation: The High Plains are a subregion of the Great Plains. From east to west, the High Plains rise in \n",
       "elevation from around <span style=\"color: #008080; text-decoration-color: #008080; font-weight: bold\">1</span>,<span style=\"color: #008080; text-decoration-color: #008080; font-weight: bold\">800</span> to <span style=\"color: #008080; text-decoration-color: #008080; font-weight: bold\">7</span>,<span style=\"color: #008080; text-decoration-color: #008080; font-weight: bold\">000</span> ft <span style=\"font-weight: bold\">(</span><span style=\"color: #008080; text-decoration-color: #008080; font-weight: bold\">550</span> to <span style=\"color: #008080; text-decoration-color: #008080; font-weight: bold\">2</span>,<span style=\"color: #008080; text-decoration-color: #008080; font-weight: bold\">130</span> m<span style=\"font-weight: bold\">)</span>.<span style=\"font-weight: bold\">[</span><span style=\"color: #008080; text-decoration-color: #008080; font-weight: bold\">3</span><span style=\"font-weight: bold\">]</span>\n",
       "Thought: High Plains rise in elevation from around <span style=\"color: #008080; text-decoration-color: #008080; font-weight: bold\">1</span>,<span style=\"color: #008080; text-decoration-color: #008080; font-weight: bold\">800</span> to <span style=\"color: #008080; text-decoration-color: #008080; font-weight: bold\">7</span>,<span style=\"color: #008080; text-decoration-color: #008080; font-weight: bold\">000</span> ft, so the answer is <span style=\"color: #008080; text-decoration-color: #008080; font-weight: bold\">1</span>,<span style=\"color: #008080; text-decoration-color: #008080; font-weight: bold\">800</span> to <span style=\"color: #008080; text-decoration-color: #008080; font-weight: bold\">7</span>,<span style=\"color: #008080; text-decoration-color: #008080; font-weight: bold\">000</span> ft.\n",
       "Action: Finish<span style=\"font-weight: bold\">[</span><span style=\"color: #008080; text-decoration-color: #008080; font-weight: bold\">1</span>,<span style=\"color: #008080; text-decoration-color: #008080; font-weight: bold\">800</span> to <span style=\"color: #008080; text-decoration-color: #008080; font-weight: bold\">7</span>,<span style=\"color: #008080; text-decoration-color: #008080; font-weight: bold\">000</span> ft<span style=\"font-weight: bold\">]</span>\n",
       "\n",
       "Question: Musician and satirist Allie Goertz wrote a song about the <span style=\"color: #008000; text-decoration-color: #008000\">\"The Simpsons\"</span> character Milhouse, who Matt \n",
       "Groening named after who?\n",
       "Thought: The question simplifies to <span style=\"color: #008000; text-decoration-color: #008000\">\"The Simpsons\"</span> character Milhouse is named after who. I only need to search \n",
       "Milhouse and find who it is named after.\n",
       "Action: Search<span style=\"font-weight: bold\">[</span>Milhouse<span style=\"font-weight: bold\">]</span>\n",
       "Observation: Milhouse Mussolini Van Houten is a recurring character in the Fox animated television series The \n",
       "Simpsons voiced by Pamela Hayden and created by Matt Groening.\n",
       "Thought: The paragraph does not tell who Milhouse is named after, maybe I can look up <span style=\"color: #008000; text-decoration-color: #008000\">\"named after\"</span>.\n",
       "Action: Lookup\n",
       "Observation: <span style=\"font-weight: bold\">(</span>Result <span style=\"color: #008080; text-decoration-color: #008080; font-weight: bold\">1</span> <span style=\"color: #800080; text-decoration-color: #800080\">/</span> <span style=\"color: #008080; text-decoration-color: #008080; font-weight: bold\">1</span><span style=\"font-weight: bold\">)</span> Milhouse was named after U.S. president Richard Nixon, whose middle name was Milhous.\n",
       "Thought: Milhouse was named after U.S. president Richard Nixon, so the answer is Richard Nixon.\n",
       "Action: Finish<span style=\"font-weight: bold\">[</span>Richard Nixon<span style=\"font-weight: bold\">]</span>\n",
       "\n",
       "Question: Which documentary is about Finnish rock groups, Adam Clayton Powell or The Saimaa Gesture?\n",
       "Thought: I need to search Adam Clayton Powell and The Saimaa Gesture, and find which documentary is about Finnish \n",
       "rock groups.\n",
       "Action: Search<span style=\"font-weight: bold\">[</span>Adam Clayton Powell<span style=\"font-weight: bold\">]</span>\n",
       "Observation: Could not find <span style=\"font-weight: bold\">[</span>Adam Clayton Powell<span style=\"font-weight: bold\">]</span>. Similar: <span style=\"font-weight: bold\">[</span>’Adam Clayton Powell III’, ’Seventh Avenue \n",
       "<span style=\"font-weight: bold\">(</span>Manhattan<span style=\"font-weight: bold\">)</span>’, ’Adam Clayton Powell Jr. State Office Building’, ’Isabel Washington Powell’, ’Adam Powell’, ’Adam \n",
       "Clayton Powell <span style=\"font-weight: bold\">(</span>film<span style=\"font-weight: bold\">)</span>’, ’Giancarlo Esposito’<span style=\"font-weight: bold\">]</span>.\n",
       "Thought: To find the documentary, I can search Adam Clayton Powell <span style=\"font-weight: bold\">(</span>film<span style=\"font-weight: bold\">)</span>.\n",
       "Action: Search<span style=\"font-weight: bold\">[</span>Adam Clayton Powell <span style=\"font-weight: bold\">(</span>film<span style=\"font-weight: bold\">)]</span>\n",
       "Observation: Adam Clayton Powell is a <span style=\"color: #008080; text-decoration-color: #008080; font-weight: bold\">1989</span> American documentary film directed by Richard Kilberg. The film is about\n",
       "the rise and fall of influential African-American politician Adam Clayton Powell Jr.<span style=\"font-weight: bold\">[</span><span style=\"color: #008080; text-decoration-color: #008080; font-weight: bold\">3</span><span style=\"font-weight: bold\">][</span><span style=\"color: #008080; text-decoration-color: #008080; font-weight: bold\">4</span><span style=\"font-weight: bold\">]</span> It was later aired as \n",
       "part of the PBS series The American Experience.\n",
       "Thought: Adam Clayton Powell <span style=\"font-weight: bold\">(</span>film<span style=\"font-weight: bold\">)</span> is a documentary about an African-American politician, not Finnish rock groups.\n",
       "So the documentary about Finnish rock groups must instead be The Saimaa Gesture.\n",
       "Action: Finish<span style=\"font-weight: bold\">[</span>The Saimaa Gesture<span style=\"font-weight: bold\">]</span>\n",
       "\n",
       "Question: What profession does Nicholas Ray and Elia Kazan have in common?\n",
       "Thought: I need to search Nicholas Ray and Elia Kazan, find their professions, then find the profession they have \n",
       "in common.\n",
       "Action: Search<span style=\"font-weight: bold\">[</span>Nicholas Ray<span style=\"font-weight: bold\">]</span>\n",
       "Observation: Nicholas Ray <span style=\"font-weight: bold\">(</span>born Raymond Nicholas Kienzle Jr., August <span style=\"color: #008080; text-decoration-color: #008080; font-weight: bold\">7</span>, <span style=\"color: #008080; text-decoration-color: #008080; font-weight: bold\">1911</span> - June <span style=\"color: #008080; text-decoration-color: #008080; font-weight: bold\">16</span>, <span style=\"color: #008080; text-decoration-color: #008080; font-weight: bold\">1979</span><span style=\"font-weight: bold\">)</span> was an American film \n",
       "director, screenwriter, and actor best known for the <span style=\"color: #008080; text-decoration-color: #008080; font-weight: bold\">1955</span> film Rebel Without a Cause.\n",
       "Thought: Professions of Nicholas Ray are director, screenwriter, and actor. I need to search Elia Kazan next and \n",
       "find his professions.\n",
       "Action: Search<span style=\"font-weight: bold\">[</span>Elia Kazan<span style=\"font-weight: bold\">]</span>\n",
       "Observation: Elia Kazan was an American film and theatre director, producer, screenwriter and actor.\n",
       "Thought: Professions of Elia Kazan are director, producer, screenwriter, and actor. So profession Nicholas Ray and \n",
       "Elia Kazan have in common is director, screenwriter, and actor.\n",
       "Action: Finish\n",
       "\n",
       "Question: Which magazine was started first Arthur’s Magazine or First for Women?\n",
       "Thought: I need to search Arthur’s Magazine and First for Women, and find which was started first.\n",
       "Action: Search<span style=\"font-weight: bold\">[</span>Arthur’s Magazine<span style=\"font-weight: bold\">]</span>\n",
       "Observation: Arthur’s Magazine <span style=\"font-weight: bold\">(</span><span style=\"color: #008080; text-decoration-color: #008080; font-weight: bold\">1844</span>-<span style=\"color: #008080; text-decoration-color: #008080; font-weight: bold\">1846</span><span style=\"font-weight: bold\">)</span> was an American literary periodical published in Philadelphia in the \n",
       "19th century.\n",
       "Thought: Arthur’s Magazine was started in <span style=\"color: #008080; text-decoration-color: #008080; font-weight: bold\">1844</span>. I need to search First for Women next.\n",
       "Action: Search<span style=\"font-weight: bold\">[</span>First for Women<span style=\"font-weight: bold\">]</span>\n",
       "Observation: First for Women is a woman’s magazine published by Bauer Media Group in the USA.<span style=\"font-weight: bold\">[</span><span style=\"color: #008080; text-decoration-color: #008080; font-weight: bold\">1</span><span style=\"font-weight: bold\">]</span> The magazine was \n",
       "started in <span style=\"color: #008080; text-decoration-color: #008080; font-weight: bold\">1989</span>.\n",
       "Thought: First for Women was started in <span style=\"color: #008080; text-decoration-color: #008080; font-weight: bold\">1989</span>. <span style=\"color: #008080; text-decoration-color: #008080; font-weight: bold\">1844</span> <span style=\"font-weight: bold\">(</span>Arthur’s Magazine<span style=\"font-weight: bold\">)</span> &lt; <span style=\"color: #008080; text-decoration-color: #008080; font-weight: bold\">1989</span> <span style=\"font-weight: bold\">(</span>First for Women<span style=\"font-weight: bold\">)</span>, so Arthur’s \n",
       "Magazine was started first.\n",
       "Action: Finish<span style=\"font-weight: bold\">[</span>Arthur’s Magazine<span style=\"font-weight: bold\">]</span>\n",
       "\n",
       "Question: Were Pavel Urysohn and Leonid Levin known for the same type of work?\n",
       "Thought: I need to search Pavel Urysohn and Leonid Levin, find their types of work, then find if they are the same.\n",
       "Action: Search<span style=\"font-weight: bold\">[</span>Pavel Urysohn<span style=\"font-weight: bold\">]</span>\n",
       "Observation: Pavel Samuilovich Urysohn <span style=\"font-weight: bold\">(</span>February <span style=\"color: #008080; text-decoration-color: #008080; font-weight: bold\">3</span>, <span style=\"color: #008080; text-decoration-color: #008080; font-weight: bold\">1898</span> - August <span style=\"color: #008080; text-decoration-color: #008080; font-weight: bold\">17</span>, <span style=\"color: #008080; text-decoration-color: #008080; font-weight: bold\">1924</span><span style=\"font-weight: bold\">)</span> was a Soviet mathematician who is best \n",
       "known for his contributions in dimension theory.\n",
       "Thought: Pavel Urysohn is a mathematician. I need to search Leonid Levin next and find its type of work.\n",
       "Action: Search<span style=\"font-weight: bold\">[</span>Leonid Levin<span style=\"font-weight: bold\">]</span>\n",
       "Observation: Leonid Anatolievich Levin is a Soviet-American mathematician and computer scientist.\n",
       "Thought: Leonid Levin is a mathematician and computer scientist. So Pavel Urysohn and Leonid Levin have the same \n",
       "type of work.\n",
       "Action: Finish\n",
       "\n",
       "\n",
       "Question: <span style=\"font-weight: bold\">{</span>input<span style=\"font-weight: bold\">}</span>\n",
       "<span style=\"font-weight: bold\">{</span>agent_scratchpad<span style=\"font-weight: bold\">}</span>\n",
       "</pre>\n"
      ],
      "text/plain": [
       "\n",
       "\n",
       "Question: What is the elevation range for the area that the eastern sector of the Colorado orogeny extends into?\n",
       "Thought: I need to search Colorado orogeny, find the area that the eastern sector of the Colorado orogeny extends \n",
       "into, then find the elevation range of the area.\n",
       "Action: Search\u001b[1m[\u001b[0mColorado orogeny\u001b[1m]\u001b[0m\n",
       "Observation: The Colorado orogeny was an episode of mountain building \u001b[1m(\u001b[0man orogeny\u001b[1m)\u001b[0m in Colorado and surrounding \n",
       "areas.\n",
       "Thought: It does not mention the eastern sector. So I need to look up eastern sector.\n",
       "Action: Lookup\n",
       "Observation: \u001b[1m(\u001b[0mResult \u001b[1;36m1\u001b[0m \u001b[35m/\u001b[0m \u001b[1;36m1\u001b[0m\u001b[1m)\u001b[0m The eastern sector extends into the High Plains and is called the Central Plains \n",
       "orogeny.\n",
       "Thought: The eastern sector of Colorado orogeny extends into the High Plains. So I need to search High Plains and \n",
       "find its elevation range.\n",
       "Action: Search\u001b[1m[\u001b[0mHigh Plains\u001b[1m]\u001b[0m\n",
       "Observation: High Plains refers to one of two distinct land regions\n",
       "Thought: I need to instead search High Plains \u001b[1m(\u001b[0mUnited States\u001b[1m)\u001b[0m.\n",
       "Action: Search\u001b[1m[\u001b[0mHigh Plains \u001b[1m(\u001b[0mUnited States\u001b[1m)\u001b[0m\u001b[1m]\u001b[0m\n",
       "Observation: The High Plains are a subregion of the Great Plains. From east to west, the High Plains rise in \n",
       "elevation from around \u001b[1;36m1\u001b[0m,\u001b[1;36m800\u001b[0m to \u001b[1;36m7\u001b[0m,\u001b[1;36m000\u001b[0m ft \u001b[1m(\u001b[0m\u001b[1;36m550\u001b[0m to \u001b[1;36m2\u001b[0m,\u001b[1;36m130\u001b[0m m\u001b[1m)\u001b[0m.\u001b[1m[\u001b[0m\u001b[1;36m3\u001b[0m\u001b[1m]\u001b[0m\n",
       "Thought: High Plains rise in elevation from around \u001b[1;36m1\u001b[0m,\u001b[1;36m800\u001b[0m to \u001b[1;36m7\u001b[0m,\u001b[1;36m000\u001b[0m ft, so the answer is \u001b[1;36m1\u001b[0m,\u001b[1;36m800\u001b[0m to \u001b[1;36m7\u001b[0m,\u001b[1;36m000\u001b[0m ft.\n",
       "Action: Finish\u001b[1m[\u001b[0m\u001b[1;36m1\u001b[0m,\u001b[1;36m800\u001b[0m to \u001b[1;36m7\u001b[0m,\u001b[1;36m000\u001b[0m ft\u001b[1m]\u001b[0m\n",
       "\n",
       "Question: Musician and satirist Allie Goertz wrote a song about the \u001b[32m\"The Simpsons\"\u001b[0m character Milhouse, who Matt \n",
       "Groening named after who?\n",
       "Thought: The question simplifies to \u001b[32m\"The Simpsons\"\u001b[0m character Milhouse is named after who. I only need to search \n",
       "Milhouse and find who it is named after.\n",
       "Action: Search\u001b[1m[\u001b[0mMilhouse\u001b[1m]\u001b[0m\n",
       "Observation: Milhouse Mussolini Van Houten is a recurring character in the Fox animated television series The \n",
       "Simpsons voiced by Pamela Hayden and created by Matt Groening.\n",
       "Thought: The paragraph does not tell who Milhouse is named after, maybe I can look up \u001b[32m\"named after\"\u001b[0m.\n",
       "Action: Lookup\n",
       "Observation: \u001b[1m(\u001b[0mResult \u001b[1;36m1\u001b[0m \u001b[35m/\u001b[0m \u001b[1;36m1\u001b[0m\u001b[1m)\u001b[0m Milhouse was named after U.S. president Richard Nixon, whose middle name was Milhous.\n",
       "Thought: Milhouse was named after U.S. president Richard Nixon, so the answer is Richard Nixon.\n",
       "Action: Finish\u001b[1m[\u001b[0mRichard Nixon\u001b[1m]\u001b[0m\n",
       "\n",
       "Question: Which documentary is about Finnish rock groups, Adam Clayton Powell or The Saimaa Gesture?\n",
       "Thought: I need to search Adam Clayton Powell and The Saimaa Gesture, and find which documentary is about Finnish \n",
       "rock groups.\n",
       "Action: Search\u001b[1m[\u001b[0mAdam Clayton Powell\u001b[1m]\u001b[0m\n",
       "Observation: Could not find \u001b[1m[\u001b[0mAdam Clayton Powell\u001b[1m]\u001b[0m. Similar: \u001b[1m[\u001b[0m’Adam Clayton Powell III’, ’Seventh Avenue \n",
       "\u001b[1m(\u001b[0mManhattan\u001b[1m)\u001b[0m’, ’Adam Clayton Powell Jr. State Office Building’, ’Isabel Washington Powell’, ’Adam Powell’, ’Adam \n",
       "Clayton Powell \u001b[1m(\u001b[0mfilm\u001b[1m)\u001b[0m’, ’Giancarlo Esposito’\u001b[1m]\u001b[0m.\n",
       "Thought: To find the documentary, I can search Adam Clayton Powell \u001b[1m(\u001b[0mfilm\u001b[1m)\u001b[0m.\n",
       "Action: Search\u001b[1m[\u001b[0mAdam Clayton Powell \u001b[1m(\u001b[0mfilm\u001b[1m)\u001b[0m\u001b[1m]\u001b[0m\n",
       "Observation: Adam Clayton Powell is a \u001b[1;36m1989\u001b[0m American documentary film directed by Richard Kilberg. The film is about\n",
       "the rise and fall of influential African-American politician Adam Clayton Powell Jr.\u001b[1m[\u001b[0m\u001b[1;36m3\u001b[0m\u001b[1m]\u001b[0m\u001b[1m[\u001b[0m\u001b[1;36m4\u001b[0m\u001b[1m]\u001b[0m It was later aired as \n",
       "part of the PBS series The American Experience.\n",
       "Thought: Adam Clayton Powell \u001b[1m(\u001b[0mfilm\u001b[1m)\u001b[0m is a documentary about an African-American politician, not Finnish rock groups.\n",
       "So the documentary about Finnish rock groups must instead be The Saimaa Gesture.\n",
       "Action: Finish\u001b[1m[\u001b[0mThe Saimaa Gesture\u001b[1m]\u001b[0m\n",
       "\n",
       "Question: What profession does Nicholas Ray and Elia Kazan have in common?\n",
       "Thought: I need to search Nicholas Ray and Elia Kazan, find their professions, then find the profession they have \n",
       "in common.\n",
       "Action: Search\u001b[1m[\u001b[0mNicholas Ray\u001b[1m]\u001b[0m\n",
       "Observation: Nicholas Ray \u001b[1m(\u001b[0mborn Raymond Nicholas Kienzle Jr., August \u001b[1;36m7\u001b[0m, \u001b[1;36m1911\u001b[0m - June \u001b[1;36m16\u001b[0m, \u001b[1;36m1979\u001b[0m\u001b[1m)\u001b[0m was an American film \n",
       "director, screenwriter, and actor best known for the \u001b[1;36m1955\u001b[0m film Rebel Without a Cause.\n",
       "Thought: Professions of Nicholas Ray are director, screenwriter, and actor. I need to search Elia Kazan next and \n",
       "find his professions.\n",
       "Action: Search\u001b[1m[\u001b[0mElia Kazan\u001b[1m]\u001b[0m\n",
       "Observation: Elia Kazan was an American film and theatre director, producer, screenwriter and actor.\n",
       "Thought: Professions of Elia Kazan are director, producer, screenwriter, and actor. So profession Nicholas Ray and \n",
       "Elia Kazan have in common is director, screenwriter, and actor.\n",
       "Action: Finish\n",
       "\n",
       "Question: Which magazine was started first Arthur’s Magazine or First for Women?\n",
       "Thought: I need to search Arthur’s Magazine and First for Women, and find which was started first.\n",
       "Action: Search\u001b[1m[\u001b[0mArthur’s Magazine\u001b[1m]\u001b[0m\n",
       "Observation: Arthur’s Magazine \u001b[1m(\u001b[0m\u001b[1;36m1844\u001b[0m-\u001b[1;36m1846\u001b[0m\u001b[1m)\u001b[0m was an American literary periodical published in Philadelphia in the \n",
       "19th century.\n",
       "Thought: Arthur’s Magazine was started in \u001b[1;36m1844\u001b[0m. I need to search First for Women next.\n",
       "Action: Search\u001b[1m[\u001b[0mFirst for Women\u001b[1m]\u001b[0m\n",
       "Observation: First for Women is a woman’s magazine published by Bauer Media Group in the USA.\u001b[1m[\u001b[0m\u001b[1;36m1\u001b[0m\u001b[1m]\u001b[0m The magazine was \n",
       "started in \u001b[1;36m1989\u001b[0m.\n",
       "Thought: First for Women was started in \u001b[1;36m1989\u001b[0m. \u001b[1;36m1844\u001b[0m \u001b[1m(\u001b[0mArthur’s Magazine\u001b[1m)\u001b[0m < \u001b[1;36m1989\u001b[0m \u001b[1m(\u001b[0mFirst for Women\u001b[1m)\u001b[0m, so Arthur’s \n",
       "Magazine was started first.\n",
       "Action: Finish\u001b[1m[\u001b[0mArthur’s Magazine\u001b[1m]\u001b[0m\n",
       "\n",
       "Question: Were Pavel Urysohn and Leonid Levin known for the same type of work?\n",
       "Thought: I need to search Pavel Urysohn and Leonid Levin, find their types of work, then find if they are the same.\n",
       "Action: Search\u001b[1m[\u001b[0mPavel Urysohn\u001b[1m]\u001b[0m\n",
       "Observation: Pavel Samuilovich Urysohn \u001b[1m(\u001b[0mFebruary \u001b[1;36m3\u001b[0m, \u001b[1;36m1898\u001b[0m - August \u001b[1;36m17\u001b[0m, \u001b[1;36m1924\u001b[0m\u001b[1m)\u001b[0m was a Soviet mathematician who is best \n",
       "known for his contributions in dimension theory.\n",
       "Thought: Pavel Urysohn is a mathematician. I need to search Leonid Levin next and find its type of work.\n",
       "Action: Search\u001b[1m[\u001b[0mLeonid Levin\u001b[1m]\u001b[0m\n",
       "Observation: Leonid Anatolievich Levin is a Soviet-American mathematician and computer scientist.\n",
       "Thought: Leonid Levin is a mathematician and computer scientist. So Pavel Urysohn and Leonid Levin have the same \n",
       "type of work.\n",
       "Action: Finish\n",
       "\n",
       "\n",
       "Question: \u001b[1m{\u001b[0minput\u001b[1m}\u001b[0m\n",
       "\u001b[1m{\u001b[0magent_scratchpad\u001b[1m}\u001b[0m\n"
      ]
     },
     "metadata": {},
     "output_type": "display_data"
    }
   ],
   "source": [
    "pprint(agent.agent.llm_chain.prompt.template)"
   ]
  },
  {
   "cell_type": "code",
   "execution_count": 69,
   "id": "92d5bbeb-9644-4f10-b05c-5fa756dc3c88",
   "metadata": {},
   "outputs": [
    {
     "name": "stdout",
     "output_type": "stream",
     "text": [
      "\n",
      "\n",
      "\u001b[1m> Entering new AgentExecutor chain...\u001b[0m\n",
      "\u001b[32;1m\u001b[1;3mThought: The question translates to: \"When was the Qin Dynasty established?\" I need to search for the Qin Dynasty and find out when it was established.\n",
      "Action: Search[秦朝建立時間]\u001b[0m\n",
      "Observation: \u001b[36;1m\u001b[1;3mCould not find [秦朝建立時間]. Similar: []\u001b[0m\n",
      "Thought:\u001b[32;1m\u001b[1;3mI need to try searching in English first.\n",
      "Action: Search[Qin Dynasty establishment date]\u001b[0m\n",
      "Observation: \u001b[36;1m\u001b[1;3mFor most of its history, China was organized into various dynastic states under the rule of hereditary monarchs. Beginning with the establishment of dynastic rule by Yu the Great c. 2070 BC, and ending with the abdication of the Xuantong Emperor in AD 1912, Chinese historiography came to organize itself around the succession of monarchical dynasties. Besides those established by the dominant Han ethnic group or its spiritual Huaxia predecessors, dynasties throughout Chinese history were also founded by non-Han peoples.\n",
      "Dividing Chinese history into dynastic epochs is a convenient and conventional method of periodization. Accordingly, a dynasty may be used to delimit the era during which a family reigned, as well as to describe events, trends, personalities, artistic compositions, and artifacts of that period. For example, porcelain made during the Ming dynasty may be referred to as \"Ming porcelain\".\n",
      "The longest-reigning orthodox dynasty of China was the Zhou dynasty, ruling for a total length of about 790 years, albeit it is divided into the Western Zhou and the Eastern Zhou in Chinese historiography. The largest orthodox Chinese dynasty in terms of territorial size was either the Yuan dynasty or the Qing dynasty, depending on the historical source.\n",
      "The term \"Tiāncháo\" (天朝; \"Celestial Dynasty\" or \"Heavenly Dynasty\") was frequently employed as a self-reference by Chinese dynasties. As a form of respect and subordination, Chinese tributary states referred to these dynasties as \"Tiāncháo Shàngguó\" (天朝上國; \"Celestial Dynasty of the Exalted State\") or \"Tiāncháo Dàguó\" (天朝大國; \"Celestial Dynasty of the Great State\").\u001b[0m\n",
      "Thought:\u001b[32;1m\u001b[1;3mThis passage doesn't answer the question directly. Let me try searching specifically for the establishment date of the Qin Dynasty.\n",
      "Action: Search[Qin Dynasty start date]\u001b[0m\n",
      "Observation: \u001b[36;1m\u001b[1;3mCould not find [Qin Dynasty start date]. Similar: ['Qin Shi Huang', 'Dynasties of China', 'History of the Great Wall of China', 'BYD Qin', 'List of emperors of the Han dynasty', 'Bai Qi', 'Zhao Gao', 'List of wars involving Vietnam', '3rd century BC', 'Mount Mangdang']\u001b[0m\n",
      "Thought:\u001b[32;1m\u001b[1;3mLet me try searching for the Qin Dynasty in simplified Chinese.\n",
      "Action: Search[秦朝]\u001b[0m"
     ]
    },
    {
     "name": "stderr",
     "output_type": "stream",
     "text": [
      "C:\\Users\\andrewchan\\miniconda3\\envs\\vertexai\\lib\\site-packages\\wikipedia\\wikipedia.py:389: GuessedAtParserWarning: No parser was explicitly specified, so I'm using the best available HTML parser for this system (\"lxml\"). This usually isn't a problem, but if you run this code on another system, or in a different virtual environment, it may use a different parser and behave differently.\n",
      "\n",
      "The code that caused this warning is on line 389 of the file C:\\Users\\andrewchan\\miniconda3\\envs\\vertexai\\lib\\site-packages\\wikipedia\\wikipedia.py. To get rid of this warning, pass the additional argument 'features=\"lxml\"' to the BeautifulSoup constructor.\n",
      "\n",
      "  lis = BeautifulSoup(html).find_all('li')\n"
     ]
    },
    {
     "name": "stdout",
     "output_type": "stream",
     "text": [
      "\n",
      "Observation: \u001b[36;1m\u001b[1;3mCould not find [秦朝]. Similar: ['Qin dynasty', 'History of China', 'Dynasties of China', 'Family tree of Chinese monarchs (221 BCE – 453 CE)', 'List of kingdoms and royal dynasties', 'Qin campaign against the Baiyue', 'Three Lords and Nine Ministers', 'Jinhan confederacy', 'List of Chinese monarchs', 'Fan Bingbing filmography']\u001b[0m\n",
      "Thought:\u001b[32;1m\u001b[1;3mAction: Search[Qin dynasty]\u001b[0m\n",
      "Observation: \u001b[36;1m\u001b[1;3mThe Qing dynasty ( CHING), officially the Great Qing, was a Manchu-led imperial dynasty of China and an early modern empire in East Asia. The last imperial dynasty in Chinese history, the Qing dynasty was preceded by the Ming dynasty and succeeded by the Republic of China. At its height of power, the empire stretched from the Sea of Japan in the east to the Pamir Mountains in the west, and from the Mongolian Plateau in the north to the South China Sea in the south. Originally emerging from the Later Jin dynasty founded in 1616 and proclaimed in Shenyang in 1636, the dynasty seized control of the Ming capital Beijing and North China in 1644, traditionally considered the start of the dynasty's rule. The dynasty lasted until the Xinhai Revolution of October 1911 led to the abdication of the last emperor in February 1912. The multi-ethnic Qing dynasty assembled the territorial base for modern China. The Qing controlled the most territory of any dynasty in Chinese history, and in 1790 represented the fourth-largest empire in world history to that point. With over 426 million citizens in 1907, it was the most populous country in the world at the time.\n",
      "Nurhaci, leader of the Jianzhou Jurchens and House of Aisin-Gioro who was also a vassal of the Ming dynasty, unified Jurchen clans (known later as Manchus) and founded the Later Jin dynasty in 1616, renouncing the Ming overlordship. As the founding Khan of the Manchu state he established the Eight Banners military system, and his son Hong Taiji was declared Emperor of the Great Qing in 1636. As Ming control disintegrated, peasant rebels captured Beijing as the short-lived Shun dynasty, but the Ming general Wu Sangui opened the Shanhai Pass to the Qing army, which defeated the rebels, seized the capital, and took over the government in 1644 under the Shunzhi Emperor and his prince regent. While the Qing became a Chinese empire, resistance from Ming rump regimes and the Revolt of the Three Feudatories delayed the complete conquest until 1683, which marked the beginning of the High Qing era. As an emperor of Manchu ethnic origin, the Kangxi Emperor (1661–1722) consolidated control, relished the role of a Confucian ruler, patronised Buddhism (including Tibetan Buddhism), encouraged scholarship, population and economic growth. Han officials worked under or in parallel with Manchu officials.\n",
      "To maintain prominence over its neighbors, the Qing leveraged and adapted the traditional tributary system employed by previous dynasties, enabling their continued predominance in affairs with countries on its periphery like Joseon Korea and the Lê dynasty in Vietnam, while extending its control over Inner Asia including Tibet, Mongolia, and Xinjiang. The Qing dynasty reached its apex during the reign of the Qianlong Emperor (1735–1796), who led the Ten Great Campaigns of conquest, and personally supervised Confucian cultural projects. After his death, the dynasty faced internal revolts, economic disruption, official corruption, foreign intrusion, and the reluctance of Confucian elites to change their mindset. With peace and prosperity, the population rose to 400 million, but taxes and government revenues were fixed at a low rate, soon leading to a fiscal crisis. Following China's defeat in the Opium Wars, Western colonial powers forced the Qing government to sign unequal treaties, granting them trading privileges, extraterritoriality and treaty ports under their control. The Taiping Rebellion (1850–1864) and the Dungan Revolt (1862–1877) in western China led to the deaths of over 20 million people, from famine, disease, and war.\n",
      "The Tongzhi Restoration in the 1860s brought vigorous reforms and the introduction of foreign military technology in the Self-Strengthening Movement. Defeat in the First Sino-Japanese War (1894–1895) led to loss of suzerainty over Korea and cession of Taiwan to the Empire of Japan. The ambitious Hundred Days' Reform in 1898 proposed fundamental change, but was poorly executed and terminated by the Empress Dowager Cixi (1835–1908) in the Wuxu Coup. In 1900, anti-foreign Boxers killed many Chinese Christians and foreign missionaries; in retaliation, the Eight-Nation Alliance invaded China and imposed a punitive indemnity. In response, the government initiated unprecedented fiscal and administrative reforms, including elections, a new legal code, and the abolition of the imperial examination system. Sun Yat-sen and revolutionaries debated reform officials and constitutional monarchists such as Kang Youwei and Liang Qichao over how to transform the Manchu-ruled empire into a modernised Han state. After the deaths of the Guangxu Emperor and Cixi in 1908, Manchu conservatives at court blocked reforms and alienated reformers and local elites alike. The Wuchang Uprising on 10 October 1911 led to the Xinhai Revolution. The abdication of the Xuantong Emperor on 12 February 1912 brought the dynasty to an end.\u001b[0m\n",
      "Thought:\u001b[32;1m\u001b[1;3mThe provided text discusses the *Qing* dynasty, not the *Qin* dynasty. I need to find the *Qin* dynasty's establishment date.\n",
      "Action: Search[Qin dynasty date]\u001b[0m\n",
      "Observation: \u001b[36;1m\u001b[1;3mThe Qin dynasty ( CHIN) was the first imperial dynasty of China. It is named for its progenitor state of Qin, a fief of the confederal Zhou dynasty (c. 1046 – 256 BC). Beginning in 230 BC, the Qin under King Ying Zheng engaged in a series of wars conquering each of the rival states that had previously pledged fealty to the Zhou. This culminated in 221 BC with the successful unification of China under Qin, which then assumed an imperial prerogative – with Ying Zheng declaring himself to be Qin Shi Huang, the first emperor of China, and bringing an end to the Warring States period (c. 475 – 221 BC). This state of affairs lasted until 206 BC, when the dynasty collapsed in the years following Qin Shi Huang's death. The Qin dynasty's 14-year existence was the shortest of any major dynasty in Chinese history, with only two emperors. However, the succeeding Han dynasty (202 BC – 220 AD) largely continued the military and administrative practices instituted by the Qin; as a result, the Qin have been credited as the originators of the Chinese imperial system that would endure in some form until the Xinhai Revolution in 1911.\n",
      "Qin was a minor power for the first several centuries of its existence; its strength greatly increased in the 4th century BC, in large part owing to the administrative and military reforms of Shang Yang. They sought to create a strong, centralised state and a large army supported by a stable economy, which were developed in the Qin homeland and implemented across China following its unification. Reforms included the standardisation of currency, weights, measures, and the writing system, along with innovations in weaponry, transportation and military tactics. The central government sought to undercut aristocrats and landowners and administer the peasantry directly, who comprised the vast majority of the population. This enabled numerous large-scale construction projects involving the labour of hundreds of thousands of peasants and convicts – which included the connection of walls along the northern border into what would eventually become the Great Wall of China, a large national road system, and the city-sized Mausoleum of Qin Shi Huang guarded by the life-sized Terracotta Army. The state possessed an unprecedented capacity to transform the environment through the management of people and land; as a result, Qin's rise has been characterised as one of the most important events in East Asian environmental history.\n",
      "When Qin Shi Huang died in 210 BC, two of his advisors placed an heir on the throne in an attempt to exert control over the dynasty and wield state power. These advisors squabbled among themselves, resulting in both of their deaths and that of the second Qin emperor. Popular revolt broke out, and the weakened empire soon fell to Chu generals Xiang Yu and Liu Bang, the latter of whom founded the Han dynasty.\u001b[0m\n",
      "Thought:\u001b[32;1m\u001b[1;3mThe Qin dynasty was established in 221 BC.\n",
      "Action: Finish[221 BC]\u001b[0m\n",
      "\n",
      "\u001b[1m> Finished chain.\u001b[0m\n"
     ]
    }
   ],
   "source": [
    "response = agent.invoke('秦朝建立是在什麼時間?')"
   ]
  },
  {
   "cell_type": "code",
   "execution_count": 70,
   "id": "1d276380-7bd5-4ab5-817c-6e545ae8746e",
   "metadata": {},
   "outputs": [
    {
     "data": {
      "text/html": [
       "<pre style=\"white-space:pre;overflow-x:auto;line-height:normal;font-family:Menlo,'DejaVu Sans Mono',consolas,'Courier New',monospace\"><span style=\"font-weight: bold\">{</span>\n",
       "    <span style=\"color: #008000; text-decoration-color: #008000\">'input'</span>: <span style=\"color: #008000; text-decoration-color: #008000\">'秦朝建立是在什麼時間?'</span>,\n",
       "    <span style=\"color: #008000; text-decoration-color: #008000\">'output'</span>: <span style=\"color: #008000; text-decoration-color: #008000\">'221 BC'</span>,\n",
       "    <span style=\"color: #008000; text-decoration-color: #008000\">'intermediate_steps'</span>: <span style=\"font-weight: bold\">[</span>\n",
       "        <span style=\"font-weight: bold\">(</span>\n",
       "            <span style=\"color: #800080; text-decoration-color: #800080; font-weight: bold\">AgentAction</span><span style=\"font-weight: bold\">(</span>\n",
       "                <span style=\"color: #808000; text-decoration-color: #808000\">tool</span>=<span style=\"color: #008000; text-decoration-color: #008000\">'Search'</span>,\n",
       "                <span style=\"color: #808000; text-decoration-color: #808000\">tool_input</span>=<span style=\"color: #008000; text-decoration-color: #008000\">'秦朝建立時間'</span>,\n",
       "                <span style=\"color: #808000; text-decoration-color: #808000\">log</span>=<span style=\"color: #008000; text-decoration-color: #008000\">'Thought: The question translates to: \"When was the Qin Dynasty established?\" I need to search </span>\n",
       "<span style=\"color: #008000; text-decoration-color: #008000\">for the Qin Dynasty and find out when it was established.\\nAction: Search[秦朝建立時間]'</span>\n",
       "            <span style=\"font-weight: bold\">)</span>,\n",
       "            <span style=\"color: #008000; text-decoration-color: #008000\">'Could not find [秦朝建立時間]. Similar: []'</span>\n",
       "        <span style=\"font-weight: bold\">)</span>,\n",
       "        <span style=\"font-weight: bold\">(</span>\n",
       "            <span style=\"color: #800080; text-decoration-color: #800080; font-weight: bold\">AgentAction</span><span style=\"font-weight: bold\">(</span>\n",
       "                <span style=\"color: #808000; text-decoration-color: #808000\">tool</span>=<span style=\"color: #008000; text-decoration-color: #008000\">'Search'</span>,\n",
       "                <span style=\"color: #808000; text-decoration-color: #808000\">tool_input</span>=<span style=\"color: #008000; text-decoration-color: #008000\">'Qin Dynasty establishment date'</span>,\n",
       "                <span style=\"color: #808000; text-decoration-color: #808000\">log</span>=<span style=\"color: #008000; text-decoration-color: #008000\">'I need to try searching in English first.\\nAction: Search[Qin Dynasty establishment date]'</span>\n",
       "            <span style=\"font-weight: bold\">)</span>,\n",
       "            <span style=\"color: #008000; text-decoration-color: #008000\">'For most of its history, China was organized into various dynastic states under the rule of hereditary</span>\n",
       "<span style=\"color: #008000; text-decoration-color: #008000\">monarchs. Beginning with the establishment of dynastic rule by Yu the Great c.\\u20092070 BC, and ending with the </span>\n",
       "<span style=\"color: #008000; text-decoration-color: #008000\">abdication of the Xuantong Emperor in AD 1912, Chinese historiography came to organize itself around the succession</span>\n",
       "<span style=\"color: #008000; text-decoration-color: #008000\">of monarchical dynasties. Besides those established by the dominant Han ethnic group or its spiritual Huaxia </span>\n",
       "<span style=\"color: #008000; text-decoration-color: #008000\">predecessors, dynasties throughout Chinese history were also founded by non-Han peoples.\\nDividing Chinese history </span>\n",
       "<span style=\"color: #008000; text-decoration-color: #008000\">into dynastic epochs is a convenient and conventional method of periodization. Accordingly, a dynasty may be used </span>\n",
       "<span style=\"color: #008000; text-decoration-color: #008000\">to delimit the era during which a family reigned, as well as to describe events, trends, personalities, artistic </span>\n",
       "<span style=\"color: #008000; text-decoration-color: #008000\">compositions, and artifacts of that period. For example, porcelain made during the Ming dynasty may be referred to </span>\n",
       "<span style=\"color: #008000; text-decoration-color: #008000\">as \"Ming porcelain\".\\nThe longest-reigning orthodox dynasty of China was the Zhou dynasty, ruling for a total </span>\n",
       "<span style=\"color: #008000; text-decoration-color: #008000\">length of about 790 years, albeit it is divided into the Western Zhou and the Eastern Zhou in Chinese </span>\n",
       "<span style=\"color: #008000; text-decoration-color: #008000\">historiography. The largest orthodox Chinese dynasty in terms of territorial size was either the Yuan dynasty or </span>\n",
       "<span style=\"color: #008000; text-decoration-color: #008000\">the Qing dynasty, depending on the historical source.\\nThe term \"Tiāncháo\" (天朝; \"Celestial Dynasty\" or \"Heavenly </span>\n",
       "<span style=\"color: #008000; text-decoration-color: #008000\">Dynasty\") was frequently employed as a self-reference by Chinese dynasties. As a form of respect and subordination,</span>\n",
       "<span style=\"color: #008000; text-decoration-color: #008000\">Chinese tributary states referred to these dynasties as \"Tiāncháo Shàngguó\" (天朝上國; \"Celestial Dynasty of the </span>\n",
       "<span style=\"color: #008000; text-decoration-color: #008000\">Exalted State\") or \"Tiāncháo Dàguó\" (天朝大國; \"Celestial Dynasty of the Great State\").'</span>\n",
       "        <span style=\"font-weight: bold\">)</span>,\n",
       "        <span style=\"font-weight: bold\">(</span>\n",
       "            <span style=\"color: #800080; text-decoration-color: #800080; font-weight: bold\">AgentAction</span><span style=\"font-weight: bold\">(</span>\n",
       "                <span style=\"color: #808000; text-decoration-color: #808000\">tool</span>=<span style=\"color: #008000; text-decoration-color: #008000\">'Search'</span>,\n",
       "                <span style=\"color: #808000; text-decoration-color: #808000\">tool_input</span>=<span style=\"color: #008000; text-decoration-color: #008000\">'Qin Dynasty start date'</span>,\n",
       "                <span style=\"color: #808000; text-decoration-color: #808000\">log</span>=<span style=\"color: #008000; text-decoration-color: #008000\">\"This passage doesn't answer the question directly. Let me try searching specifically for the </span>\n",
       "<span style=\"color: #008000; text-decoration-color: #008000\">establishment date of the Qin Dynasty.\\nAction: Search[Qin Dynasty start date]\"</span>\n",
       "            <span style=\"font-weight: bold\">)</span>,\n",
       "            <span style=\"color: #008000; text-decoration-color: #008000\">\"Could not find [Qin Dynasty start date]. Similar: ['Qin Shi Huang', 'Dynasties of China', 'History of </span>\n",
       "<span style=\"color: #008000; text-decoration-color: #008000\">the Great Wall of China', 'BYD Qin', 'List of emperors of the Han dynasty', 'Bai Qi', 'Zhao Gao', 'List of wars </span>\n",
       "<span style=\"color: #008000; text-decoration-color: #008000\">involving Vietnam', '3rd century BC', 'Mount Mangdang']\"</span>\n",
       "        <span style=\"font-weight: bold\">)</span>,\n",
       "        <span style=\"font-weight: bold\">(</span>\n",
       "            <span style=\"color: #800080; text-decoration-color: #800080; font-weight: bold\">AgentAction</span><span style=\"font-weight: bold\">(</span>\n",
       "                <span style=\"color: #808000; text-decoration-color: #808000\">tool</span>=<span style=\"color: #008000; text-decoration-color: #008000\">'Search'</span>,\n",
       "                <span style=\"color: #808000; text-decoration-color: #808000\">tool_input</span>=<span style=\"color: #008000; text-decoration-color: #008000\">'秦朝'</span>,\n",
       "                <span style=\"color: #808000; text-decoration-color: #808000\">log</span>=<span style=\"color: #008000; text-decoration-color: #008000\">'Let me try searching for the Qin Dynasty in simplified Chinese.\\nAction: Search[秦朝]'</span>\n",
       "            <span style=\"font-weight: bold\">)</span>,\n",
       "            <span style=\"color: #008000; text-decoration-color: #008000\">\"Could not find [秦朝]. Similar: ['Qin dynasty', 'History of China', 'Dynasties of China', 'Family tree</span>\n",
       "<span style=\"color: #008000; text-decoration-color: #008000\">of Chinese monarchs (221 BCE – 453 CE)', 'List of kingdoms and royal dynasties', 'Qin campaign against the Baiyue',</span>\n",
       "<span style=\"color: #008000; text-decoration-color: #008000\">'Three Lords and Nine Ministers', 'Jinhan confederacy', 'List of Chinese monarchs', 'Fan Bingbing filmography']\"</span>\n",
       "        <span style=\"font-weight: bold\">)</span>,\n",
       "        <span style=\"font-weight: bold\">(</span>\n",
       "            <span style=\"color: #800080; text-decoration-color: #800080; font-weight: bold\">AgentAction</span><span style=\"font-weight: bold\">(</span><span style=\"color: #808000; text-decoration-color: #808000\">tool</span>=<span style=\"color: #008000; text-decoration-color: #008000\">'Search'</span>, <span style=\"color: #808000; text-decoration-color: #808000\">tool_input</span>=<span style=\"color: #008000; text-decoration-color: #008000\">'Qin dynasty'</span>, <span style=\"color: #808000; text-decoration-color: #808000\">log</span>=<span style=\"color: #008000; text-decoration-color: #008000\">'Action: Search[Qin dynasty]'</span><span style=\"font-weight: bold\">)</span>,\n",
       "            <span style=\"color: #008000; text-decoration-color: #008000\">\"The Qing dynasty ( CHING), officially the Great Qing, was a Manchu-led imperial dynasty of China and </span>\n",
       "<span style=\"color: #008000; text-decoration-color: #008000\">an early modern empire in East Asia. The last imperial dynasty in Chinese history, the Qing dynasty was preceded by</span>\n",
       "<span style=\"color: #008000; text-decoration-color: #008000\">the Ming dynasty and succeeded by the Republic of China. At its height of power, the empire stretched from the Sea </span>\n",
       "<span style=\"color: #008000; text-decoration-color: #008000\">of Japan in the east to the Pamir Mountains in the west, and from the Mongolian Plateau in the north to the South </span>\n",
       "<span style=\"color: #008000; text-decoration-color: #008000\">China Sea in the south. Originally emerging from the Later Jin dynasty founded in 1616 and proclaimed in Shenyang </span>\n",
       "<span style=\"color: #008000; text-decoration-color: #008000\">in 1636, the dynasty seized control of the Ming capital Beijing and North China in 1644, traditionally considered </span>\n",
       "<span style=\"color: #008000; text-decoration-color: #008000\">the start of the dynasty's rule. The dynasty lasted until the Xinhai Revolution of October 1911 led to the </span>\n",
       "<span style=\"color: #008000; text-decoration-color: #008000\">abdication of the last emperor in February 1912. The multi-ethnic Qing dynasty assembled the territorial base for </span>\n",
       "<span style=\"color: #008000; text-decoration-color: #008000\">modern China. The Qing controlled the most territory of any dynasty in Chinese history, and in 1790 represented the</span>\n",
       "<span style=\"color: #008000; text-decoration-color: #008000\">fourth-largest empire in world history to that point. With over 426 million citizens in 1907, it was the most </span>\n",
       "<span style=\"color: #008000; text-decoration-color: #008000\">populous country in the world at the time.\\nNurhaci, leader of the Jianzhou Jurchens and House of Aisin-Gioro who </span>\n",
       "<span style=\"color: #008000; text-decoration-color: #008000\">was also a vassal of the Ming dynasty, unified Jurchen clans (known later as Manchus) and founded the Later Jin </span>\n",
       "<span style=\"color: #008000; text-decoration-color: #008000\">dynasty in 1616, renouncing the Ming overlordship. As the founding Khan of the Manchu state he established the </span>\n",
       "<span style=\"color: #008000; text-decoration-color: #008000\">Eight Banners military system, and his son Hong Taiji was declared Emperor of the Great Qing in 1636. As Ming </span>\n",
       "<span style=\"color: #008000; text-decoration-color: #008000\">control disintegrated, peasant rebels captured Beijing as the short-lived Shun dynasty, but the Ming general Wu </span>\n",
       "<span style=\"color: #008000; text-decoration-color: #008000\">Sangui opened the Shanhai Pass to the Qing army, which defeated the rebels, seized the capital, and took over the </span>\n",
       "<span style=\"color: #008000; text-decoration-color: #008000\">government in 1644 under the Shunzhi Emperor and his prince regent. While the Qing became a Chinese empire, </span>\n",
       "<span style=\"color: #008000; text-decoration-color: #008000\">resistance from Ming rump regimes and the Revolt of the Three Feudatories delayed the complete conquest until 1683,</span>\n",
       "<span style=\"color: #008000; text-decoration-color: #008000\">which marked the beginning of the High Qing era. As an emperor of Manchu ethnic origin, the Kangxi Emperor </span>\n",
       "<span style=\"color: #008000; text-decoration-color: #008000\">(1661–1722) consolidated control, relished the role of a Confucian ruler, patronised Buddhism (including Tibetan </span>\n",
       "<span style=\"color: #008000; text-decoration-color: #008000\">Buddhism), encouraged scholarship, population and economic growth. Han officials worked under or in parallel with </span>\n",
       "<span style=\"color: #008000; text-decoration-color: #008000\">Manchu officials.\\nTo maintain prominence over its neighbors, the Qing leveraged and adapted the traditional </span>\n",
       "<span style=\"color: #008000; text-decoration-color: #008000\">tributary system employed by previous dynasties, enabling their continued predominance in affairs with countries on</span>\n",
       "<span style=\"color: #008000; text-decoration-color: #008000\">its periphery like Joseon Korea and the Lê dynasty in Vietnam, while extending its control over Inner Asia </span>\n",
       "<span style=\"color: #008000; text-decoration-color: #008000\">including Tibet, Mongolia, and Xinjiang. The Qing dynasty reached its apex during the reign of the Qianlong Emperor</span>\n",
       "<span style=\"color: #008000; text-decoration-color: #008000\">(1735–1796), who led the Ten Great Campaigns of conquest, and personally supervised Confucian cultural projects. </span>\n",
       "<span style=\"color: #008000; text-decoration-color: #008000\">After his death, the dynasty faced internal revolts, economic disruption, official corruption, foreign intrusion, </span>\n",
       "<span style=\"color: #008000; text-decoration-color: #008000\">and the reluctance of Confucian elites to change their mindset. With peace and prosperity, the population rose to </span>\n",
       "<span style=\"color: #008000; text-decoration-color: #008000\">400 million, but taxes and government revenues were fixed at a low rate, soon leading to a fiscal crisis. Following</span>\n",
       "<span style=\"color: #008000; text-decoration-color: #008000\">China's defeat in the Opium Wars, Western colonial powers forced the Qing government to sign unequal treaties, </span>\n",
       "<span style=\"color: #008000; text-decoration-color: #008000\">granting them trading privileges, extraterritoriality and treaty ports under their control. The Taiping Rebellion </span>\n",
       "<span style=\"color: #008000; text-decoration-color: #008000\">(1850–1864) and the Dungan Revolt (1862–1877) in western China led to the deaths of over 20 million people, from </span>\n",
       "<span style=\"color: #008000; text-decoration-color: #008000\">famine, disease, and war.\\nThe Tongzhi Restoration in the 1860s brought vigorous reforms and the introduction of </span>\n",
       "<span style=\"color: #008000; text-decoration-color: #008000\">foreign military technology in the Self-Strengthening Movement. Defeat in the First Sino-Japanese War (1894–1895) </span>\n",
       "<span style=\"color: #008000; text-decoration-color: #008000\">led to loss of suzerainty over Korea and cession of Taiwan to the Empire of Japan. The ambitious Hundred Days' </span>\n",
       "<span style=\"color: #008000; text-decoration-color: #008000\">Reform in 1898 proposed fundamental change, but was poorly executed and terminated by the Empress Dowager Cixi </span>\n",
       "<span style=\"color: #008000; text-decoration-color: #008000\">(1835–1908) in the Wuxu Coup. In 1900, anti-foreign Boxers killed many Chinese Christians and foreign missionaries;</span>\n",
       "<span style=\"color: #008000; text-decoration-color: #008000\">in retaliation, the Eight-Nation Alliance invaded China and imposed a punitive indemnity. In response, the </span>\n",
       "<span style=\"color: #008000; text-decoration-color: #008000\">government initiated unprecedented fiscal and administrative reforms, including elections, a new legal code, and </span>\n",
       "<span style=\"color: #008000; text-decoration-color: #008000\">the abolition of the imperial examination system. Sun Yat-sen and revolutionaries debated reform officials and </span>\n",
       "<span style=\"color: #008000; text-decoration-color: #008000\">constitutional monarchists such as Kang Youwei and Liang Qichao over how to transform the Manchu-ruled empire into </span>\n",
       "<span style=\"color: #008000; text-decoration-color: #008000\">a modernised Han state. After the deaths of the Guangxu Emperor and Cixi in 1908, Manchu conservatives at court </span>\n",
       "<span style=\"color: #008000; text-decoration-color: #008000\">blocked reforms and alienated reformers and local elites alike. The Wuchang Uprising on 10 October 1911 led to the </span>\n",
       "<span style=\"color: #008000; text-decoration-color: #008000\">Xinhai Revolution. The abdication of the Xuantong Emperor on 12 February 1912 brought the dynasty to an end.\"</span>\n",
       "        <span style=\"font-weight: bold\">)</span>,\n",
       "        <span style=\"font-weight: bold\">(</span>\n",
       "            <span style=\"color: #800080; text-decoration-color: #800080; font-weight: bold\">AgentAction</span><span style=\"font-weight: bold\">(</span>\n",
       "                <span style=\"color: #808000; text-decoration-color: #808000\">tool</span>=<span style=\"color: #008000; text-decoration-color: #008000\">'Search'</span>,\n",
       "                <span style=\"color: #808000; text-decoration-color: #808000\">tool_input</span>=<span style=\"color: #008000; text-decoration-color: #008000\">'Qin dynasty date'</span>,\n",
       "                <span style=\"color: #808000; text-decoration-color: #808000\">log</span>=<span style=\"color: #008000; text-decoration-color: #008000\">\"The provided text discusses the *Qing* dynasty, not the *Qin* dynasty. I need to find the </span>\n",
       "<span style=\"color: #008000; text-decoration-color: #008000\">*Qin* dynasty's establishment date.\\nAction: Search[Qin dynasty date]\"</span>\n",
       "            <span style=\"font-weight: bold\">)</span>,\n",
       "            <span style=\"color: #008000; text-decoration-color: #008000\">\"The Qin dynasty ( CHIN) was the first imperial dynasty of China. It is named for its progenitor state </span>\n",
       "<span style=\"color: #008000; text-decoration-color: #008000\">of Qin, a fief of the confederal Zhou dynasty (c.\\u20091046 – 256 BC). Beginning in 230 BC, the Qin under King Ying</span>\n",
       "<span style=\"color: #008000; text-decoration-color: #008000\">Zheng engaged in a series of wars conquering each of the rival states that had previously pledged fealty to the </span>\n",
       "<span style=\"color: #008000; text-decoration-color: #008000\">Zhou. This culminated in 221 BC with the successful unification of China under Qin, which then assumed an imperial </span>\n",
       "<span style=\"color: #008000; text-decoration-color: #008000\">prerogative – with Ying Zheng declaring himself to be Qin Shi Huang, the first emperor of China, and bringing an </span>\n",
       "<span style=\"color: #008000; text-decoration-color: #008000\">end to the Warring States period (c.\\u2009475 – 221 BC). This state of affairs lasted until 206 BC, when the </span>\n",
       "<span style=\"color: #008000; text-decoration-color: #008000\">dynasty collapsed in the years following Qin Shi Huang's death. The Qin dynasty's 14-year existence was the </span>\n",
       "<span style=\"color: #008000; text-decoration-color: #008000\">shortest of any major dynasty in Chinese history, with only two emperors. However, the succeeding Han dynasty (202 </span>\n",
       "<span style=\"color: #008000; text-decoration-color: #008000\">BC – 220 AD) largely continued the military and administrative practices instituted by the Qin; as a result, the </span>\n",
       "<span style=\"color: #008000; text-decoration-color: #008000\">Qin have been credited as the originators of the Chinese imperial system that would endure in some form until the </span>\n",
       "<span style=\"color: #008000; text-decoration-color: #008000\">Xinhai Revolution in 1911.\\nQin was a minor power for the first several centuries of its existence; its strength </span>\n",
       "<span style=\"color: #008000; text-decoration-color: #008000\">greatly increased in the 4th century BC, in large part owing to the administrative and military reforms of Shang </span>\n",
       "<span style=\"color: #008000; text-decoration-color: #008000\">Yang. They sought to create a strong, centralised state and a large army supported by a stable economy, which were </span>\n",
       "<span style=\"color: #008000; text-decoration-color: #008000\">developed in the Qin homeland and implemented across China following its unification. Reforms included the </span>\n",
       "<span style=\"color: #008000; text-decoration-color: #008000\">standardisation of currency, weights, measures, and the writing system, along with innovations in weaponry, </span>\n",
       "<span style=\"color: #008000; text-decoration-color: #008000\">transportation and military tactics. The central government sought to undercut aristocrats and landowners and </span>\n",
       "<span style=\"color: #008000; text-decoration-color: #008000\">administer the peasantry directly, who comprised the vast majority of the population. This enabled numerous </span>\n",
       "<span style=\"color: #008000; text-decoration-color: #008000\">large-scale construction projects involving the labour of hundreds of thousands of peasants and convicts – which </span>\n",
       "<span style=\"color: #008000; text-decoration-color: #008000\">included the connection of walls along the northern border into what would eventually become the Great Wall of </span>\n",
       "<span style=\"color: #008000; text-decoration-color: #008000\">China, a large national road system, and the city-sized Mausoleum of Qin Shi Huang guarded by the life-sized </span>\n",
       "<span style=\"color: #008000; text-decoration-color: #008000\">Terracotta Army. The state possessed an unprecedented capacity to transform the environment through the management </span>\n",
       "<span style=\"color: #008000; text-decoration-color: #008000\">of people and land; as a result, Qin's rise has been characterised as one of the most important events in East </span>\n",
       "<span style=\"color: #008000; text-decoration-color: #008000\">Asian environmental history.\\nWhen Qin Shi Huang died in 210 BC, two of his advisors placed an heir on the throne </span>\n",
       "<span style=\"color: #008000; text-decoration-color: #008000\">in an attempt to exert control over the dynasty and wield state power. These advisors squabbled among themselves, </span>\n",
       "<span style=\"color: #008000; text-decoration-color: #008000\">resulting in both of their deaths and that of the second Qin emperor. Popular revolt broke out, and the weakened </span>\n",
       "<span style=\"color: #008000; text-decoration-color: #008000\">empire soon fell to Chu generals Xiang Yu and Liu Bang, the latter of whom founded the Han dynasty.\"</span>\n",
       "        <span style=\"font-weight: bold\">)</span>\n",
       "    <span style=\"font-weight: bold\">]</span>\n",
       "<span style=\"font-weight: bold\">}</span>\n",
       "</pre>\n"
      ],
      "text/plain": [
       "\u001b[1m{\u001b[0m\n",
       "    \u001b[32m'input'\u001b[0m: \u001b[32m'秦朝建立是在什麼時間?'\u001b[0m,\n",
       "    \u001b[32m'output'\u001b[0m: \u001b[32m'221 BC'\u001b[0m,\n",
       "    \u001b[32m'intermediate_steps'\u001b[0m: \u001b[1m[\u001b[0m\n",
       "        \u001b[1m(\u001b[0m\n",
       "            \u001b[1;35mAgentAction\u001b[0m\u001b[1m(\u001b[0m\n",
       "                \u001b[33mtool\u001b[0m=\u001b[32m'Search'\u001b[0m,\n",
       "                \u001b[33mtool_input\u001b[0m=\u001b[32m'秦朝建立時間'\u001b[0m,\n",
       "                \u001b[33mlog\u001b[0m=\u001b[32m'Thought: The question translates to: \"When was the Qin Dynasty established?\" I need to search \u001b[0m\n",
       "\u001b[32mfor the Qin Dynasty and find out when it was established.\\nAction: Search\u001b[0m\u001b[32m[\u001b[0m\u001b[32m秦朝建立時間\u001b[0m\u001b[32m]\u001b[0m\u001b[32m'\u001b[0m\n",
       "            \u001b[1m)\u001b[0m,\n",
       "            \u001b[32m'Could not find \u001b[0m\u001b[32m[\u001b[0m\u001b[32m秦朝建立時間\u001b[0m\u001b[32m]\u001b[0m\u001b[32m. Similar: \u001b[0m\u001b[32m[\u001b[0m\u001b[32m]\u001b[0m\u001b[32m'\u001b[0m\n",
       "        \u001b[1m)\u001b[0m,\n",
       "        \u001b[1m(\u001b[0m\n",
       "            \u001b[1;35mAgentAction\u001b[0m\u001b[1m(\u001b[0m\n",
       "                \u001b[33mtool\u001b[0m=\u001b[32m'Search'\u001b[0m,\n",
       "                \u001b[33mtool_input\u001b[0m=\u001b[32m'Qin Dynasty establishment date'\u001b[0m,\n",
       "                \u001b[33mlog\u001b[0m=\u001b[32m'I need to try searching in English first.\\nAction: Search\u001b[0m\u001b[32m[\u001b[0m\u001b[32mQin Dynasty establishment date\u001b[0m\u001b[32m]\u001b[0m\u001b[32m'\u001b[0m\n",
       "            \u001b[1m)\u001b[0m,\n",
       "            \u001b[32m'For most of its history, China was organized into various dynastic states under the rule of hereditary\u001b[0m\n",
       "\u001b[32mmonarchs. Beginning with the establishment of dynastic rule by Yu the Great c.\\u20092070 BC, and ending with the \u001b[0m\n",
       "\u001b[32mabdication of the Xuantong Emperor in AD 1912, Chinese historiography came to organize itself around the succession\u001b[0m\n",
       "\u001b[32mof monarchical dynasties. Besides those established by the dominant Han ethnic group or its spiritual Huaxia \u001b[0m\n",
       "\u001b[32mpredecessors, dynasties throughout Chinese history were also founded by non-Han peoples.\\nDividing Chinese history \u001b[0m\n",
       "\u001b[32minto dynastic epochs is a convenient and conventional method of periodization. Accordingly, a dynasty may be used \u001b[0m\n",
       "\u001b[32mto delimit the era during which a family reigned, as well as to describe events, trends, personalities, artistic \u001b[0m\n",
       "\u001b[32mcompositions, and artifacts of that period. For example, porcelain made during the Ming dynasty may be referred to \u001b[0m\n",
       "\u001b[32mas \"Ming porcelain\".\\nThe longest-reigning orthodox dynasty of China was the Zhou dynasty, ruling for a total \u001b[0m\n",
       "\u001b[32mlength of about 790 years, albeit it is divided into the Western Zhou and the Eastern Zhou in Chinese \u001b[0m\n",
       "\u001b[32mhistoriography. The largest orthodox Chinese dynasty in terms of territorial size was either the Yuan dynasty or \u001b[0m\n",
       "\u001b[32mthe Qing dynasty, depending on the historical source.\\nThe term \"Tiāncháo\" \u001b[0m\u001b[32m(\u001b[0m\u001b[32m天朝; \"Celestial Dynasty\" or \"Heavenly \u001b[0m\n",
       "\u001b[32mDynasty\"\u001b[0m\u001b[32m)\u001b[0m\u001b[32m was frequently employed as a self-reference by Chinese dynasties. As a form of respect and subordination,\u001b[0m\n",
       "\u001b[32mChinese tributary states referred to these dynasties as \"Tiāncháo Shàngguó\" \u001b[0m\u001b[32m(\u001b[0m\u001b[32m天朝上國; \"Celestial Dynasty of the \u001b[0m\n",
       "\u001b[32mExalted State\"\u001b[0m\u001b[32m)\u001b[0m\u001b[32m or \"Tiāncháo Dàguó\" \u001b[0m\u001b[32m(\u001b[0m\u001b[32m天朝大國; \"Celestial Dynasty of the Great State\"\u001b[0m\u001b[32m)\u001b[0m\u001b[32m.'\u001b[0m\n",
       "        \u001b[1m)\u001b[0m,\n",
       "        \u001b[1m(\u001b[0m\n",
       "            \u001b[1;35mAgentAction\u001b[0m\u001b[1m(\u001b[0m\n",
       "                \u001b[33mtool\u001b[0m=\u001b[32m'Search'\u001b[0m,\n",
       "                \u001b[33mtool_input\u001b[0m=\u001b[32m'Qin Dynasty start date'\u001b[0m,\n",
       "                \u001b[33mlog\u001b[0m=\u001b[32m\"This\u001b[0m\u001b[32m passage doesn't answer the question directly. Let me try searching specifically for the \u001b[0m\n",
       "\u001b[32mestablishment date of the Qin Dynasty.\\nAction: Search\u001b[0m\u001b[32m[\u001b[0m\u001b[32mQin Dynasty start date\u001b[0m\u001b[32m]\u001b[0m\u001b[32m\"\u001b[0m\n",
       "            \u001b[1m)\u001b[0m,\n",
       "            \u001b[32m\"Could not find \u001b[0m\u001b[32m[\u001b[0m\u001b[32mQin Dynasty start date\u001b[0m\u001b[32m]\u001b[0m\u001b[32m. Similar: \u001b[0m\u001b[32m[\u001b[0m\u001b[32m'Qin Shi Huang', 'Dynasties of China', 'History of \u001b[0m\n",
       "\u001b[32mthe Great Wall of China', 'BYD Qin', 'List of emperors of the Han dynasty', 'Bai Qi', 'Zhao Gao', 'List of wars \u001b[0m\n",
       "\u001b[32minvolving Vietnam', '3rd century BC', 'Mount Mangdang'\u001b[0m\u001b[32m]\u001b[0m\u001b[32m\"\u001b[0m\n",
       "        \u001b[1m)\u001b[0m,\n",
       "        \u001b[1m(\u001b[0m\n",
       "            \u001b[1;35mAgentAction\u001b[0m\u001b[1m(\u001b[0m\n",
       "                \u001b[33mtool\u001b[0m=\u001b[32m'Search'\u001b[0m,\n",
       "                \u001b[33mtool_input\u001b[0m=\u001b[32m'秦朝'\u001b[0m,\n",
       "                \u001b[33mlog\u001b[0m=\u001b[32m'Let me try searching for the Qin Dynasty in simplified Chinese.\\nAction: Search\u001b[0m\u001b[32m[\u001b[0m\u001b[32m秦朝\u001b[0m\u001b[32m]\u001b[0m\u001b[32m'\u001b[0m\n",
       "            \u001b[1m)\u001b[0m,\n",
       "            \u001b[32m\"Could not find \u001b[0m\u001b[32m[\u001b[0m\u001b[32m秦朝\u001b[0m\u001b[32m]\u001b[0m\u001b[32m. Similar: \u001b[0m\u001b[32m[\u001b[0m\u001b[32m'Qin dynasty', 'History of China', 'Dynasties of China', 'Family tree\u001b[0m\n",
       "\u001b[32mof Chinese monarchs \u001b[0m\u001b[32m(\u001b[0m\u001b[32m221 BCE – 453 CE\u001b[0m\u001b[32m)\u001b[0m\u001b[32m', 'List of kingdoms and royal dynasties', 'Qin campaign against the Baiyue',\u001b[0m\n",
       "\u001b[32m'Three Lords and Nine Ministers', 'Jinhan confederacy', 'List of Chinese monarchs', 'Fan Bingbing filmography'\u001b[0m\u001b[32m]\u001b[0m\u001b[32m\"\u001b[0m\n",
       "        \u001b[1m)\u001b[0m,\n",
       "        \u001b[1m(\u001b[0m\n",
       "            \u001b[1;35mAgentAction\u001b[0m\u001b[1m(\u001b[0m\u001b[33mtool\u001b[0m=\u001b[32m'Search'\u001b[0m, \u001b[33mtool_input\u001b[0m=\u001b[32m'Qin dynasty'\u001b[0m, \u001b[33mlog\u001b[0m=\u001b[32m'Action: Search\u001b[0m\u001b[32m[\u001b[0m\u001b[32mQin dynasty\u001b[0m\u001b[32m]\u001b[0m\u001b[32m'\u001b[0m\u001b[1m)\u001b[0m,\n",
       "            \u001b[32m\"The Qing dynasty \u001b[0m\u001b[32m(\u001b[0m\u001b[32m CHING\u001b[0m\u001b[32m)\u001b[0m\u001b[32m, officially the Great Qing, was a Manchu-led imperial dynasty of China and \u001b[0m\n",
       "\u001b[32man early modern empire in East Asia. The last imperial dynasty in Chinese history, the Qing dynasty was preceded by\u001b[0m\n",
       "\u001b[32mthe Ming dynasty and succeeded by the Republic of China. At its height of power, the empire stretched from the Sea \u001b[0m\n",
       "\u001b[32mof Japan in the east to the Pamir Mountains in the west, and from the Mongolian Plateau in the north to the South \u001b[0m\n",
       "\u001b[32mChina Sea in the south. Originally emerging from the Later Jin dynasty founded in 1616 and proclaimed in Shenyang \u001b[0m\n",
       "\u001b[32min 1636, the dynasty seized control of the Ming capital Beijing and North China in 1644, traditionally considered \u001b[0m\n",
       "\u001b[32mthe start of the dynasty's rule. The dynasty lasted until the Xinhai Revolution of October 1911 led to the \u001b[0m\n",
       "\u001b[32mabdication of the last emperor in February 1912. The multi-ethnic Qing dynasty assembled the territorial base for \u001b[0m\n",
       "\u001b[32mmodern China. The Qing controlled the most territory of any dynasty in Chinese history, and in 1790 represented the\u001b[0m\n",
       "\u001b[32mfourth-largest empire in world history to that point. With over 426 million citizens in 1907, it was the most \u001b[0m\n",
       "\u001b[32mpopulous country in the world at the time.\\nNurhaci, leader of the Jianzhou Jurchens and House of Aisin-Gioro who \u001b[0m\n",
       "\u001b[32mwas also a vassal of the Ming dynasty, unified Jurchen clans \u001b[0m\u001b[32m(\u001b[0m\u001b[32mknown later as Manchus\u001b[0m\u001b[32m)\u001b[0m\u001b[32m and founded the Later Jin \u001b[0m\n",
       "\u001b[32mdynasty in 1616, renouncing the Ming overlordship. As the founding Khan of the Manchu state he established the \u001b[0m\n",
       "\u001b[32mEight Banners military system, and his son Hong Taiji was declared Emperor of the Great Qing in 1636. As Ming \u001b[0m\n",
       "\u001b[32mcontrol disintegrated, peasant rebels captured Beijing as the short-lived Shun dynasty, but the Ming general Wu \u001b[0m\n",
       "\u001b[32mSangui opened the Shanhai Pass to the Qing army, which defeated the rebels, seized the capital, and took over the \u001b[0m\n",
       "\u001b[32mgovernment in 1644 under the Shunzhi Emperor and his prince regent. While the Qing became a Chinese empire, \u001b[0m\n",
       "\u001b[32mresistance from Ming rump regimes and the Revolt of the Three Feudatories delayed the complete conquest until 1683,\u001b[0m\n",
       "\u001b[32mwhich marked the beginning of the High Qing era. As an emperor of Manchu ethnic origin, the Kangxi Emperor \u001b[0m\n",
       "\u001b[32m(\u001b[0m\u001b[32m1661–1722\u001b[0m\u001b[32m)\u001b[0m\u001b[32m consolidated control, relished the role of a Confucian ruler, patronised Buddhism \u001b[0m\u001b[32m(\u001b[0m\u001b[32mincluding Tibetan \u001b[0m\n",
       "\u001b[32mBuddhism\u001b[0m\u001b[32m)\u001b[0m\u001b[32m, encouraged scholarship, population and economic growth. Han officials worked under or in parallel with \u001b[0m\n",
       "\u001b[32mManchu officials.\\nTo maintain prominence over its neighbors, the Qing leveraged and adapted the traditional \u001b[0m\n",
       "\u001b[32mtributary system employed by previous dynasties, enabling their continued predominance in affairs with countries on\u001b[0m\n",
       "\u001b[32mits periphery like Joseon Korea and the Lê dynasty in Vietnam, while extending its control over Inner Asia \u001b[0m\n",
       "\u001b[32mincluding Tibet, Mongolia, and Xinjiang. The Qing dynasty reached its apex during the reign of the Qianlong Emperor\u001b[0m\n",
       "\u001b[32m(\u001b[0m\u001b[32m1735–1796\u001b[0m\u001b[32m)\u001b[0m\u001b[32m, who led the Ten Great Campaigns of conquest, and personally supervised Confucian cultural projects. \u001b[0m\n",
       "\u001b[32mAfter his death, the dynasty faced internal revolts, economic disruption, official corruption, foreign intrusion, \u001b[0m\n",
       "\u001b[32mand the reluctance of Confucian elites to change their mindset. With peace and prosperity, the population rose to \u001b[0m\n",
       "\u001b[32m400 million, but taxes and government revenues were fixed at a low rate, soon leading to a fiscal crisis. Following\u001b[0m\n",
       "\u001b[32mChina's defeat in the Opium Wars, Western colonial powers forced the Qing government to sign unequal treaties, \u001b[0m\n",
       "\u001b[32mgranting them trading privileges, extraterritoriality and treaty ports under their control. The Taiping Rebellion \u001b[0m\n",
       "\u001b[32m(\u001b[0m\u001b[32m1850–1864\u001b[0m\u001b[32m)\u001b[0m\u001b[32m and the Dungan Revolt \u001b[0m\u001b[32m(\u001b[0m\u001b[32m1862–1877\u001b[0m\u001b[32m)\u001b[0m\u001b[32m in western China led to the deaths of over 20 million people, from \u001b[0m\n",
       "\u001b[32mfamine, disease, and war.\\nThe Tongzhi Restoration in the 1860s brought vigorous reforms and the introduction of \u001b[0m\n",
       "\u001b[32mforeign military technology in the Self-Strengthening Movement. Defeat in the First Sino-Japanese War \u001b[0m\u001b[32m(\u001b[0m\u001b[32m1894–1895\u001b[0m\u001b[32m)\u001b[0m\u001b[32m \u001b[0m\n",
       "\u001b[32mled to loss of suzerainty over Korea and cession of Taiwan to the Empire of Japan. The ambitious Hundred Days' \u001b[0m\n",
       "\u001b[32mReform in 1898 proposed fundamental change, but was poorly executed and terminated by the Empress Dowager Cixi \u001b[0m\n",
       "\u001b[32m(\u001b[0m\u001b[32m1835–1908\u001b[0m\u001b[32m)\u001b[0m\u001b[32m in the Wuxu Coup. In 1900, anti-foreign Boxers killed many Chinese Christians and foreign missionaries;\u001b[0m\n",
       "\u001b[32min retaliation, the Eight-Nation Alliance invaded China and imposed a punitive indemnity. In response, the \u001b[0m\n",
       "\u001b[32mgovernment initiated unprecedented fiscal and administrative reforms, including elections, a new legal code, and \u001b[0m\n",
       "\u001b[32mthe abolition of the imperial examination system. Sun Yat-sen and revolutionaries debated reform officials and \u001b[0m\n",
       "\u001b[32mconstitutional monarchists such as Kang Youwei and Liang Qichao over how to transform the Manchu-ruled empire into \u001b[0m\n",
       "\u001b[32ma modernised Han state. After the deaths of the Guangxu Emperor and Cixi in 1908, Manchu conservatives at court \u001b[0m\n",
       "\u001b[32mblocked reforms and alienated reformers and local elites alike. The Wuchang Uprising on 10 October 1911 led to the \u001b[0m\n",
       "\u001b[32mXinhai Revolution. The abdication of the Xuantong Emperor on 12 February 1912 brought the dynasty to an end.\"\u001b[0m\n",
       "        \u001b[1m)\u001b[0m,\n",
       "        \u001b[1m(\u001b[0m\n",
       "            \u001b[1;35mAgentAction\u001b[0m\u001b[1m(\u001b[0m\n",
       "                \u001b[33mtool\u001b[0m=\u001b[32m'Search'\u001b[0m,\n",
       "                \u001b[33mtool_input\u001b[0m=\u001b[32m'Qin dynasty date'\u001b[0m,\n",
       "                \u001b[33mlog\u001b[0m=\u001b[32m\"The\u001b[0m\u001b[32m provided text discusses the *Qing* dynasty, not the *Qin* dynasty. I need to find the \u001b[0m\n",
       "\u001b[32m*Qin* dynasty's establishment date.\\nAction: Search\u001b[0m\u001b[32m[\u001b[0m\u001b[32mQin dynasty date\u001b[0m\u001b[32m]\u001b[0m\u001b[32m\"\u001b[0m\n",
       "            \u001b[1m)\u001b[0m,\n",
       "            \u001b[32m\"The Qin dynasty \u001b[0m\u001b[32m(\u001b[0m\u001b[32m CHIN\u001b[0m\u001b[32m)\u001b[0m\u001b[32m was the first imperial dynasty of China. It is named for its progenitor state \u001b[0m\n",
       "\u001b[32mof Qin, a fief of the confederal Zhou dynasty \u001b[0m\u001b[32m(\u001b[0m\u001b[32mc.\\u20091046 – 256 BC\u001b[0m\u001b[32m)\u001b[0m\u001b[32m. Beginning in 230 BC, the Qin under King Ying\u001b[0m\n",
       "\u001b[32mZheng engaged in a series of wars conquering each of the rival states that had previously pledged fealty to the \u001b[0m\n",
       "\u001b[32mZhou. This culminated in 221 BC with the successful unification of China under Qin, which then assumed an imperial \u001b[0m\n",
       "\u001b[32mprerogative – with Ying Zheng declaring himself to be Qin Shi Huang, the first emperor of China, and bringing an \u001b[0m\n",
       "\u001b[32mend to the Warring States period \u001b[0m\u001b[32m(\u001b[0m\u001b[32mc.\\u2009475 – 221 BC\u001b[0m\u001b[32m)\u001b[0m\u001b[32m. This state of affairs lasted until 206 BC, when the \u001b[0m\n",
       "\u001b[32mdynasty collapsed in the years following Qin Shi Huang's death. The Qin dynasty's 14-year existence was the \u001b[0m\n",
       "\u001b[32mshortest of any major dynasty in Chinese history, with only two emperors. However, the succeeding Han dynasty \u001b[0m\u001b[32m(\u001b[0m\u001b[32m202 \u001b[0m\n",
       "\u001b[32mBC – 220 AD\u001b[0m\u001b[32m)\u001b[0m\u001b[32m largely continued the military and administrative practices instituted by the Qin; as a result, the \u001b[0m\n",
       "\u001b[32mQin have been credited as the originators of the Chinese imperial system that would endure in some form until the \u001b[0m\n",
       "\u001b[32mXinhai Revolution in 1911.\\nQin was a minor power for the first several centuries of its existence; its strength \u001b[0m\n",
       "\u001b[32mgreatly increased in the 4th century BC, in large part owing to the administrative and military reforms of Shang \u001b[0m\n",
       "\u001b[32mYang. They sought to create a strong, centralised state and a large army supported by a stable economy, which were \u001b[0m\n",
       "\u001b[32mdeveloped in the Qin homeland and implemented across China following its unification. Reforms included the \u001b[0m\n",
       "\u001b[32mstandardisation of currency, weights, measures, and the writing system, along with innovations in weaponry, \u001b[0m\n",
       "\u001b[32mtransportation and military tactics. The central government sought to undercut aristocrats and landowners and \u001b[0m\n",
       "\u001b[32madminister the peasantry directly, who comprised the vast majority of the population. This enabled numerous \u001b[0m\n",
       "\u001b[32mlarge-scale construction projects involving the labour of hundreds of thousands of peasants and convicts – which \u001b[0m\n",
       "\u001b[32mincluded the connection of walls along the northern border into what would eventually become the Great Wall of \u001b[0m\n",
       "\u001b[32mChina, a large national road system, and the city-sized Mausoleum of Qin Shi Huang guarded by the life-sized \u001b[0m\n",
       "\u001b[32mTerracotta Army. The state possessed an unprecedented capacity to transform the environment through the management \u001b[0m\n",
       "\u001b[32mof people and land; as a result, Qin's rise has been characterised as one of the most important events in East \u001b[0m\n",
       "\u001b[32mAsian environmental history.\\nWhen Qin Shi Huang died in 210 BC, two of his advisors placed an heir on the throne \u001b[0m\n",
       "\u001b[32min an attempt to exert control over the dynasty and wield state power. These advisors squabbled among themselves, \u001b[0m\n",
       "\u001b[32mresulting in both of their deaths and that of the second Qin emperor. Popular revolt broke out, and the weakened \u001b[0m\n",
       "\u001b[32mempire soon fell to Chu generals Xiang Yu and Liu Bang, the latter of whom founded the Han dynasty.\"\u001b[0m\n",
       "        \u001b[1m)\u001b[0m\n",
       "    \u001b[1m]\u001b[0m\n",
       "\u001b[1m}\u001b[0m\n"
      ]
     },
     "metadata": {},
     "output_type": "display_data"
    }
   ],
   "source": [
    "pprint(response)"
   ]
  },
  {
   "cell_type": "markdown",
   "id": "60f0a8f8-2650-41b6-880b-14c18d80a69c",
   "metadata": {},
   "source": [
    "## 2.3 Self-Ask with Search"
   ]
  },
  {
   "cell_type": "markdown",
   "id": "672e8829-080f-4f3d-ac56-65b806750bca",
   "metadata": {},
   "source": [
    "### 2.3.1 Set up tool"
   ]
  },
  {
   "cell_type": "code",
   "execution_count": 73,
   "id": "c466e7dc-7e94-42d4-a66a-259db2907237",
   "metadata": {},
   "outputs": [],
   "source": [
    "from langchain_community.utilities import GoogleSerperAPIWrapper\n",
    "\n",
    "search = GoogleSerperAPIWrapper()"
   ]
  },
  {
   "cell_type": "code",
   "execution_count": 74,
   "id": "f36fea77-3796-4f59-a3b1-aba3095ceed4",
   "metadata": {},
   "outputs": [],
   "source": [
    "tools = [\n",
    "    Tool(\n",
    "        name=\"Intermediate Answer\", func=search.run,\n",
    "        description='useful for when you need to ask with search'\n",
    "    )\n",
    "]"
   ]
  },
  {
   "cell_type": "markdown",
   "id": "1eef4ace-1a14-42b4-85d9-43358bee4a45",
   "metadata": {},
   "source": [
    "### Set up Agent"
   ]
  },
  {
   "cell_type": "code",
   "execution_count": 76,
   "id": "b869fadc-a2a5-4ad5-a4ca-cfbee3e7b2d3",
   "metadata": {},
   "outputs": [],
   "source": [
    "agent = initialize_agent(\n",
    "    tools, llm, \n",
    "    agent=AgentType.SELF_ASK_WITH_SEARCH,\n",
    "    max_iteration=5,\n",
    "    verbose=True,\n",
    "    return_intermediate_steps=True,\n",
    "    handle_parsing_errors=True\n",
    ")"
   ]
  },
  {
   "cell_type": "code",
   "execution_count": 77,
   "id": "6730e6b4-8cc1-48c9-af7c-dc8427e9117d",
   "metadata": {},
   "outputs": [
    {
     "name": "stdout",
     "output_type": "stream",
     "text": [
      "\n",
      "\n",
      "\u001b[1m> Entering new AgentExecutor chain...\u001b[0m\n",
      "\u001b[32;1m\u001b[1;3mYes.\n",
      "Follow up: Who was the Microsoft CEO of 2023?\u001b[0m\n",
      "Intermediate answer: \u001b[36;1m\u001b[1;3mSatya Nadella. Satya Narayana Nadella (/nəˈdɛlə/; born 19 August 1967) is an Indian-born American business executive who is the chairman and chief executive officer (CEO) of Microsoft, succeeding Steve Ballmer in 2014 as CEO and John W. Thompson in 2021 as chairman.\u001b[0m\n",
      "\u001b[32;1m\u001b[1;3mCould not parse output: So the final answer is: India\n",
      "\n",
      "For troubleshooting, visit: https://python.langchain.com/docs/troubleshooting/errors/OUTPUT_PARSING_FAILURE \u001b[0m\n",
      "Intermediate answer: Invalid or incomplete response\n",
      "\u001b[32;1m\u001b[1;3mAre follow up questions needed here: Yes.\n",
      "Follow up: Who was the Microsoft CEO of 2023?\u001b[0m\n",
      "Intermediate answer: \u001b[36;1m\u001b[1;3mSatya Nadella. Satya Narayana Nadella (/nəˈdɛlə/; born 19 August 1967) is an Indian-born American business executive who is the chairman and chief executive officer (CEO) of Microsoft, succeeding Steve Ballmer in 2014 as CEO and John W. Thompson in 2021 as chairman.\u001b[0m\n",
      "\u001b[32;1m\u001b[1;3mSo the final answer is: India\u001b[0m\n",
      "\n",
      "\u001b[1m> Finished chain.\u001b[0m\n"
     ]
    }
   ],
   "source": [
    "response = agent.invoke('Which country was Microsoft CEO of 2023 born in?')"
   ]
  },
  {
   "cell_type": "code",
   "execution_count": 78,
   "id": "9102622b-973a-4193-a845-720175f58700",
   "metadata": {},
   "outputs": [
    {
     "data": {
      "text/html": [
       "<pre style=\"white-space:pre;overflow-x:auto;line-height:normal;font-family:Menlo,'DejaVu Sans Mono',consolas,'Courier New',monospace\"><span style=\"font-weight: bold\">{</span>\n",
       "    <span style=\"color: #008000; text-decoration-color: #008000\">'input'</span>: <span style=\"color: #008000; text-decoration-color: #008000\">'Which country was Microsoft CEO of 2023 born in?'</span>,\n",
       "    <span style=\"color: #008000; text-decoration-color: #008000\">'output'</span>: <span style=\"color: #008000; text-decoration-color: #008000\">'India'</span>,\n",
       "    <span style=\"color: #008000; text-decoration-color: #008000\">'intermediate_steps'</span>: <span style=\"font-weight: bold\">[</span>\n",
       "        <span style=\"font-weight: bold\">(</span>\n",
       "            <span style=\"color: #800080; text-decoration-color: #800080; font-weight: bold\">AgentAction</span><span style=\"font-weight: bold\">(</span>\n",
       "                <span style=\"color: #808000; text-decoration-color: #808000\">tool</span>=<span style=\"color: #008000; text-decoration-color: #008000\">'Intermediate Answer'</span>,\n",
       "                <span style=\"color: #808000; text-decoration-color: #808000\">tool_input</span>=<span style=\"color: #008000; text-decoration-color: #008000\">'Who was the Microsoft CEO of 2023?'</span>,\n",
       "                <span style=\"color: #808000; text-decoration-color: #808000\">log</span>=<span style=\"color: #008000; text-decoration-color: #008000\">'Yes.\\nFollow up: Who was the Microsoft CEO of 2023?'</span>\n",
       "            <span style=\"font-weight: bold\">)</span>,\n",
       "            <span style=\"color: #008000; text-decoration-color: #008000\">'Satya Nadella. Satya Narayana Nadella (/nəˈdɛlə/; born 19 August 1967) is an Indian-born American </span>\n",
       "<span style=\"color: #008000; text-decoration-color: #008000\">business executive who is the chairman and chief executive officer (CEO) of Microsoft, succeeding Steve Ballmer in </span>\n",
       "<span style=\"color: #008000; text-decoration-color: #008000\">2014 as CEO and John W. Thompson in 2021 as chairman.'</span>\n",
       "        <span style=\"font-weight: bold\">)</span>,\n",
       "        <span style=\"font-weight: bold\">(</span>\n",
       "            <span style=\"color: #800080; text-decoration-color: #800080; font-weight: bold\">AgentAction</span><span style=\"font-weight: bold\">(</span>\n",
       "                <span style=\"color: #808000; text-decoration-color: #808000\">tool</span>=<span style=\"color: #008000; text-decoration-color: #008000\">'_Exception'</span>,\n",
       "                <span style=\"color: #808000; text-decoration-color: #808000\">tool_input</span>=<span style=\"color: #008000; text-decoration-color: #008000\">'Invalid or incomplete response'</span>,\n",
       "                <span style=\"color: #808000; text-decoration-color: #808000\">log</span>=<span style=\"color: #008000; text-decoration-color: #008000\">'Could not parse output: So the final answer is: India\\n\\nFor troubleshooting, visit: </span>\n",
       "<span style=\"color: #008000; text-decoration-color: #008000\">https://python.langchain.com/docs/troubleshooting/errors/OUTPUT_PARSING_FAILURE '</span>\n",
       "            <span style=\"font-weight: bold\">)</span>,\n",
       "            <span style=\"color: #008000; text-decoration-color: #008000\">'Invalid or incomplete response'</span>\n",
       "        <span style=\"font-weight: bold\">)</span>,\n",
       "        <span style=\"font-weight: bold\">(</span>\n",
       "            <span style=\"color: #800080; text-decoration-color: #800080; font-weight: bold\">AgentAction</span><span style=\"font-weight: bold\">(</span>\n",
       "                <span style=\"color: #808000; text-decoration-color: #808000\">tool</span>=<span style=\"color: #008000; text-decoration-color: #008000\">'Intermediate Answer'</span>,\n",
       "                <span style=\"color: #808000; text-decoration-color: #808000\">tool_input</span>=<span style=\"color: #008000; text-decoration-color: #008000\">'Who was the Microsoft CEO of 2023?'</span>,\n",
       "                <span style=\"color: #808000; text-decoration-color: #808000\">log</span>=<span style=\"color: #008000; text-decoration-color: #008000\">'Are follow up questions needed here: Yes.\\nFollow up: Who was the Microsoft CEO of 2023?'</span>\n",
       "            <span style=\"font-weight: bold\">)</span>,\n",
       "            <span style=\"color: #008000; text-decoration-color: #008000\">'Satya Nadella. Satya Narayana Nadella (/nəˈdɛlə/; born 19 August 1967) is an Indian-born American </span>\n",
       "<span style=\"color: #008000; text-decoration-color: #008000\">business executive who is the chairman and chief executive officer (CEO) of Microsoft, succeeding Steve Ballmer in </span>\n",
       "<span style=\"color: #008000; text-decoration-color: #008000\">2014 as CEO and John W. Thompson in 2021 as chairman.'</span>\n",
       "        <span style=\"font-weight: bold\">)</span>\n",
       "    <span style=\"font-weight: bold\">]</span>\n",
       "<span style=\"font-weight: bold\">}</span>\n",
       "</pre>\n"
      ],
      "text/plain": [
       "\u001b[1m{\u001b[0m\n",
       "    \u001b[32m'input'\u001b[0m: \u001b[32m'Which country was Microsoft CEO of 2023 born in?'\u001b[0m,\n",
       "    \u001b[32m'output'\u001b[0m: \u001b[32m'India'\u001b[0m,\n",
       "    \u001b[32m'intermediate_steps'\u001b[0m: \u001b[1m[\u001b[0m\n",
       "        \u001b[1m(\u001b[0m\n",
       "            \u001b[1;35mAgentAction\u001b[0m\u001b[1m(\u001b[0m\n",
       "                \u001b[33mtool\u001b[0m=\u001b[32m'Intermediate Answer'\u001b[0m,\n",
       "                \u001b[33mtool_input\u001b[0m=\u001b[32m'Who was the Microsoft CEO of 2023?'\u001b[0m,\n",
       "                \u001b[33mlog\u001b[0m=\u001b[32m'Yes.\\nFollow up: Who was the Microsoft CEO of 2023?'\u001b[0m\n",
       "            \u001b[1m)\u001b[0m,\n",
       "            \u001b[32m'Satya Nadella. Satya Narayana Nadella \u001b[0m\u001b[32m(\u001b[0m\u001b[32m/nəˈdɛlə/; born 19 August 1967\u001b[0m\u001b[32m)\u001b[0m\u001b[32m is an Indian-born American \u001b[0m\n",
       "\u001b[32mbusiness executive who is the chairman and chief executive officer \u001b[0m\u001b[32m(\u001b[0m\u001b[32mCEO\u001b[0m\u001b[32m)\u001b[0m\u001b[32m of Microsoft, succeeding Steve Ballmer in \u001b[0m\n",
       "\u001b[32m2014 as CEO and John W. Thompson in 2021 as chairman.'\u001b[0m\n",
       "        \u001b[1m)\u001b[0m,\n",
       "        \u001b[1m(\u001b[0m\n",
       "            \u001b[1;35mAgentAction\u001b[0m\u001b[1m(\u001b[0m\n",
       "                \u001b[33mtool\u001b[0m=\u001b[32m'_Exception'\u001b[0m,\n",
       "                \u001b[33mtool_input\u001b[0m=\u001b[32m'Invalid or incomplete response'\u001b[0m,\n",
       "                \u001b[33mlog\u001b[0m=\u001b[32m'Could not parse output: So the final answer is: India\\n\\nFor troubleshooting, visit: \u001b[0m\n",
       "\u001b[32mhttps://python.langchain.com/docs/troubleshooting/errors/OUTPUT_PARSING_FAILURE '\u001b[0m\n",
       "            \u001b[1m)\u001b[0m,\n",
       "            \u001b[32m'Invalid or incomplete response'\u001b[0m\n",
       "        \u001b[1m)\u001b[0m,\n",
       "        \u001b[1m(\u001b[0m\n",
       "            \u001b[1;35mAgentAction\u001b[0m\u001b[1m(\u001b[0m\n",
       "                \u001b[33mtool\u001b[0m=\u001b[32m'Intermediate Answer'\u001b[0m,\n",
       "                \u001b[33mtool_input\u001b[0m=\u001b[32m'Who was the Microsoft CEO of 2023?'\u001b[0m,\n",
       "                \u001b[33mlog\u001b[0m=\u001b[32m'Are follow up questions needed here: Yes.\\nFollow up: Who was the Microsoft CEO of 2023?'\u001b[0m\n",
       "            \u001b[1m)\u001b[0m,\n",
       "            \u001b[32m'Satya Nadella. Satya Narayana Nadella \u001b[0m\u001b[32m(\u001b[0m\u001b[32m/nəˈdɛlə/; born 19 August 1967\u001b[0m\u001b[32m)\u001b[0m\u001b[32m is an Indian-born American \u001b[0m\n",
       "\u001b[32mbusiness executive who is the chairman and chief executive officer \u001b[0m\u001b[32m(\u001b[0m\u001b[32mCEO\u001b[0m\u001b[32m)\u001b[0m\u001b[32m of Microsoft, succeeding Steve Ballmer in \u001b[0m\n",
       "\u001b[32m2014 as CEO and John W. Thompson in 2021 as chairman.'\u001b[0m\n",
       "        \u001b[1m)\u001b[0m\n",
       "    \u001b[1m]\u001b[0m\n",
       "\u001b[1m}\u001b[0m\n"
      ]
     },
     "metadata": {},
     "output_type": "display_data"
    }
   ],
   "source": [
    "pprint(response)"
   ]
  },
  {
   "cell_type": "markdown",
   "id": "f5e57bb6-4298-4000-8f5a-e2f5eb848b7d",
   "metadata": {},
   "source": [
    "***\n",
    "# 3. Tools for Agent\n",
    "A **Tool** in **LangChain** is a function or API that an agent can use to perform specific actions or retrieve information beyond the language model’s capabilities. Tools can be anything: a calculator, a web search, a database query, or even your own Python function."
   ]
  },
  {
   "cell_type": "code",
   "execution_count": null,
   "id": "313a8211-ed8b-4b57-a295-b036c594ade8",
   "metadata": {},
   "outputs": [],
   "source": []
  }
 ],
 "metadata": {
  "kernelspec": {
   "display_name": "Python 3 (ipykernel)",
   "language": "python",
   "name": "python3"
  },
  "language_info": {
   "codemirror_mode": {
    "name": "ipython",
    "version": 3
   },
   "file_extension": ".py",
   "mimetype": "text/x-python",
   "name": "python",
   "nbconvert_exporter": "python",
   "pygments_lexer": "ipython3",
   "version": "3.9.21"
  }
 },
 "nbformat": 4,
 "nbformat_minor": 5
}
