{
 "cells": [
  {
   "cell_type": "markdown",
   "id": "b567be9b-50cb-4280-9ebb-092d980f0cf2",
   "metadata": {},
   "source": [
    "# Create Agents by LangGraph\n",
    "**LangGraph** builds on **LangChain** to manage more workflows with branching paths, state processing, clear transitions between steps. **LangGraph** uses a graph-based structure for building stateful AI applications. \n",
    "<br>\n",
    "In **LangGraph**,\n",
    "* `nodes` represent individual tasks\n",
    "* `edges` define the paths that connect nodes\n",
    "* `state` is information that moves between nodes"
   ]
  },
  {
   "cell_type": "markdown",
   "id": "196f616f-c96d-4b13-a251-b390876d9e26",
   "metadata": {},
   "source": [
    "## Key components of AI application built on LangChain\n",
    "At the heart of every LangGraph AI application is a **state** object which defines a clear and strongly typed state for entire workflow. The **state** could be Python `TypedDict` or `LangGraph.State` object, ensuring that data passed between components is well-sstructured and type-checked.\n",
    "<br>\n",
    "Each **node** functions as a processing unit. They can handle tasks such as generating search queries, calling external API, transforming data, etc. These **nodes** are usually implemented as Python functions. \n",
    "<br>\n",
    "The **edges** between nodes determine the directed flow of data, defining how information moves through the graph. **Condiftional edges** allows you to define dynamic execution paths based on the runtime state."
   ]
  },
  {
   "cell_type": "markdown",
   "id": "2bd51193-b319-46a1-9889-c8ba93e2b03b",
   "metadata": {},
   "source": [
    "# Example of creating AI agent by LangGraph\n",
    "In this example, we will build an AI application that can interact with Fake bank system."
   ]
  },
  {
   "cell_type": "markdown",
   "id": "f88192db-5d5f-42b1-9fc7-4944058874d3",
   "metadata": {},
   "source": [
    "### Fake Bank System"
   ]
  },
  {
   "cell_type": "code",
   "execution_count": 1,
   "id": "0eeafebe-dfc1-46c8-a732-e2365d8533e1",
   "metadata": {},
   "outputs": [],
   "source": [
    "from pydantic import BaseModel\n",
    "\n",
    "class Account(BaseModel):\n",
    "    \"\"\"Represents a bank account with a name and balance.\"\"\"\n",
    "    name: str\n",
    "    balance: float\n",
    "\n",
    "\n",
    "class UserAccountSystem(BaseModel):\n",
    "    \"\"\"Represents a collection of bank accounts for a user.\"\"\"\n",
    "    accounts: list[Account]\n",
    "\n",
    "    def get_account_names(self) -> list[str]:\n",
    "        \"\"\"Returns a list of the names of all accounts.\"\"\"\n",
    "        return [acc.name for acc in self.accounts]\n",
    "\n",
    "    def get_account(self, name:str) -> Account:\n",
    "        \"\"\"Returns the account with the given name.\n",
    "\n",
    "        Raises:\n",
    "            ValueError: If no account with the given name exists.\n",
    "        \"\"\"\n",
    "        for acc in self.accounts:\n",
    "            if acc.name==name:\n",
    "                return acc\n",
    "        raise ValueError(f\"There is no account named {name}. Options are {', '.join(self.get_account_names())}\")\n",
    "\n",
    "    def transfer_money(self, amount: float, source_acc_name: str, dest_acc_name: str) -> None:\n",
    "        \"\"\"Transfers money from one account to another.\n",
    "\n",
    "        Raises:\n",
    "            ValueError: If the source account does not have enough funds.\n",
    "        \"\"\"\n",
    "        source_account = self.get_account(source_acc_name)\n",
    "        destination_account = self.get_account(dest_acc_name)\n",
    "        \n",
    "        if source_account.balance < amount:\n",
    "            error_message = (\n",
    "                f\"There is not enough funds in account {source_acc_name}. \"\n",
    "                f\"The balance is only ${source_account.balance}.\"\n",
    "            )\n",
    "            raise ValueError(error_message)\n",
    "        \n",
    "        source_account.balance = source_account.balance - amount\n",
    "        destination_account.balance = destination_account.balance + amount"
   ]
  },
  {
   "cell_type": "code",
   "execution_count": 2,
   "id": "ad80f6a7-a526-4140-9ce4-8b5c9b0dc7df",
   "metadata": {},
   "outputs": [],
   "source": [
    "user_accounts = UserAccountSystem(\n",
    "    accounts = [\n",
    "        Account(name=\"checking-account\", balance=100),\n",
    "        Account(name=\"savings-account\", balance=3000)\n",
    "    ]\n",
    ")"
   ]
  },
  {
   "cell_type": "markdown",
   "id": "50b987fe-0e1f-4e15-b09e-1b21b6df1418",
   "metadata": {},
   "source": [
    "### Define tools for agent\n",
    "We will employ the `tool` decorator to define tools for agent."
   ]
  },
  {
   "cell_type": "code",
   "execution_count": 3,
   "id": "5eb44b30-f1e2-4f0e-9149-91173758e7ed",
   "metadata": {},
   "outputs": [],
   "source": [
    "from langchain_core.tools import tool"
   ]
  },
  {
   "cell_type": "code",
   "execution_count": 4,
   "id": "18768cd6-12fa-4e4e-8abf-0f1399e8e3b6",
   "metadata": {},
   "outputs": [],
   "source": [
    "@tool\n",
    "def list_accounts() -> str:\n",
    "    \"\"\"List the names of the user's accounts.\"\"\"\n",
    "    return user_accounts.get_account_names()\n",
    "\n",
    "@tool\n",
    "def get_account_balance(account_name:str) -> str:\n",
    "    \"\"\"Get the balance of one of the user accounts by its exact name.\"\"\"\n",
    "    try:\n",
    "        acc = user_accounts.get_account(account_name)\n",
    "        return f\"${acc.balance}\"\n",
    "    except ValueError as error:\n",
    "        return f\"{error}\"\n",
    "\n",
    "@tool\n",
    "def transfer_money(amount:float, source_account:str, destination_account:str) -> str:\n",
    "    \"\"\"Transfer money between two accounts.\"\"\"\n",
    "    try:\n",
    "        user_accounts.transfer_money(amount, source_account, destination_account)\n",
    "        return \"Successful transaction\"\n",
    "    except ValueError as error:\n",
    "        return f\"{error}\""
   ]
  },
  {
   "cell_type": "code",
   "execution_count": 5,
   "id": "adff380c-4d43-4dd0-b898-ba9ed047a56e",
   "metadata": {},
   "outputs": [],
   "source": [
    "tools = [\n",
    "    list_accounts,\n",
    "    get_account_balance,\n",
    "    transfer_money\n",
    "]"
   ]
  },
  {
   "cell_type": "markdown",
   "id": "8d58a580-2f3d-4d34-9de6-34d07c384629",
   "metadata": {},
   "source": [
    "### Set up Prompt for instructing Agent to work"
   ]
  },
  {
   "cell_type": "code",
   "execution_count": 6,
   "id": "63adb017-d83a-4717-9f7e-1b6cb8d058c9",
   "metadata": {},
   "outputs": [],
   "source": [
    "from langchain_core.prompts import ChatPromptTemplate, MessagesPlaceholder, SystemMessagePromptTemplate"
   ]
  },
  {
   "cell_type": "code",
   "execution_count": 8,
   "id": "b76aad67-cac3-4636-93f5-4b1f0d76b6e0",
   "metadata": {},
   "outputs": [],
   "source": [
    "prompt_template = ChatPromptTemplate.from_messages([\n",
    "    SystemMessagePromptTemplate.from_template(\n",
    "        \"\"\"\n",
    "        You are an agent that helps the users manage their accounts in a Bank.\n",
    "        Users may not refer to their account by the exact name, so try to get a list of valid names\n",
    "        before getting a balance or executing a transaction.\n",
    "        \"\"\"\n",
    "    ),\n",
    "    MessagesPlaceholder(variable_name=\"messages\", optional=True)\n",
    "])"
   ]
  },
  {
   "cell_type": "markdown",
   "id": "7b60f1b8-2d61-408a-a04f-2922577cb2d7",
   "metadata": {},
   "source": [
    "### building Agent\n",
    "For using LangGraph to build AI Agent, we need to use Chat LLM."
   ]
  },
  {
   "cell_type": "code",
   "execution_count": 9,
   "id": "12fbb929-cd30-4088-84e0-018ec2593120",
   "metadata": {},
   "outputs": [],
   "source": [
    "from langchain_google_vertexai import ChatVertexAI\n",
    "\n",
    "llm = ChatVertexAI(\n",
    "    model_name=\"gemini-2.0-flash-001\",\n",
    "    temperature=0.0\n",
    ")"
   ]
  },
  {
   "cell_type": "code",
   "execution_count": 10,
   "id": "45b2d574-42a8-4a35-9989-55e6bbb26311",
   "metadata": {},
   "outputs": [],
   "source": [
    "from langgraph.prebuilt import create_react_agent\n",
    "\n",
    "agent = create_react_agent(\n",
    "    model=llm,\n",
    "    tools=tools,\n",
    "    prompt=prompt_template\n",
    ")"
   ]
  },
  {
   "cell_type": "code",
   "execution_count": 11,
   "id": "e7812c79-a991-4d28-9247-accfdc1180cd",
   "metadata": {},
   "outputs": [
    {
     "data": {
      "image/png": "[encoded data removed]",
      "text/plain": [
       "<IPython.core.display.Image object>"
      ]
     },
     "metadata": {},
     "output_type": "display_data"
    }
   ],
   "source": [
    "from IPython.display import Image, display\n",
    "\n",
    "display(Image(agent.get_graph().draw_mermaid_png()))"
   ]
  },
  {
   "cell_type": "markdown",
   "id": "9e150594-d661-41f1-8ee5-da77a9779613",
   "metadata": {},
   "source": [
    "### Define state for Agent"
   ]
  },
  {
   "cell_type": "code",
   "execution_count": 12,
   "id": "b99ce90e-70d6-4b1a-a336-1fbd1bdb1785",
   "metadata": {},
   "outputs": [],
   "source": [
    "initial_state = {\n",
    "    \"messages\" :[\n",
    "        (\"human\", \"Hello, what can you help me with?\")\n",
    "    ]\n",
    "}"
   ]
  },
  {
   "cell_type": "code",
   "execution_count": 13,
   "id": "0a18c275-11c4-4b7c-abf3-76f34980f653",
   "metadata": {},
   "outputs": [],
   "source": [
    "from rich import print as pprint"
   ]
  },
  {
   "cell_type": "code",
   "execution_count": 14,
   "id": "7e2cbf47-2f8e-48c8-ab3e-5034380f70ea",
   "metadata": {},
   "outputs": [
    {
     "data": {
      "text/html": [
       "<pre style=\"white-space:pre;overflow-x:auto;line-height:normal;font-family:Menlo,'DejaVu Sans Mono',consolas,'Courier New',monospace\"><span style=\"font-weight: bold\">{</span>\n",
       "    <span style=\"color: #008000; text-decoration-color: #008000\">'messages'</span>: <span style=\"font-weight: bold\">[</span>\n",
       "        <span style=\"color: #800080; text-decoration-color: #800080; font-weight: bold\">HumanMessage</span><span style=\"font-weight: bold\">(</span>\n",
       "            <span style=\"color: #808000; text-decoration-color: #808000\">content</span>=<span style=\"color: #008000; text-decoration-color: #008000\">'Hello, what can you help me with?'</span>,\n",
       "            <span style=\"color: #808000; text-decoration-color: #808000\">additional_kwargs</span>=<span style=\"font-weight: bold\">{}</span>,\n",
       "            <span style=\"color: #808000; text-decoration-color: #808000\">response_metadata</span>=<span style=\"font-weight: bold\">{}</span>,\n",
       "            <span style=\"color: #808000; text-decoration-color: #808000\">id</span>=<span style=\"color: #008000; text-decoration-color: #008000\">'f8fd91bc-17ff-4212-afb7-484c4e1da5b0'</span>\n",
       "        <span style=\"font-weight: bold\">)</span>,\n",
       "        <span style=\"color: #800080; text-decoration-color: #800080; font-weight: bold\">AIMessage</span><span style=\"font-weight: bold\">(</span>\n",
       "            <span style=\"color: #808000; text-decoration-color: #808000\">content</span>=<span style=\"color: #008000; text-decoration-color: #008000\">'I can help you with managing your bank accounts. I can list your accounts, get the balance of </span>\n",
       "<span style=\"color: #008000; text-decoration-color: #008000\">a specific account, or transfer money between two accounts. What would you like to do?\\n'</span>,\n",
       "            <span style=\"color: #808000; text-decoration-color: #808000\">additional_kwargs</span>=<span style=\"font-weight: bold\">{}</span>,\n",
       "            <span style=\"color: #808000; text-decoration-color: #808000\">response_metadata</span>=<span style=\"font-weight: bold\">{</span>\n",
       "                <span style=\"color: #008000; text-decoration-color: #008000\">'is_blocked'</span>: <span style=\"color: #ff0000; text-decoration-color: #ff0000; font-style: italic\">False</span>,\n",
       "                <span style=\"color: #008000; text-decoration-color: #008000\">'safety_ratings'</span>: <span style=\"font-weight: bold\">[]</span>,\n",
       "                <span style=\"color: #008000; text-decoration-color: #008000\">'usage_metadata'</span>: <span style=\"font-weight: bold\">{</span>\n",
       "                    <span style=\"color: #008000; text-decoration-color: #008000\">'prompt_token_count'</span>: <span style=\"color: #008080; text-decoration-color: #008080; font-weight: bold\">130</span>,\n",
       "                    <span style=\"color: #008000; text-decoration-color: #008000\">'candidates_token_count'</span>: <span style=\"color: #008080; text-decoration-color: #008080; font-weight: bold\">39</span>,\n",
       "                    <span style=\"color: #008000; text-decoration-color: #008000\">'total_token_count'</span>: <span style=\"color: #008080; text-decoration-color: #008080; font-weight: bold\">169</span>,\n",
       "                    <span style=\"color: #008000; text-decoration-color: #008000\">'prompt_tokens_details'</span>: <span style=\"font-weight: bold\">[{</span><span style=\"color: #008000; text-decoration-color: #008000\">'modality'</span>: <span style=\"color: #008080; text-decoration-color: #008080; font-weight: bold\">1</span>, <span style=\"color: #008000; text-decoration-color: #008000\">'token_count'</span>: <span style=\"color: #008080; text-decoration-color: #008080; font-weight: bold\">130</span><span style=\"font-weight: bold\">}]</span>,\n",
       "                    <span style=\"color: #008000; text-decoration-color: #008000\">'candidates_tokens_details'</span>: <span style=\"font-weight: bold\">[{</span><span style=\"color: #008000; text-decoration-color: #008000\">'modality'</span>: <span style=\"color: #008080; text-decoration-color: #008080; font-weight: bold\">1</span>, <span style=\"color: #008000; text-decoration-color: #008000\">'token_count'</span>: <span style=\"color: #008080; text-decoration-color: #008080; font-weight: bold\">39</span><span style=\"font-weight: bold\">}]</span>,\n",
       "                    <span style=\"color: #008000; text-decoration-color: #008000\">'thoughts_token_count'</span>: <span style=\"color: #008080; text-decoration-color: #008080; font-weight: bold\">0</span>,\n",
       "                    <span style=\"color: #008000; text-decoration-color: #008000\">'cached_content_token_count'</span>: <span style=\"color: #008080; text-decoration-color: #008080; font-weight: bold\">0</span>,\n",
       "                    <span style=\"color: #008000; text-decoration-color: #008000\">'cache_tokens_details'</span>: <span style=\"font-weight: bold\">[]</span>\n",
       "                <span style=\"font-weight: bold\">}</span>,\n",
       "                <span style=\"color: #008000; text-decoration-color: #008000\">'finish_reason'</span>: <span style=\"color: #008000; text-decoration-color: #008000\">'STOP'</span>,\n",
       "                <span style=\"color: #008000; text-decoration-color: #008000\">'avg_logprobs'</span>: <span style=\"color: #008080; text-decoration-color: #008080; font-weight: bold\">-0.026565741270016402</span>,\n",
       "                <span style=\"color: #008000; text-decoration-color: #008000\">'model_name'</span>: <span style=\"color: #008000; text-decoration-color: #008000\">'gemini-2.0-flash-001'</span>\n",
       "            <span style=\"font-weight: bold\">}</span>,\n",
       "            <span style=\"color: #808000; text-decoration-color: #808000\">id</span>=<span style=\"color: #008000; text-decoration-color: #008000\">'run--e686a04a-2ac4-4fc9-a62f-caa588b30096-0'</span>,\n",
       "            <span style=\"color: #808000; text-decoration-color: #808000\">usage_metadata</span>=<span style=\"font-weight: bold\">{</span><span style=\"color: #008000; text-decoration-color: #008000\">'input_tokens'</span>: <span style=\"color: #008080; text-decoration-color: #008080; font-weight: bold\">130</span>, <span style=\"color: #008000; text-decoration-color: #008000\">'output_tokens'</span>: <span style=\"color: #008080; text-decoration-color: #008080; font-weight: bold\">39</span>, <span style=\"color: #008000; text-decoration-color: #008000\">'total_tokens'</span>: <span style=\"color: #008080; text-decoration-color: #008080; font-weight: bold\">169</span><span style=\"font-weight: bold\">}</span>\n",
       "        <span style=\"font-weight: bold\">)</span>\n",
       "    <span style=\"font-weight: bold\">]</span>\n",
       "<span style=\"font-weight: bold\">}</span>\n",
       "</pre>\n"
      ],
      "text/plain": [
       "\u001b[1m{\u001b[0m\n",
       "    \u001b[32m'messages'\u001b[0m: \u001b[1m[\u001b[0m\n",
       "        \u001b[1;35mHumanMessage\u001b[0m\u001b[1m(\u001b[0m\n",
       "            \u001b[33mcontent\u001b[0m=\u001b[32m'Hello, what can you help me with?'\u001b[0m,\n",
       "            \u001b[33madditional_kwargs\u001b[0m=\u001b[1m{\u001b[0m\u001b[1m}\u001b[0m,\n",
       "            \u001b[33mresponse_metadata\u001b[0m=\u001b[1m{\u001b[0m\u001b[1m}\u001b[0m,\n",
       "            \u001b[33mid\u001b[0m=\u001b[32m'f8fd91bc-17ff-4212-afb7-484c4e1da5b0'\u001b[0m\n",
       "        \u001b[1m)\u001b[0m,\n",
       "        \u001b[1;35mAIMessage\u001b[0m\u001b[1m(\u001b[0m\n",
       "            \u001b[33mcontent\u001b[0m=\u001b[32m'I can help you with managing your bank accounts. I can list your accounts, get the balance of \u001b[0m\n",
       "\u001b[32ma specific account, or transfer money between two accounts. What would you like to do?\\n'\u001b[0m,\n",
       "            \u001b[33madditional_kwargs\u001b[0m=\u001b[1m{\u001b[0m\u001b[1m}\u001b[0m,\n",
       "            \u001b[33mresponse_metadata\u001b[0m=\u001b[1m{\u001b[0m\n",
       "                \u001b[32m'is_blocked'\u001b[0m: \u001b[3;91mFalse\u001b[0m,\n",
       "                \u001b[32m'safety_ratings'\u001b[0m: \u001b[1m[\u001b[0m\u001b[1m]\u001b[0m,\n",
       "                \u001b[32m'usage_metadata'\u001b[0m: \u001b[1m{\u001b[0m\n",
       "                    \u001b[32m'prompt_token_count'\u001b[0m: \u001b[1;36m130\u001b[0m,\n",
       "                    \u001b[32m'candidates_token_count'\u001b[0m: \u001b[1;36m39\u001b[0m,\n",
       "                    \u001b[32m'total_token_count'\u001b[0m: \u001b[1;36m169\u001b[0m,\n",
       "                    \u001b[32m'prompt_tokens_details'\u001b[0m: \u001b[1m[\u001b[0m\u001b[1m{\u001b[0m\u001b[32m'modality'\u001b[0m: \u001b[1;36m1\u001b[0m, \u001b[32m'token_count'\u001b[0m: \u001b[1;36m130\u001b[0m\u001b[1m}\u001b[0m\u001b[1m]\u001b[0m,\n",
       "                    \u001b[32m'candidates_tokens_details'\u001b[0m: \u001b[1m[\u001b[0m\u001b[1m{\u001b[0m\u001b[32m'modality'\u001b[0m: \u001b[1;36m1\u001b[0m, \u001b[32m'token_count'\u001b[0m: \u001b[1;36m39\u001b[0m\u001b[1m}\u001b[0m\u001b[1m]\u001b[0m,\n",
       "                    \u001b[32m'thoughts_token_count'\u001b[0m: \u001b[1;36m0\u001b[0m,\n",
       "                    \u001b[32m'cached_content_token_count'\u001b[0m: \u001b[1;36m0\u001b[0m,\n",
       "                    \u001b[32m'cache_tokens_details'\u001b[0m: \u001b[1m[\u001b[0m\u001b[1m]\u001b[0m\n",
       "                \u001b[1m}\u001b[0m,\n",
       "                \u001b[32m'finish_reason'\u001b[0m: \u001b[32m'STOP'\u001b[0m,\n",
       "                \u001b[32m'avg_logprobs'\u001b[0m: \u001b[1;36m-0.026565741270016402\u001b[0m,\n",
       "                \u001b[32m'model_name'\u001b[0m: \u001b[32m'gemini-2.0-flash-001'\u001b[0m\n",
       "            \u001b[1m}\u001b[0m,\n",
       "            \u001b[33mid\u001b[0m=\u001b[32m'run--e686a04a-2ac4-4fc9-a62f-caa588b30096-0'\u001b[0m,\n",
       "            \u001b[33musage_metadata\u001b[0m=\u001b[1m{\u001b[0m\u001b[32m'input_tokens'\u001b[0m: \u001b[1;36m130\u001b[0m, \u001b[32m'output_tokens'\u001b[0m: \u001b[1;36m39\u001b[0m, \u001b[32m'total_tokens'\u001b[0m: \u001b[1;36m169\u001b[0m\u001b[1m}\u001b[0m\n",
       "        \u001b[1m)\u001b[0m\n",
       "    \u001b[1m]\u001b[0m\n",
       "\u001b[1m}\u001b[0m\n"
      ]
     },
     "metadata": {},
     "output_type": "display_data"
    }
   ],
   "source": [
    "state = agent.invoke(initial_state)\n",
    "\n",
    "pprint(state)"
   ]
  },
  {
   "cell_type": "markdown",
   "id": "e854429e-e18e-40e9-8fc1-73a6cc404b86",
   "metadata": {},
   "source": [
    "pretty print for the steps of Agent"
   ]
  },
  {
   "cell_type": "code",
   "execution_count": 15,
   "id": "c7869367-5f35-4252-95a1-728d8a5578b9",
   "metadata": {},
   "outputs": [
    {
     "name": "stdout",
     "output_type": "stream",
     "text": [
      "================================\u001b[1m Human Message \u001b[0m=================================\n",
      "\n",
      "Hello, what can you help me with?\n",
      "==================================\u001b[1m Ai Message \u001b[0m==================================\n",
      "\n",
      "I can help you with managing your bank accounts. I can list your accounts, get the balance of a specific account, or transfer money between two accounts. What would you like to do?\n"
     ]
    }
   ],
   "source": [
    "for msg in state['messages']:\n",
    "    msg.pretty_print()"
   ]
  },
  {
   "cell_type": "code",
   "execution_count": 16,
   "id": "bf0fc51a-9eff-4db2-be8b-a62b69953d78",
   "metadata": {},
   "outputs": [],
   "source": [
    "def pretty_print_state(state):\n",
    "    for message in state['messages']:\n",
    "        message.pretty_print()"
   ]
  },
  {
   "cell_type": "markdown",
   "id": "d90d038a-8d18-4248-8c5a-fca1f57a49cc",
   "metadata": {},
   "source": [
    "### Prompt to agent that will trigger agent to call tools"
   ]
  },
  {
   "cell_type": "code",
   "execution_count": 19,
   "id": "1c82bf7d-a816-49f3-aaca-23f20ba07f59",
   "metadata": {},
   "outputs": [],
   "source": [
    "initial_state = {\n",
    "    \"messages\" :[\n",
    "        (\"human\", \"Whats the balance in my savings-account?\")\n",
    "    ]\n",
    "}\n",
    "\n",
    "state = agent.invoke(initial_state)"
   ]
  },
  {
   "cell_type": "code",
   "execution_count": 20,
   "id": "7655276a-a510-4b1e-a74d-2c512c2e513f",
   "metadata": {},
   "outputs": [
    {
     "name": "stdout",
     "output_type": "stream",
     "text": [
      "================================\u001b[1m Human Message \u001b[0m=================================\n",
      "\n",
      "Whats the balance in my savings-account?\n",
      "==================================\u001b[1m Ai Message \u001b[0m==================================\n",
      "Tool Calls:\n",
      "  list_accounts (ebcbc504-d669-490d-8376-fec3fcb7248f)\n",
      " Call ID: ebcbc504-d669-490d-8376-fec3fcb7248f\n",
      "  Args:\n",
      "=================================\u001b[1m Tool Message \u001b[0m=================================\n",
      "Name: list_accounts\n",
      "\n",
      "[\"checking-account\", \"savings-account\"]\n",
      "==================================\u001b[1m Ai Message \u001b[0m==================================\n",
      "Tool Calls:\n",
      "  get_account_balance (8de8c7c7-8890-41eb-8f4e-44645c122883)\n",
      " Call ID: 8de8c7c7-8890-41eb-8f4e-44645c122883\n",
      "  Args:\n",
      "    account_name: savings-account\n",
      "=================================\u001b[1m Tool Message \u001b[0m=================================\n",
      "Name: get_account_balance\n",
      "\n",
      "$3000.0\n",
      "==================================\u001b[1m Ai Message \u001b[0m==================================\n",
      "\n",
      "OK. The balance in your savings-account is $3000.0.\n"
     ]
    }
   ],
   "source": [
    "pretty_print_state(state)"
   ]
  },
  {
   "cell_type": "code",
   "execution_count": 21,
   "id": "dc0300d0-b7cb-4448-bb32-2c548c66944a",
   "metadata": {},
   "outputs": [],
   "source": [
    "initial_state = {\n",
    "    \"messages\" :[\n",
    "        (\"human\", \"Transfer $10 from checking-account to saving-account please\")\n",
    "    ]\n",
    "}\n",
    "\n",
    "state = agent.invoke(initial_state)"
   ]
  },
  {
   "cell_type": "code",
   "execution_count": 22,
   "id": "f76ce933-eb9e-43fc-8582-bd0f25f53354",
   "metadata": {},
   "outputs": [
    {
     "name": "stdout",
     "output_type": "stream",
     "text": [
      "================================\u001b[1m Human Message \u001b[0m=================================\n",
      "\n",
      "Transfer $10 from checking-account to saving-account please\n",
      "==================================\u001b[1m Ai Message \u001b[0m==================================\n",
      "Tool Calls:\n",
      "  transfer_money (00825634-0223-45c7-9154-aca107be4a71)\n",
      " Call ID: 00825634-0223-45c7-9154-aca107be4a71\n",
      "  Args:\n",
      "    destination_account: saving-account\n",
      "    source_account: checking-account\n",
      "    amount: 10.0\n",
      "=================================\u001b[1m Tool Message \u001b[0m=================================\n",
      "Name: transfer_money\n",
      "\n",
      "There is no account named saving-account. Options are checking-account, savings-account\n",
      "==================================\u001b[1m Ai Message \u001b[0m==================================\n",
      "Tool Calls:\n",
      "  transfer_money (32919258-fbc8-40cb-80b1-69d2a8014a8d)\n",
      " Call ID: 32919258-fbc8-40cb-80b1-69d2a8014a8d\n",
      "  Args:\n",
      "    destination_account: savings-account\n",
      "    source_account: checking-account\n",
      "    amount: 10.0\n",
      "=================================\u001b[1m Tool Message \u001b[0m=================================\n",
      "Name: transfer_money\n",
      "\n",
      "Successful transaction\n",
      "==================================\u001b[1m Ai Message \u001b[0m==================================\n",
      "\n",
      "OK. I have transferred $10 from checking-account to savings-account.\n"
     ]
    }
   ],
   "source": [
    "pretty_print_state(state)"
   ]
  },
  {
   "cell_type": "code",
   "execution_count": 23,
   "id": "628ed427-6427-4461-9787-8cdbf228227e",
   "metadata": {},
   "outputs": [
    {
     "name": "stdout",
     "output_type": "stream",
     "text": [
      "$3010.0\n"
     ]
    },
    {
     "name": "stderr",
     "output_type": "stream",
     "text": [
      "C:\\Users\\andrewchan\\AppData\\Local\\Temp\\ipykernel_20644\\1713787301.py:1: LangChainDeprecationWarning: The method `BaseTool.__call__` was deprecated in langchain-core 0.1.47 and will be removed in 1.0. Use :meth:`~invoke` instead.\n",
      "  print(get_account_balance(\"savings-account\"))\n"
     ]
    }
   ],
   "source": [
    "print(get_account_balance(\"savings-account\"))"
   ]
  },
  {
   "cell_type": "code",
   "execution_count": 24,
   "id": "251c3329-b50e-4aa0-8f3d-bc082305bc8a",
   "metadata": {},
   "outputs": [
    {
     "name": "stdout",
     "output_type": "stream",
     "text": [
      "$90.0\n"
     ]
    }
   ],
   "source": [
    "print(get_account_balance(\"checking-account\"))"
   ]
  },
  {
   "cell_type": "code",
   "execution_count": null,
   "id": "12d215b4-383b-496c-980e-cbb2bdef814a",
   "metadata": {},
   "outputs": [],
   "source": []
  }
 ],
 "metadata": {
  "kernelspec": {
   "display_name": "Python 3 (ipykernel)",
   "language": "python",
   "name": "python3"
  },
  "language_info": {
   "codemirror_mode": {
    "name": "ipython",
    "version": 3
   },
   "file_extension": ".py",
   "mimetype": "text/x-python",
   "name": "python",
   "nbconvert_exporter": "python",
   "pygments_lexer": "ipython3",
   "version": "3.9.21"
  }
 },
 "nbformat": 4,
 "nbformat_minor": 5
}
