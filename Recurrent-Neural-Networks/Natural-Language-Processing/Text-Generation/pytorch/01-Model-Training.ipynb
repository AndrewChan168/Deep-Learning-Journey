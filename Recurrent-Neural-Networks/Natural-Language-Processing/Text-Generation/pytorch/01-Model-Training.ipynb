{
 "cells": [
  {
   "cell_type": "code",
   "execution_count": 1,
   "id": "45ad3f49-feb7-49a8-935a-d3ac9cdcd848",
   "metadata": {},
   "outputs": [],
   "source": [
    "import os\n",
    "import pickle\n",
    "import torch\n",
    "from torch.utils.data import DataLoader"
   ]
  },
  {
   "cell_type": "code",
   "execution_count": 6,
   "id": "25d7b34c-7545-469e-9003-94674b12c56d",
   "metadata": {},
   "outputs": [
    {
     "name": "stdout",
     "output_type": "stream",
     "text": [
      "Using cuda\n"
     ]
    }
   ],
   "source": [
    "device = \"cuda\" if torch.cuda.is_available() else \"cpu\"\n",
    "print(f\"Using {device}\")"
   ]
  },
  {
   "cell_type": "code",
   "execution_count": 2,
   "id": "8c0f87cd-2f7a-40db-8686-87b10f9205c4",
   "metadata": {},
   "outputs": [],
   "source": [
    "with open(\"data/XY_pairs.pkl\", \"rb\") as file:\n",
    "    xy_pairs = pickle.load(file)\n",
    "\n",
    "with open(\"data/token_to_int.pkl\", \"rb\") as file:\n",
    "    token_to_int=pickle.load(file)\n",
    "\n",
    "with open(\"data/int_to_token.pkl\", \"rb\") as file:\n",
    "    int_to_token=pickle.load(file)"
   ]
  },
  {
   "cell_type": "markdown",
   "id": "47fc5f50-4b54-49b0-9180-dff48b95c556",
   "metadata": {},
   "source": [
    "Transform feature label pairs to Torch Tensor format. Then load the pairs to a DataLoader object"
   ]
  },
  {
   "cell_type": "code",
   "execution_count": 4,
   "id": "a60fa3ac-a9b7-4a3b-a8fb-6e0572402a7a",
   "metadata": {},
   "outputs": [],
   "source": [
    "fea_lbl_pairs = [(torch.tensor(x), torch.tensor(y)) for x,y in xy_pairs]"
   ]
  },
  {
   "cell_type": "code",
   "execution_count": 5,
   "id": "a06410a3-76a9-482f-b3af-7aeb4490a50b",
   "metadata": {},
   "outputs": [],
   "source": [
    "torch.manual_seed(42)\n",
    "BATCH_SIZE = 32\n",
    "loader = DataLoader(fea_lbl_pairs, batch_size=BATCH_SIZE, shuffle=True)"
   ]
  },
  {
   "cell_type": "markdown",
   "id": "7caca38f-2ee0-4fd0-9451-d82268d9bc2d",
   "metadata": {},
   "source": [
    "# Build the Model"
   ]
  },
  {
   "cell_type": "code",
   "execution_count": 7,
   "id": "aa496e8c-adee-4ebe-82c8-3e50bd79a522",
   "metadata": {},
   "outputs": [],
   "source": [
    "from torch import nn"
   ]
  },
  {
   "cell_type": "code",
   "execution_count": 14,
   "id": "003f928b-4aa8-414c-b1c5-a96c1cd6a61e",
   "metadata": {},
   "outputs": [],
   "source": [
    "class NextTokenLSTM(nn.Module):\n",
    "    def __init__(self, vocab_size, input_size=128, n_embed=128, n_layers=3, drop_prob=0.2):\n",
    "        super().__init__()\n",
    "        self.vocab_size = vocab_size\n",
    "        self.input_size = input_size\n",
    "        self.n_embed = n_embed\n",
    "        self.n_layers = n_layers\n",
    "        self.drop_prob = drop_prob\n",
    "        self.embedding = nn.Embedding(self.vocab_size, self.n_embed)\n",
    "        self.lstm = nn.LSTM(input_size=self.input_size, hidden_size=self.n_embed, num_layers=self.n_layers, dropout=self.drop_prob, batch_first=True)\n",
    "        self.full_connected = nn.Linear(self.input_size, self.vocab_size)\n",
    "\n",
    "    def forward(self, x, hc):\n",
    "        embed = self.embedding(x)\n",
    "        o, hc = self.lstm(embed, hc)\n",
    "        y = self.full_connected(o)\n",
    "        return y, hc\n",
    "\n",
    "    def initalize_hidden(self, batch_size):\n",
    "        weight = next(self.parameters()).data\n",
    "        return (weight.new(self.n_layers, batch_size, self.n_embed).zero_(), weight.new(self.n_layers, batch_size, self.n_embed).zero_())"
   ]
  },
  {
   "cell_type": "markdown",
   "id": "5d4a50d4-f519-41b5-ac48-1e329962ebd4",
   "metadata": {},
   "source": [
    "## Train the model"
   ]
  },
  {
   "cell_type": "code",
   "execution_count": 19,
   "id": "24198df1-ce7e-4502-b998-73300b0bcb49",
   "metadata": {},
   "outputs": [
    {
     "name": "stdout",
     "output_type": "stream",
     "text": [
      "NextTokenLSTM(\n",
      "  (embedding): Embedding(14094, 128)\n",
      "  (lstm): LSTM(128, 128, num_layers=3, batch_first=True, dropout=0.2)\n",
      "  (full_connected): Linear(in_features=128, out_features=14094, bias=True)\n",
      ")\n"
     ]
    }
   ],
   "source": [
    "model = NextTokenLSTM(len(token_to_int)).to(device)\n",
    "print(model)"
   ]
  },
  {
   "cell_type": "code",
   "execution_count": 20,
   "id": "fe38c15a-0529-4f9f-9f4d-79a4e545e9bd",
   "metadata": {},
   "outputs": [],
   "source": [
    "lr=0.0001\n",
    "optimizer = torch.optim.Adam(model.parameters(), lr=lr)\n",
    "loss_func = nn.CrossEntropyLoss()"
   ]
  },
  {
   "cell_type": "code",
   "execution_count": null,
   "id": "4f09655a-2df6-419c-966f-1029f6e3b357",
   "metadata": {},
   "outputs": [
    {
     "name": "stdout",
     "output_type": "stream",
     "text": [
      "at epoch 1 iteration 1000 average loss = 6.42337814950943\n",
      "at epoch 1 iteration 2000 average loss = 6.238867068052292\n"
     ]
    }
   ],
   "source": [
    "for epoch in range(50):\n",
    "    total_loss = 0.0\n",
    "    sh, sc = model.initalize_hidden(BATCH_SIZE)\n",
    "    for idx, (x, y) in enumerate(loader):\n",
    "        if x.shape[0]==BATCH_SIZE:\n",
    "            inputs, targets = x.to(device), y.to(device)\n",
    "            optimizer.zero_grad()\n",
    "            outputs, (sh, sc) = model(inputs, (sh, sc))\n",
    "            losses = loss_func(outputs.transpose(1,2), targets)\n",
    "            sh, sc = sh.detach(), sc.detach()\n",
    "            losses.backward()\n",
    "            nn.utils.clip_grad_norm_(model.parameters(), 5)\n",
    "            optimizer.step()\n",
    "            total_loss += losses.item()\n",
    "        if (idx+1)%1000==0:\n",
    "            print(f\"at epoch {epoch+1} iteration {idx+1} average loss = {total_loss/(idx+1)}\")"
   ]
  },
  {
   "cell_type": "markdown",
   "id": "1fefafdb-a342-48d3-a509-b1dbe4290528",
   "metadata": {},
   "source": [
    "save the trained model"
   ]
  },
  {
   "cell_type": "code",
   "execution_count": 23,
   "id": "6adef8e3-1d46-4175-90c2-5d0ab25bae4c",
   "metadata": {},
   "outputs": [],
   "source": [
    "torch.save(model.state_dict(), \"models/wordLSTM.pth\")"
   ]
  },
  {
   "cell_type": "code",
   "execution_count": null,
   "id": "ba09f15f-a88a-4c8a-9789-a0fbe51f3991",
   "metadata": {},
   "outputs": [],
   "source": []
  }
 ],
 "metadata": {
  "kernelspec": {
   "display_name": "Python 3 (ipykernel)",
   "language": "python",
   "name": "python3"
  },
  "language_info": {
   "codemirror_mode": {
    "name": "ipython",
    "version": 3
   },
   "file_extension": ".py",
   "mimetype": "text/x-python",
   "name": "python",
   "nbconvert_exporter": "python",
   "pygments_lexer": "ipython3",
   "version": "3.10.16"
  }
 },
 "nbformat": 4,
 "nbformat_minor": 5
}
